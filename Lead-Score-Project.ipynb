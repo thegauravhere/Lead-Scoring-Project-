{
 "cells": [
  {
   "cell_type": "code",
   "execution_count": 186,
   "id": "563dad07",
   "metadata": {},
   "outputs": [],
   "source": [
    "#import all libraries\n",
    "import numpy as np\n",
    "import pandas as pd\n",
    "import seaborn as sns\n",
    "import matplotlib.pyplot as plt\n",
    "\n",
    "\n",
    "import warnings\n",
    "warnings.filterwarnings('ignore')"
   ]
  },
  {
   "cell_type": "code",
   "execution_count": 187,
   "id": "0d6fd475",
   "metadata": {},
   "outputs": [
    {
     "data": {
      "text/html": [
       "<div>\n",
       "<style scoped>\n",
       "    .dataframe tbody tr th:only-of-type {\n",
       "        vertical-align: middle;\n",
       "    }\n",
       "\n",
       "    .dataframe tbody tr th {\n",
       "        vertical-align: top;\n",
       "    }\n",
       "\n",
       "    .dataframe thead th {\n",
       "        text-align: right;\n",
       "    }\n",
       "</style>\n",
       "<table border=\"1\" class=\"dataframe\">\n",
       "  <thead>\n",
       "    <tr style=\"text-align: right;\">\n",
       "      <th></th>\n",
       "      <th>Prospect ID</th>\n",
       "      <th>Lead Number</th>\n",
       "      <th>Lead Origin</th>\n",
       "      <th>Lead Source</th>\n",
       "      <th>Do Not Email</th>\n",
       "      <th>Do Not Call</th>\n",
       "      <th>Converted</th>\n",
       "      <th>TotalVisits</th>\n",
       "      <th>Total Time Spent on Website</th>\n",
       "      <th>Page Views Per Visit</th>\n",
       "      <th>...</th>\n",
       "      <th>Get updates on DM Content</th>\n",
       "      <th>Lead Profile</th>\n",
       "      <th>City</th>\n",
       "      <th>Asymmetrique Activity Index</th>\n",
       "      <th>Asymmetrique Profile Index</th>\n",
       "      <th>Asymmetrique Activity Score</th>\n",
       "      <th>Asymmetrique Profile Score</th>\n",
       "      <th>I agree to pay the amount through cheque</th>\n",
       "      <th>A free copy of Mastering The Interview</th>\n",
       "      <th>Last Notable Activity</th>\n",
       "    </tr>\n",
       "  </thead>\n",
       "  <tbody>\n",
       "    <tr>\n",
       "      <th>0</th>\n",
       "      <td>7927b2df-8bba-4d29-b9a2-b6e0beafe620</td>\n",
       "      <td>660737</td>\n",
       "      <td>API</td>\n",
       "      <td>Olark Chat</td>\n",
       "      <td>No</td>\n",
       "      <td>No</td>\n",
       "      <td>0</td>\n",
       "      <td>0.0</td>\n",
       "      <td>0</td>\n",
       "      <td>0.0</td>\n",
       "      <td>...</td>\n",
       "      <td>No</td>\n",
       "      <td>Select</td>\n",
       "      <td>Select</td>\n",
       "      <td>02.Medium</td>\n",
       "      <td>02.Medium</td>\n",
       "      <td>15.0</td>\n",
       "      <td>15.0</td>\n",
       "      <td>No</td>\n",
       "      <td>No</td>\n",
       "      <td>Modified</td>\n",
       "    </tr>\n",
       "    <tr>\n",
       "      <th>1</th>\n",
       "      <td>2a272436-5132-4136-86fa-dcc88c88f482</td>\n",
       "      <td>660728</td>\n",
       "      <td>API</td>\n",
       "      <td>Organic Search</td>\n",
       "      <td>No</td>\n",
       "      <td>No</td>\n",
       "      <td>0</td>\n",
       "      <td>5.0</td>\n",
       "      <td>674</td>\n",
       "      <td>2.5</td>\n",
       "      <td>...</td>\n",
       "      <td>No</td>\n",
       "      <td>Select</td>\n",
       "      <td>Select</td>\n",
       "      <td>02.Medium</td>\n",
       "      <td>02.Medium</td>\n",
       "      <td>15.0</td>\n",
       "      <td>15.0</td>\n",
       "      <td>No</td>\n",
       "      <td>No</td>\n",
       "      <td>Email Opened</td>\n",
       "    </tr>\n",
       "    <tr>\n",
       "      <th>2</th>\n",
       "      <td>8cc8c611-a219-4f35-ad23-fdfd2656bd8a</td>\n",
       "      <td>660727</td>\n",
       "      <td>Landing Page Submission</td>\n",
       "      <td>Direct Traffic</td>\n",
       "      <td>No</td>\n",
       "      <td>No</td>\n",
       "      <td>1</td>\n",
       "      <td>2.0</td>\n",
       "      <td>1532</td>\n",
       "      <td>2.0</td>\n",
       "      <td>...</td>\n",
       "      <td>No</td>\n",
       "      <td>Potential Lead</td>\n",
       "      <td>Mumbai</td>\n",
       "      <td>02.Medium</td>\n",
       "      <td>01.High</td>\n",
       "      <td>14.0</td>\n",
       "      <td>20.0</td>\n",
       "      <td>No</td>\n",
       "      <td>Yes</td>\n",
       "      <td>Email Opened</td>\n",
       "    </tr>\n",
       "    <tr>\n",
       "      <th>3</th>\n",
       "      <td>0cc2df48-7cf4-4e39-9de9-19797f9b38cc</td>\n",
       "      <td>660719</td>\n",
       "      <td>Landing Page Submission</td>\n",
       "      <td>Direct Traffic</td>\n",
       "      <td>No</td>\n",
       "      <td>No</td>\n",
       "      <td>0</td>\n",
       "      <td>1.0</td>\n",
       "      <td>305</td>\n",
       "      <td>1.0</td>\n",
       "      <td>...</td>\n",
       "      <td>No</td>\n",
       "      <td>Select</td>\n",
       "      <td>Mumbai</td>\n",
       "      <td>02.Medium</td>\n",
       "      <td>01.High</td>\n",
       "      <td>13.0</td>\n",
       "      <td>17.0</td>\n",
       "      <td>No</td>\n",
       "      <td>No</td>\n",
       "      <td>Modified</td>\n",
       "    </tr>\n",
       "    <tr>\n",
       "      <th>4</th>\n",
       "      <td>3256f628-e534-4826-9d63-4a8b88782852</td>\n",
       "      <td>660681</td>\n",
       "      <td>Landing Page Submission</td>\n",
       "      <td>Google</td>\n",
       "      <td>No</td>\n",
       "      <td>No</td>\n",
       "      <td>1</td>\n",
       "      <td>2.0</td>\n",
       "      <td>1428</td>\n",
       "      <td>1.0</td>\n",
       "      <td>...</td>\n",
       "      <td>No</td>\n",
       "      <td>Select</td>\n",
       "      <td>Mumbai</td>\n",
       "      <td>02.Medium</td>\n",
       "      <td>01.High</td>\n",
       "      <td>15.0</td>\n",
       "      <td>18.0</td>\n",
       "      <td>No</td>\n",
       "      <td>No</td>\n",
       "      <td>Modified</td>\n",
       "    </tr>\n",
       "  </tbody>\n",
       "</table>\n",
       "<p>5 rows × 37 columns</p>\n",
       "</div>"
      ],
      "text/plain": [
       "                            Prospect ID  Lead Number              Lead Origin  \\\n",
       "0  7927b2df-8bba-4d29-b9a2-b6e0beafe620       660737                      API   \n",
       "1  2a272436-5132-4136-86fa-dcc88c88f482       660728                      API   \n",
       "2  8cc8c611-a219-4f35-ad23-fdfd2656bd8a       660727  Landing Page Submission   \n",
       "3  0cc2df48-7cf4-4e39-9de9-19797f9b38cc       660719  Landing Page Submission   \n",
       "4  3256f628-e534-4826-9d63-4a8b88782852       660681  Landing Page Submission   \n",
       "\n",
       "      Lead Source Do Not Email Do Not Call  Converted  TotalVisits  \\\n",
       "0      Olark Chat           No          No          0          0.0   \n",
       "1  Organic Search           No          No          0          5.0   \n",
       "2  Direct Traffic           No          No          1          2.0   \n",
       "3  Direct Traffic           No          No          0          1.0   \n",
       "4          Google           No          No          1          2.0   \n",
       "\n",
       "   Total Time Spent on Website  Page Views Per Visit  ...  \\\n",
       "0                            0                   0.0  ...   \n",
       "1                          674                   2.5  ...   \n",
       "2                         1532                   2.0  ...   \n",
       "3                          305                   1.0  ...   \n",
       "4                         1428                   1.0  ...   \n",
       "\n",
       "  Get updates on DM Content    Lead Profile    City  \\\n",
       "0                        No          Select  Select   \n",
       "1                        No          Select  Select   \n",
       "2                        No  Potential Lead  Mumbai   \n",
       "3                        No          Select  Mumbai   \n",
       "4                        No          Select  Mumbai   \n",
       "\n",
       "  Asymmetrique Activity Index Asymmetrique Profile Index  \\\n",
       "0                   02.Medium                  02.Medium   \n",
       "1                   02.Medium                  02.Medium   \n",
       "2                   02.Medium                    01.High   \n",
       "3                   02.Medium                    01.High   \n",
       "4                   02.Medium                    01.High   \n",
       "\n",
       "  Asymmetrique Activity Score Asymmetrique Profile Score  \\\n",
       "0                        15.0                       15.0   \n",
       "1                        15.0                       15.0   \n",
       "2                        14.0                       20.0   \n",
       "3                        13.0                       17.0   \n",
       "4                        15.0                       18.0   \n",
       "\n",
       "  I agree to pay the amount through cheque  \\\n",
       "0                                       No   \n",
       "1                                       No   \n",
       "2                                       No   \n",
       "3                                       No   \n",
       "4                                       No   \n",
       "\n",
       "  A free copy of Mastering The Interview Last Notable Activity  \n",
       "0                                     No              Modified  \n",
       "1                                     No          Email Opened  \n",
       "2                                    Yes          Email Opened  \n",
       "3                                     No              Modified  \n",
       "4                                     No              Modified  \n",
       "\n",
       "[5 rows x 37 columns]"
      ]
     },
     "execution_count": 187,
     "metadata": {},
     "output_type": "execute_result"
    }
   ],
   "source": [
    "# Importing all datasets\n",
    "lead = pd.read_csv(\"Leads.csv\")\n",
    "lead.head()"
   ]
  },
  {
   "cell_type": "code",
   "execution_count": 188,
   "id": "b864aeff",
   "metadata": {},
   "outputs": [
    {
     "data": {
      "text/plain": [
       "(9240, 37)"
      ]
     },
     "execution_count": 188,
     "metadata": {},
     "output_type": "execute_result"
    }
   ],
   "source": [
    "#the no. of rows and columns i.e dimensions\n",
    "lead.shape"
   ]
  },
  {
   "cell_type": "code",
   "execution_count": 189,
   "id": "62132433",
   "metadata": {},
   "outputs": [
    {
     "data": {
      "text/html": [
       "<div>\n",
       "<style scoped>\n",
       "    .dataframe tbody tr th:only-of-type {\n",
       "        vertical-align: middle;\n",
       "    }\n",
       "\n",
       "    .dataframe tbody tr th {\n",
       "        vertical-align: top;\n",
       "    }\n",
       "\n",
       "    .dataframe thead th {\n",
       "        text-align: right;\n",
       "    }\n",
       "</style>\n",
       "<table border=\"1\" class=\"dataframe\">\n",
       "  <thead>\n",
       "    <tr style=\"text-align: right;\">\n",
       "      <th></th>\n",
       "      <th>Lead Number</th>\n",
       "      <th>Converted</th>\n",
       "      <th>TotalVisits</th>\n",
       "      <th>Total Time Spent on Website</th>\n",
       "      <th>Page Views Per Visit</th>\n",
       "      <th>Asymmetrique Activity Score</th>\n",
       "      <th>Asymmetrique Profile Score</th>\n",
       "    </tr>\n",
       "  </thead>\n",
       "  <tbody>\n",
       "    <tr>\n",
       "      <th>count</th>\n",
       "      <td>9240.000000</td>\n",
       "      <td>9240.000000</td>\n",
       "      <td>9103.000000</td>\n",
       "      <td>9240.000000</td>\n",
       "      <td>9103.000000</td>\n",
       "      <td>5022.000000</td>\n",
       "      <td>5022.000000</td>\n",
       "    </tr>\n",
       "    <tr>\n",
       "      <th>mean</th>\n",
       "      <td>617188.435606</td>\n",
       "      <td>0.385390</td>\n",
       "      <td>3.445238</td>\n",
       "      <td>487.698268</td>\n",
       "      <td>2.362820</td>\n",
       "      <td>14.306252</td>\n",
       "      <td>16.344883</td>\n",
       "    </tr>\n",
       "    <tr>\n",
       "      <th>std</th>\n",
       "      <td>23405.995698</td>\n",
       "      <td>0.486714</td>\n",
       "      <td>4.854853</td>\n",
       "      <td>548.021466</td>\n",
       "      <td>2.161418</td>\n",
       "      <td>1.386694</td>\n",
       "      <td>1.811395</td>\n",
       "    </tr>\n",
       "    <tr>\n",
       "      <th>min</th>\n",
       "      <td>579533.000000</td>\n",
       "      <td>0.000000</td>\n",
       "      <td>0.000000</td>\n",
       "      <td>0.000000</td>\n",
       "      <td>0.000000</td>\n",
       "      <td>7.000000</td>\n",
       "      <td>11.000000</td>\n",
       "    </tr>\n",
       "    <tr>\n",
       "      <th>25%</th>\n",
       "      <td>596484.500000</td>\n",
       "      <td>0.000000</td>\n",
       "      <td>1.000000</td>\n",
       "      <td>12.000000</td>\n",
       "      <td>1.000000</td>\n",
       "      <td>14.000000</td>\n",
       "      <td>15.000000</td>\n",
       "    </tr>\n",
       "    <tr>\n",
       "      <th>50%</th>\n",
       "      <td>615479.000000</td>\n",
       "      <td>0.000000</td>\n",
       "      <td>3.000000</td>\n",
       "      <td>248.000000</td>\n",
       "      <td>2.000000</td>\n",
       "      <td>14.000000</td>\n",
       "      <td>16.000000</td>\n",
       "    </tr>\n",
       "    <tr>\n",
       "      <th>75%</th>\n",
       "      <td>637387.250000</td>\n",
       "      <td>1.000000</td>\n",
       "      <td>5.000000</td>\n",
       "      <td>936.000000</td>\n",
       "      <td>3.000000</td>\n",
       "      <td>15.000000</td>\n",
       "      <td>18.000000</td>\n",
       "    </tr>\n",
       "    <tr>\n",
       "      <th>max</th>\n",
       "      <td>660737.000000</td>\n",
       "      <td>1.000000</td>\n",
       "      <td>251.000000</td>\n",
       "      <td>2272.000000</td>\n",
       "      <td>55.000000</td>\n",
       "      <td>18.000000</td>\n",
       "      <td>20.000000</td>\n",
       "    </tr>\n",
       "  </tbody>\n",
       "</table>\n",
       "</div>"
      ],
      "text/plain": [
       "         Lead Number    Converted  TotalVisits  Total Time Spent on Website  \\\n",
       "count    9240.000000  9240.000000  9103.000000                  9240.000000   \n",
       "mean   617188.435606     0.385390     3.445238                   487.698268   \n",
       "std     23405.995698     0.486714     4.854853                   548.021466   \n",
       "min    579533.000000     0.000000     0.000000                     0.000000   \n",
       "25%    596484.500000     0.000000     1.000000                    12.000000   \n",
       "50%    615479.000000     0.000000     3.000000                   248.000000   \n",
       "75%    637387.250000     1.000000     5.000000                   936.000000   \n",
       "max    660737.000000     1.000000   251.000000                  2272.000000   \n",
       "\n",
       "       Page Views Per Visit  Asymmetrique Activity Score  \\\n",
       "count           9103.000000                  5022.000000   \n",
       "mean               2.362820                    14.306252   \n",
       "std                2.161418                     1.386694   \n",
       "min                0.000000                     7.000000   \n",
       "25%                1.000000                    14.000000   \n",
       "50%                2.000000                    14.000000   \n",
       "75%                3.000000                    15.000000   \n",
       "max               55.000000                    18.000000   \n",
       "\n",
       "       Asymmetrique Profile Score  \n",
       "count                 5022.000000  \n",
       "mean                    16.344883  \n",
       "std                      1.811395  \n",
       "min                     11.000000  \n",
       "25%                     15.000000  \n",
       "50%                     16.000000  \n",
       "75%                     18.000000  \n",
       "max                     20.000000  "
      ]
     },
     "execution_count": 189,
     "metadata": {},
     "output_type": "execute_result"
    }
   ],
   "source": [
    "#summary of the numeric variables i.e statistical aspects \n",
    "lead.describe()"
   ]
  },
  {
   "cell_type": "code",
   "execution_count": 190,
   "id": "af96d5bd",
   "metadata": {},
   "outputs": [
    {
     "name": "stdout",
     "output_type": "stream",
     "text": [
      "<class 'pandas.core.frame.DataFrame'>\n",
      "RangeIndex: 9240 entries, 0 to 9239\n",
      "Data columns (total 37 columns):\n",
      " #   Column                                         Non-Null Count  Dtype  \n",
      "---  ------                                         --------------  -----  \n",
      " 0   Prospect ID                                    9240 non-null   object \n",
      " 1   Lead Number                                    9240 non-null   int64  \n",
      " 2   Lead Origin                                    9240 non-null   object \n",
      " 3   Lead Source                                    9204 non-null   object \n",
      " 4   Do Not Email                                   9240 non-null   object \n",
      " 5   Do Not Call                                    9240 non-null   object \n",
      " 6   Converted                                      9240 non-null   int64  \n",
      " 7   TotalVisits                                    9103 non-null   float64\n",
      " 8   Total Time Spent on Website                    9240 non-null   int64  \n",
      " 9   Page Views Per Visit                           9103 non-null   float64\n",
      " 10  Last Activity                                  9137 non-null   object \n",
      " 11  Country                                        6779 non-null   object \n",
      " 12  Specialization                                 7802 non-null   object \n",
      " 13  How did you hear about X Education             7033 non-null   object \n",
      " 14  What is your current occupation                6550 non-null   object \n",
      " 15  What matters most to you in choosing a course  6531 non-null   object \n",
      " 16  Search                                         9240 non-null   object \n",
      " 17  Magazine                                       9240 non-null   object \n",
      " 18  Newspaper Article                              9240 non-null   object \n",
      " 19  X Education Forums                             9240 non-null   object \n",
      " 20  Newspaper                                      9240 non-null   object \n",
      " 21  Digital Advertisement                          9240 non-null   object \n",
      " 22  Through Recommendations                        9240 non-null   object \n",
      " 23  Receive More Updates About Our Courses         9240 non-null   object \n",
      " 24  Tags                                           5887 non-null   object \n",
      " 25  Lead Quality                                   4473 non-null   object \n",
      " 26  Update me on Supply Chain Content              9240 non-null   object \n",
      " 27  Get updates on DM Content                      9240 non-null   object \n",
      " 28  Lead Profile                                   6531 non-null   object \n",
      " 29  City                                           7820 non-null   object \n",
      " 30  Asymmetrique Activity Index                    5022 non-null   object \n",
      " 31  Asymmetrique Profile Index                     5022 non-null   object \n",
      " 32  Asymmetrique Activity Score                    5022 non-null   float64\n",
      " 33  Asymmetrique Profile Score                     5022 non-null   float64\n",
      " 34  I agree to pay the amount through cheque       9240 non-null   object \n",
      " 35  A free copy of Mastering The Interview         9240 non-null   object \n",
      " 36  Last Notable Activity                          9240 non-null   object \n",
      "dtypes: float64(4), int64(3), object(30)\n",
      "memory usage: 1.6+ MB\n"
     ]
    }
   ],
   "source": [
    "#information that needs to be inspected\n",
    "lead.info()"
   ]
  },
  {
   "cell_type": "code",
   "execution_count": 191,
   "id": "e5a0173b",
   "metadata": {},
   "outputs": [
    {
     "data": {
      "text/plain": [
       "Prospect ID                                         0\n",
       "Lead Number                                         0\n",
       "Lead Origin                                         0\n",
       "Lead Source                                        36\n",
       "Do Not Email                                        0\n",
       "Do Not Call                                         0\n",
       "Converted                                           0\n",
       "TotalVisits                                       137\n",
       "Total Time Spent on Website                         0\n",
       "Page Views Per Visit                              137\n",
       "Last Activity                                     103\n",
       "Country                                          2461\n",
       "Specialization                                   1438\n",
       "How did you hear about X Education               2207\n",
       "What is your current occupation                  2690\n",
       "What matters most to you in choosing a course    2709\n",
       "Search                                              0\n",
       "Magazine                                            0\n",
       "Newspaper Article                                   0\n",
       "X Education Forums                                  0\n",
       "Newspaper                                           0\n",
       "Digital Advertisement                               0\n",
       "Through Recommendations                             0\n",
       "Receive More Updates About Our Courses              0\n",
       "Tags                                             3353\n",
       "Lead Quality                                     4767\n",
       "Update me on Supply Chain Content                   0\n",
       "Get updates on DM Content                           0\n",
       "Lead Profile                                     2709\n",
       "City                                             1420\n",
       "Asymmetrique Activity Index                      4218\n",
       "Asymmetrique Profile Index                       4218\n",
       "Asymmetrique Activity Score                      4218\n",
       "Asymmetrique Profile Score                       4218\n",
       "I agree to pay the amount through cheque            0\n",
       "A free copy of Mastering The Interview              0\n",
       "Last Notable Activity                               0\n",
       "dtype: int64"
      ]
     },
     "execution_count": 191,
     "metadata": {},
     "output_type": "execute_result"
    }
   ],
   "source": [
    "#finding null value count\n",
    "lead.isnull().sum()"
   ]
  },
  {
   "cell_type": "code",
   "execution_count": 192,
   "id": "b2f8334d",
   "metadata": {},
   "outputs": [],
   "source": [
    "#dropping columns as per the above null value count \n",
    "lead = lead.drop(['Country','Asymmetrique Activity Index','Update me on Supply Chain Content','Get updates on DM Content',\n",
    "                  'Asymmetrique Profile Index','Asymmetrique Activity Score','Search','Magazine','Newspaper Article','Newspaper',\n",
    "                  'Asymmetrique Profile Score','I agree to pay the amount through cheque','X Education Forums','Digital Advertisement',\n",
    "                  'Last Notable Activity','Lead Origin','Prospect ID','Do Not Call','Do Not Email','Lead Quality','A free copy of Mastering The Interview','Lead Number','Receive More Updates About Our Courses','Through Recommendations'],axis = 1)"
   ]
  },
  {
   "cell_type": "code",
   "execution_count": 193,
   "id": "952014e3",
   "metadata": {},
   "outputs": [
    {
     "data": {
      "text/plain": [
       "Lead Source                                        36\n",
       "Converted                                           0\n",
       "TotalVisits                                       137\n",
       "Total Time Spent on Website                         0\n",
       "Page Views Per Visit                              137\n",
       "Last Activity                                     103\n",
       "Specialization                                   1438\n",
       "How did you hear about X Education               2207\n",
       "What is your current occupation                  2690\n",
       "What matters most to you in choosing a course    2709\n",
       "Tags                                             3353\n",
       "Lead Profile                                     2709\n",
       "City                                             1420\n",
       "dtype: int64"
      ]
     },
     "execution_count": 193,
     "metadata": {},
     "output_type": "execute_result"
    }
   ],
   "source": [
    "#checking the null value for updated dataframe\n",
    "lead.isnull().sum()"
   ]
  },
  {
   "cell_type": "code",
   "execution_count": 194,
   "id": "6a0490fc",
   "metadata": {},
   "outputs": [
    {
     "name": "stdout",
     "output_type": "stream",
     "text": [
      "<class 'pandas.core.frame.DataFrame'>\n",
      "RangeIndex: 9240 entries, 0 to 9239\n",
      "Data columns (total 13 columns):\n",
      " #   Column                                         Non-Null Count  Dtype  \n",
      "---  ------                                         --------------  -----  \n",
      " 0   Lead Source                                    9204 non-null   object \n",
      " 1   Converted                                      9240 non-null   int64  \n",
      " 2   TotalVisits                                    9103 non-null   float64\n",
      " 3   Total Time Spent on Website                    9240 non-null   int64  \n",
      " 4   Page Views Per Visit                           9103 non-null   float64\n",
      " 5   Last Activity                                  9137 non-null   object \n",
      " 6   Specialization                                 7802 non-null   object \n",
      " 7   How did you hear about X Education             7033 non-null   object \n",
      " 8   What is your current occupation                6550 non-null   object \n",
      " 9   What matters most to you in choosing a course  6531 non-null   object \n",
      " 10  Tags                                           5887 non-null   object \n",
      " 11  Lead Profile                                   6531 non-null   object \n",
      " 12  City                                           7820 non-null   object \n",
      "dtypes: float64(2), int64(2), object(9)\n",
      "memory usage: 613.7+ KB\n"
     ]
    }
   ],
   "source": [
    "#checking information that needs to be inspected on updated dataframe\n",
    "lead.info()"
   ]
  },
  {
   "cell_type": "markdown",
   "id": "3d1be0a7",
   "metadata": {},
   "source": [
    "# Missing value imputation"
   ]
  },
  {
   "cell_type": "code",
   "execution_count": 195,
   "id": "2fe2bf1e",
   "metadata": {},
   "outputs": [],
   "source": [
    "# Now let's impute the missing values for each variable by checking numerical summary for these variables (using describe function) \n",
    "# and choosing the appropriate value to be used for imputation  "
   ]
  },
  {
   "cell_type": "markdown",
   "id": "ec1c49dd",
   "metadata": {},
   "source": [
    "### 1.Page Views Per Visit"
   ]
  },
  {
   "cell_type": "code",
   "execution_count": 196,
   "id": "fb4243bb",
   "metadata": {},
   "outputs": [
    {
     "data": {
      "text/plain": [
       "count    9103.000000\n",
       "mean        2.362820\n",
       "std         2.161418\n",
       "min         0.000000\n",
       "25%         1.000000\n",
       "50%         2.000000\n",
       "75%         3.000000\n",
       "max        55.000000\n",
       "Name: Page Views Per Visit, dtype: float64"
      ]
     },
     "execution_count": 196,
     "metadata": {},
     "output_type": "execute_result"
    }
   ],
   "source": [
    "lead['Page Views Per Visit'].describe()"
   ]
  },
  {
   "cell_type": "code",
   "execution_count": 197,
   "id": "50bf2784",
   "metadata": {},
   "outputs": [
    {
     "data": {
      "text/plain": [
       "3.0"
      ]
     },
     "execution_count": 197,
     "metadata": {},
     "output_type": "execute_result"
    }
   ],
   "source": [
    "PV_mode = lead['TotalVisits'].median()\n",
    "PV_mode"
   ]
  },
  {
   "cell_type": "code",
   "execution_count": 198,
   "id": "51e50bbb",
   "metadata": {},
   "outputs": [],
   "source": [
    "lead['Page Views Per Visit'].fillna(PV_mode,inplace=True)"
   ]
  },
  {
   "cell_type": "markdown",
   "id": "21ace2dd",
   "metadata": {},
   "source": [
    "### 2.TotalVisits"
   ]
  },
  {
   "cell_type": "code",
   "execution_count": 199,
   "id": "2a8fbbe9",
   "metadata": {},
   "outputs": [
    {
     "data": {
      "text/plain": [
       "count    9103.000000\n",
       "mean        3.445238\n",
       "std         4.854853\n",
       "min         0.000000\n",
       "25%         1.000000\n",
       "50%         3.000000\n",
       "75%         5.000000\n",
       "max       251.000000\n",
       "Name: TotalVisits, dtype: float64"
      ]
     },
     "execution_count": 199,
     "metadata": {},
     "output_type": "execute_result"
    }
   ],
   "source": [
    "lead['TotalVisits'].describe()"
   ]
  },
  {
   "cell_type": "code",
   "execution_count": 200,
   "id": "ea67a507",
   "metadata": {},
   "outputs": [
    {
     "data": {
      "text/plain": [
       "3.0"
      ]
     },
     "execution_count": 200,
     "metadata": {},
     "output_type": "execute_result"
    }
   ],
   "source": [
    "TV_mode = lead.TotalVisits.median()\n",
    "TV_mode"
   ]
  },
  {
   "cell_type": "code",
   "execution_count": 201,
   "id": "e2512e94",
   "metadata": {},
   "outputs": [],
   "source": [
    "lead.TotalVisits.fillna(TV_mode,inplace=True)"
   ]
  },
  {
   "cell_type": "markdown",
   "id": "9e579bea",
   "metadata": {},
   "source": [
    "### 3. What is your current occupation"
   ]
  },
  {
   "cell_type": "code",
   "execution_count": 202,
   "id": "a64d038c",
   "metadata": {},
   "outputs": [
    {
     "data": {
      "text/plain": [
       "Unemployed              5600\n",
       "NaN                     2690\n",
       "Working Professional     706\n",
       "Student                  210\n",
       "Other                     16\n",
       "Housewife                 10\n",
       "Businessman                8\n",
       "Name: What is your current occupation, dtype: int64"
      ]
     },
     "execution_count": 202,
     "metadata": {},
     "output_type": "execute_result"
    }
   ],
   "source": [
    "lead['What is your current occupation'].value_counts(dropna=False)"
   ]
  },
  {
   "cell_type": "code",
   "execution_count": 203,
   "id": "16f3927e",
   "metadata": {},
   "outputs": [],
   "source": [
    "lead['What is your current occupation'] = lead['What is your current occupation'].replace(np.nan, 'Other')"
   ]
  },
  {
   "cell_type": "code",
   "execution_count": 204,
   "id": "73fc7ddf",
   "metadata": {},
   "outputs": [
    {
     "data": {
      "text/plain": [
       "Unemployed              5600\n",
       "Other                   2706\n",
       "Working Professional     706\n",
       "Student                  210\n",
       "Housewife                 10\n",
       "Businessman                8\n",
       "Name: What is your current occupation, dtype: int64"
      ]
     },
     "execution_count": 204,
     "metadata": {},
     "output_type": "execute_result"
    }
   ],
   "source": [
    "lead['What is your current occupation'].value_counts()"
   ]
  },
  {
   "cell_type": "code",
   "execution_count": null,
   "id": "f42accb4",
   "metadata": {},
   "outputs": [],
   "source": []
  },
  {
   "cell_type": "markdown",
   "id": "3d08812e",
   "metadata": {},
   "source": [
    "### 4. What matters most to you in choosing a course"
   ]
  },
  {
   "cell_type": "code",
   "execution_count": 205,
   "id": "5eb87545",
   "metadata": {},
   "outputs": [
    {
     "data": {
      "text/plain": [
       "Better Career Prospects      6528\n",
       "NaN                          2709\n",
       "Flexibility & Convenience       2\n",
       "Other                           1\n",
       "Name: What matters most to you in choosing a course, dtype: int64"
      ]
     },
     "execution_count": 205,
     "metadata": {},
     "output_type": "execute_result"
    }
   ],
   "source": [
    "lead['What matters most to you in choosing a course'].value_counts(dropna=False)"
   ]
  },
  {
   "cell_type": "code",
   "execution_count": 206,
   "id": "3b9026c2",
   "metadata": {},
   "outputs": [],
   "source": [
    "lead['What matters most to you in choosing a course'] = lead['What matters most to you in choosing a course'].replace(np.nan, 'Other')"
   ]
  },
  {
   "cell_type": "code",
   "execution_count": 207,
   "id": "89812cb8",
   "metadata": {},
   "outputs": [
    {
     "data": {
      "text/plain": [
       "Better Career Prospects      6528\n",
       "Other                        2710\n",
       "Flexibility & Convenience       2\n",
       "Name: What matters most to you in choosing a course, dtype: int64"
      ]
     },
     "execution_count": 207,
     "metadata": {},
     "output_type": "execute_result"
    }
   ],
   "source": [
    "lead['What matters most to you in choosing a course'].value_counts(dropna=False)"
   ]
  },
  {
   "cell_type": "markdown",
   "id": "4245d007",
   "metadata": {},
   "source": [
    "### 5.Last Activity"
   ]
  },
  {
   "cell_type": "code",
   "execution_count": 208,
   "id": "73afe6df",
   "metadata": {},
   "outputs": [
    {
     "data": {
      "text/plain": [
       "Email Opened                    0.376163\n",
       "SMS Sent                        0.300427\n",
       "Olark Chat Conversation         0.106490\n",
       "Page Visited on Website         0.070045\n",
       "Converted to Lead               0.046843\n",
       "Email Bounced                   0.035679\n",
       "Email Link Clicked              0.029222\n",
       "Form Submitted on Website       0.012696\n",
       "Unreachable                     0.010178\n",
       "Unsubscribed                    0.006676\n",
       "Had a Phone Conversation        0.003283\n",
       "Approached upfront              0.000985\n",
       "View in browser link Clicked    0.000657\n",
       "Email Received                  0.000219\n",
       "Email Marked Spam               0.000219\n",
       "Visited Booth in Tradeshow      0.000109\n",
       "Resubscribed to emails          0.000109\n",
       "Name: Last Activity, dtype: float64"
      ]
     },
     "execution_count": 208,
     "metadata": {},
     "output_type": "execute_result"
    }
   ],
   "source": [
    "lead['Last Activity'].value_counts(normalize =True)"
   ]
  },
  {
   "cell_type": "code",
   "execution_count": 209,
   "id": "ab625545",
   "metadata": {},
   "outputs": [
    {
     "data": {
      "text/plain": [
       "'Email Opened'"
      ]
     },
     "execution_count": 209,
     "metadata": {},
     "output_type": "execute_result"
    }
   ],
   "source": [
    "LA_mode = lead['Last Activity'].mode()[0]\n",
    "LA_mode"
   ]
  },
  {
   "cell_type": "code",
   "execution_count": 210,
   "id": "b6281215",
   "metadata": {},
   "outputs": [],
   "source": [
    "lead['Last Activity'].fillna(LA_mode,inplace=True)"
   ]
  },
  {
   "cell_type": "markdown",
   "id": "27c15704",
   "metadata": {},
   "source": [
    "### 6.Specialization"
   ]
  },
  {
   "cell_type": "code",
   "execution_count": 211,
   "id": "b15a3bc2",
   "metadata": {},
   "outputs": [
    {
     "data": {
      "text/plain": [
       "Select                               1942\n",
       "NaN                                  1438\n",
       "Finance Management                    976\n",
       "Human Resource Management             848\n",
       "Marketing Management                  838\n",
       "Operations Management                 503\n",
       "Business Administration               403\n",
       "IT Projects Management                366\n",
       "Supply Chain Management               349\n",
       "Banking, Investment And Insurance     338\n",
       "Media and Advertising                 203\n",
       "Travel and Tourism                    203\n",
       "International Business                178\n",
       "Healthcare Management                 159\n",
       "Hospitality Management                114\n",
       "E-COMMERCE                            112\n",
       "Retail Management                     100\n",
       "Rural and Agribusiness                 73\n",
       "E-Business                             57\n",
       "Services Excellence                    40\n",
       "Name: Specialization, dtype: int64"
      ]
     },
     "execution_count": 211,
     "metadata": {},
     "output_type": "execute_result"
    }
   ],
   "source": [
    "lead['Specialization'].value_counts(dropna=False)"
   ]
  },
  {
   "cell_type": "code",
   "execution_count": 212,
   "id": "4960ec1c",
   "metadata": {},
   "outputs": [
    {
     "data": {
      "text/plain": [
       "Not Specified                        3380\n",
       "Finance Management                    976\n",
       "Human Resource Management             848\n",
       "Marketing Management                  838\n",
       "Operations Management                 503\n",
       "Business Administration               403\n",
       "IT Projects Management                366\n",
       "Supply Chain Management               349\n",
       "Banking, Investment And Insurance     338\n",
       "Travel and Tourism                    203\n",
       "Media and Advertising                 203\n",
       "International Business                178\n",
       "Healthcare Management                 159\n",
       "Hospitality Management                114\n",
       "E-COMMERCE                            112\n",
       "Retail Management                     100\n",
       "Rural and Agribusiness                 73\n",
       "E-Business                             57\n",
       "Services Excellence                    40\n",
       "Name: Specialization, dtype: int64"
      ]
     },
     "execution_count": 212,
     "metadata": {},
     "output_type": "execute_result"
    }
   ],
   "source": [
    "lead['Specialization'] = lead['Specialization'].replace(['Select',np.nan], 'Not Specified')\n",
    "lead['Specialization'].value_counts()"
   ]
  },
  {
   "cell_type": "markdown",
   "id": "d6fc825b",
   "metadata": {},
   "source": [
    "### 7. Tags"
   ]
  },
  {
   "cell_type": "code",
   "execution_count": 213,
   "id": "c344ba16",
   "metadata": {},
   "outputs": [
    {
     "data": {
      "text/plain": [
       "NaN                                                  3353\n",
       "Will revert after reading the email                  2072\n",
       "Ringing                                              1203\n",
       "Interested in other courses                           513\n",
       "Already a student                                     465\n",
       "Closed by Horizzon                                    358\n",
       "switched off                                          240\n",
       "Busy                                                  186\n",
       "Lost to EINS                                          175\n",
       "Not doing further education                           145\n",
       "Interested  in full time MBA                          117\n",
       "Graduation in progress                                111\n",
       "invalid number                                         83\n",
       "Diploma holder (Not Eligible)                          63\n",
       "wrong number given                                     47\n",
       "opp hangup                                             33\n",
       "number not provided                                    27\n",
       "in touch with EINS                                     12\n",
       "Lost to Others                                          7\n",
       "Want to take admission but has financial problems       6\n",
       "Still Thinking                                          6\n",
       "Interested in Next batch                                5\n",
       "In confusion whether part time or DLP                   5\n",
       "Lateral student                                         3\n",
       "Shall take in the next coming month                     2\n",
       "University not recognized                               2\n",
       "Recognition issue (DEC approval)                        1\n",
       "Name: Tags, dtype: int64"
      ]
     },
     "execution_count": 213,
     "metadata": {},
     "output_type": "execute_result"
    }
   ],
   "source": [
    "lead['Tags'].value_counts(dropna=False)"
   ]
  },
  {
   "cell_type": "code",
   "execution_count": 214,
   "id": "68b088e5",
   "metadata": {},
   "outputs": [
    {
     "data": {
      "text/plain": [
       "Not Specified                          3353\n",
       "Will revert after reading the email    2072\n",
       "Other Tag                              1276\n",
       "Ringing                                1203\n",
       "Interested in other courses             513\n",
       "Already a student                       465\n",
       "Closed by Horizzon                      358\n",
       "Name: Tags, dtype: int64"
      ]
     },
     "execution_count": 214,
     "metadata": {},
     "output_type": "execute_result"
    }
   ],
   "source": [
    "lead['Tags'] = lead['Tags'].replace(np.nan,'Not Specified')\n",
    "lead['Tags'] = lead['Tags'].replace(['Lost to EINS','Not doing further education','Interested  in full time MBA',\n",
    "                                      'Graduation in progress','invalid number','Diploma holder (Not Eligible)',\n",
    "                                      'wrong number given','opp hangup','number not provided','in touch with EINS',\n",
    "                                      'Lost to Others','Want to take admission but has financial problems',\n",
    "                                      'Still Thinking','Interested in Next batch','Lateral student','Busy','switched off',\n",
    "                                      'In confusion whether part time or DLP','University not recognized',\n",
    "                                      'Shall take in the next coming month','Recognition issue (DEC approval)'],'Other Tag')\n",
    "lead['Tags'].value_counts(dropna=False)"
   ]
  },
  {
   "cell_type": "code",
   "execution_count": 215,
   "id": "e0302bd9",
   "metadata": {},
   "outputs": [
    {
     "data": {
      "text/plain": [
       "Lead Source                                        36\n",
       "Converted                                           0\n",
       "TotalVisits                                         0\n",
       "Total Time Spent on Website                         0\n",
       "Page Views Per Visit                                0\n",
       "Last Activity                                       0\n",
       "Specialization                                      0\n",
       "How did you hear about X Education               2207\n",
       "What is your current occupation                     0\n",
       "What matters most to you in choosing a course       0\n",
       "Tags                                                0\n",
       "Lead Profile                                     2709\n",
       "City                                             1420\n",
       "dtype: int64"
      ]
     },
     "execution_count": 215,
     "metadata": {},
     "output_type": "execute_result"
    }
   ],
   "source": [
    "lead.isnull().sum()"
   ]
  },
  {
   "cell_type": "markdown",
   "id": "da057ef1",
   "metadata": {},
   "source": [
    "### 8.City"
   ]
  },
  {
   "cell_type": "code",
   "execution_count": 216,
   "id": "4e849008",
   "metadata": {},
   "outputs": [
    {
     "data": {
      "text/plain": [
       "Mumbai                         3222\n",
       "Select                         2249\n",
       "NaN                            1420\n",
       "Thane & Outskirts               752\n",
       "Other Cities                    686\n",
       "Other Cities of Maharashtra     457\n",
       "Other Metro Cities              380\n",
       "Tier II Cities                   74\n",
       "Name: City, dtype: int64"
      ]
     },
     "execution_count": 216,
     "metadata": {},
     "output_type": "execute_result"
    }
   ],
   "source": [
    "lead['City'].value_counts(dropna=False)"
   ]
  },
  {
   "cell_type": "code",
   "execution_count": 217,
   "id": "ea45420e",
   "metadata": {},
   "outputs": [
    {
     "data": {
      "text/plain": [
       "Mumbai                         3222\n",
       "Not Specified                  2249\n",
       "Other Cities                   2106\n",
       "Thane & Outskirts               752\n",
       "Other Cities of Maharashtra     457\n",
       "Other Metro Cities              380\n",
       "Tier II Cities                   74\n",
       "Name: City, dtype: int64"
      ]
     },
     "execution_count": 217,
     "metadata": {},
     "output_type": "execute_result"
    }
   ],
   "source": [
    "lead['City'] = lead['City'].replace(np.nan,'Other Cities')\n",
    "lead['City'] = lead['City'].replace('Select','Not Specified')\n",
    "lead['City'].value_counts(dropna=False)"
   ]
  },
  {
   "cell_type": "code",
   "execution_count": 218,
   "id": "890e5baf",
   "metadata": {},
   "outputs": [
    {
     "data": {
      "text/plain": [
       "Lead Source                                        36\n",
       "Converted                                           0\n",
       "TotalVisits                                         0\n",
       "Total Time Spent on Website                         0\n",
       "Page Views Per Visit                                0\n",
       "Last Activity                                       0\n",
       "Specialization                                      0\n",
       "How did you hear about X Education               2207\n",
       "What is your current occupation                     0\n",
       "What matters most to you in choosing a course       0\n",
       "Tags                                                0\n",
       "Lead Profile                                     2709\n",
       "City                                                0\n",
       "dtype: int64"
      ]
     },
     "execution_count": 218,
     "metadata": {},
     "output_type": "execute_result"
    }
   ],
   "source": [
    "lead.isnull().sum()"
   ]
  },
  {
   "cell_type": "markdown",
   "id": "2da051c2",
   "metadata": {},
   "source": [
    "### 9.How did you hear about X Education"
   ]
  },
  {
   "cell_type": "code",
   "execution_count": 219,
   "id": "e4328ce6",
   "metadata": {},
   "outputs": [],
   "source": [
    "lead['How did you hear about X Education'] = lead['How did you hear about X Education'].replace('Select','Not Specified')\n"
   ]
  },
  {
   "cell_type": "code",
   "execution_count": 220,
   "id": "84df6424",
   "metadata": {},
   "outputs": [
    {
     "data": {
      "text/plain": [
       "Not Specified            5043\n",
       "Online Search             808\n",
       "Word Of Mouth             348\n",
       "Student of SomeSchool     310\n",
       "Other                     186\n",
       "Multiple Sources          152\n",
       "Advertisements             70\n",
       "Social Media               67\n",
       "Email                      26\n",
       "SMS                        23\n",
       "Name: How did you hear about X Education, dtype: int64"
      ]
     },
     "execution_count": 220,
     "metadata": {},
     "output_type": "execute_result"
    }
   ],
   "source": [
    "lead['How did you hear about X Education'].value_counts()"
   ]
  },
  {
   "cell_type": "code",
   "execution_count": 221,
   "id": "8eaef0b2",
   "metadata": {},
   "outputs": [],
   "source": [
    "lead = lead.dropna()"
   ]
  },
  {
   "cell_type": "code",
   "execution_count": 222,
   "id": "7f51f921",
   "metadata": {},
   "outputs": [
    {
     "data": {
      "text/plain": [
       "Lead Source                                      0\n",
       "Converted                                        0\n",
       "TotalVisits                                      0\n",
       "Total Time Spent on Website                      0\n",
       "Page Views Per Visit                             0\n",
       "Last Activity                                    0\n",
       "Specialization                                   0\n",
       "How did you hear about X Education               0\n",
       "What is your current occupation                  0\n",
       "What matters most to you in choosing a course    0\n",
       "Tags                                             0\n",
       "Lead Profile                                     0\n",
       "City                                             0\n",
       "dtype: int64"
      ]
     },
     "execution_count": 222,
     "metadata": {},
     "output_type": "execute_result"
    }
   ],
   "source": [
    "lead.isnull().sum()"
   ]
  },
  {
   "cell_type": "code",
   "execution_count": 223,
   "id": "670d17ff",
   "metadata": {},
   "outputs": [
    {
     "data": {
      "text/plain": [
       "(6495, 13)"
      ]
     },
     "execution_count": 223,
     "metadata": {},
     "output_type": "execute_result"
    }
   ],
   "source": [
    "lead.shape"
   ]
  },
  {
   "cell_type": "markdown",
   "id": "d35d5de6",
   "metadata": {},
   "source": [
    "### 10.Lead Profile"
   ]
  },
  {
   "cell_type": "code",
   "execution_count": 224,
   "id": "c04dadfe",
   "metadata": {},
   "outputs": [
    {
     "data": {
      "text/plain": [
       "Select                         4115\n",
       "Potential Lead                 1608\n",
       "Other Leads                     487\n",
       "Student of SomeSchool           241\n",
       "Lateral Student                  24\n",
       "Dual Specialization Student      20\n",
       "Name: Lead Profile, dtype: int64"
      ]
     },
     "execution_count": 224,
     "metadata": {},
     "output_type": "execute_result"
    }
   ],
   "source": [
    "lead['Lead Profile'].value_counts()"
   ]
  },
  {
   "cell_type": "code",
   "execution_count": 225,
   "id": "2531d80b",
   "metadata": {},
   "outputs": [
    {
     "data": {
      "text/plain": [
       "Not Specified                  4115\n",
       "Potential Lead                 1608\n",
       "Other Leads                     487\n",
       "Student of SomeSchool           241\n",
       "Lateral Student                  24\n",
       "Dual Specialization Student      20\n",
       "Name: Lead Profile, dtype: int64"
      ]
     },
     "execution_count": 225,
     "metadata": {},
     "output_type": "execute_result"
    }
   ],
   "source": [
    "lead['Lead Profile'] = lead['Lead Profile'].replace('Select','Not Specified')\n",
    "lead['Lead Profile'].value_counts()"
   ]
  },
  {
   "cell_type": "markdown",
   "id": "a20dd73d",
   "metadata": {},
   "source": [
    "### `Insight`-\n",
    "- For the numerical columns we replaced the Missing values with the median of the all the values.\n",
    "- For the categorical columns we replaced the missing values with what felt necessary\n",
    "- As well as we worked on the Select option in various columns where in most cases we replaced them with Not Specified.\n",
    "- Some columns had variable value counts very low so we combined them and replaced them with Others wherever it was required as per our requirement. "
   ]
  },
  {
   "cell_type": "markdown",
   "id": "7409beaf",
   "metadata": {},
   "source": [
    "# EDA Analysis"
   ]
  },
  {
   "cell_type": "markdown",
   "id": "d42ecfe1",
   "metadata": {},
   "source": [
    "## Handling Outliers"
   ]
  },
  {
   "cell_type": "code",
   "execution_count": 226,
   "id": "6f9374fb",
   "metadata": {},
   "outputs": [
    {
     "data": {
      "image/png": "[encoded data removed]",
      "text/plain": [
       "<Figure size 1440x1440 with 3 Axes>"
      ]
     },
     "metadata": {
      "needs_background": "light"
     },
     "output_type": "display_data"
    }
   ],
   "source": [
    "# Outliers in logistic model is very sensitive hence we need to deal with it without losing our valuable information.\n",
    "# We will check if there are any outliers in 'TotalVisits', 'Total Time Spent on Website','Page Views Per Visit' \n",
    "# that may affect the model\n",
    "\n",
    "plt.figure(figsize= (20,20))\n",
    "plt.subplot(331)\n",
    "sns.boxplot(lead['TotalVisits'])\n",
    "plt.subplot(332)\n",
    "sns.boxplot(lead['Total Time Spent on Website'])\n",
    "plt.subplot(333)\n",
    "sns.boxplot(lead['Page Views Per Visit'])\n",
    "plt.show()"
   ]
  },
  {
   "cell_type": "code",
   "execution_count": 227,
   "id": "a1a6856b",
   "metadata": {},
   "outputs": [],
   "source": [
    "# from the above visualization, we can see that there are outliers\n",
    "# we will use hardcapping to handle the outliers"
   ]
  },
  {
   "cell_type": "code",
   "execution_count": 228,
   "id": "263c4080",
   "metadata": {},
   "outputs": [],
   "source": [
    "q2 = lead['TotalVisits'].quantile(0.90)\n",
    "lead['TotalVisits'][lead['TotalVisits']>=q2] = q2"
   ]
  },
  {
   "cell_type": "code",
   "execution_count": 229,
   "id": "f9910274",
   "metadata": {},
   "outputs": [],
   "source": [
    "q2 = lead['Page Views Per Visit'].quantile(0.90)\n",
    "lead['Page Views Per Visit'][lead['Page Views Per Visit']>=q2] = q2"
   ]
  },
  {
   "cell_type": "code",
   "execution_count": 230,
   "id": "04e1d0b0",
   "metadata": {
    "scrolled": true
   },
   "outputs": [
    {
     "data": {
      "image/png": "[encoded data removed]",
      "text/plain": [
       "<Figure size 1440x1440 with 3 Axes>"
      ]
     },
     "metadata": {
      "needs_background": "light"
     },
     "output_type": "display_data"
    }
   ],
   "source": [
    "plt.figure(figsize= (20,20))\n",
    "plt.subplot(331)\n",
    "sns.boxplot(lead['TotalVisits'])\n",
    "plt.subplot(332)\n",
    "sns.boxplot(lead['Total Time Spent on Website'])\n",
    "plt.subplot(333)\n",
    "sns.boxplot(lead['Page Views Per Visit'])\n",
    "plt.show()"
   ]
  },
  {
   "cell_type": "markdown",
   "id": "521ee890",
   "metadata": {},
   "source": [
    "### `Insight` \n",
    "- On observation it can be seen that TotalVisit and Page Views per Visit have a lot of outliers so we used hardcapping in this case to remove the outliers by removing 10% on both sides.\n"
   ]
  },
  {
   "cell_type": "markdown",
   "id": "abcc0e53",
   "metadata": {},
   "source": [
    "# Visualising the Features"
   ]
  },
  {
   "cell_type": "markdown",
   "id": "1e1ca691",
   "metadata": {},
   "source": [
    "## Numerical Analysis"
   ]
  },
  {
   "cell_type": "code",
   "execution_count": 231,
   "id": "aad9a4cc",
   "metadata": {},
   "outputs": [
    {
     "data": {
      "image/png": "[encoded data removed]",
      "text/plain": [
       "<Figure size 576x432 with 2 Axes>"
      ]
     },
     "metadata": {
      "needs_background": "light"
     },
     "output_type": "display_data"
    }
   ],
   "source": [
    "# heatmap of the dataset\n",
    "# depicts the corelation of the variables and gives and idea of the dependency\n",
    "plt.figure(figsize = (8,6))\n",
    "sns.heatmap(lead.corr(), cmap=\"RdYlGn\", annot=True)\n",
    "plt.show()"
   ]
  },
  {
   "cell_type": "markdown",
   "id": "eec2aa96",
   "metadata": {},
   "source": [
    "## Categorical Analysis"
   ]
  },
  {
   "cell_type": "code",
   "execution_count": 232,
   "id": "fd3ddeb4",
   "metadata": {},
   "outputs": [],
   "source": [
    "# Let's also perform analysis on the Categorical variables \n",
    "# and accordingly check how the categorical variables have an effect on the conversion "
   ]
  },
  {
   "cell_type": "code",
   "execution_count": 233,
   "id": "b6898038",
   "metadata": {},
   "outputs": [
    {
     "data": {
      "text/plain": [
       "Google               2048\n",
       "Direct Traffic       1873\n",
       "Olark Chat            893\n",
       "Organic Search        870\n",
       "Reference             534\n",
       "Welingak Website      142\n",
       "Referral Sites         74\n",
       "Facebook               46\n",
       "Click2call              4\n",
       "bing                    3\n",
       "Social Media            2\n",
       "Live Chat               2\n",
       "Pay per Click Ads       1\n",
       "WeLearn                 1\n",
       "Press_Release           1\n",
       "testone                 1\n",
       "Name: Lead Source, dtype: int64"
      ]
     },
     "execution_count": 233,
     "metadata": {},
     "output_type": "execute_result"
    }
   ],
   "source": [
    "lead['Lead Source'].value_counts()"
   ]
  },
  {
   "cell_type": "code",
   "execution_count": 234,
   "id": "ad2a7b61",
   "metadata": {},
   "outputs": [],
   "source": [
    "lead['Lead Source'] = lead['Lead Source'].replace(['Welingak Website','Referral Sites','Facebook','bing','google',\n",
    "                                                   'Click2call','Social Media','Press_Release','Live Chat','NC_EDM',\n",
    "                                                   'blog','welearnblog_Home','WeLearn','youtubechannel',\n",
    "                                                   'Pay per Click Ads','testone'],'Others')"
   ]
  },
  {
   "cell_type": "code",
   "execution_count": 235,
   "id": "57583cfa",
   "metadata": {},
   "outputs": [
    {
     "data": {
      "image/png": "[encoded data removed]",
      "text/plain": [
       "<Figure size 864x360 with 1 Axes>"
      ]
     },
     "metadata": {
      "needs_background": "light"
     },
     "output_type": "display_data"
    }
   ],
   "source": [
    "plt.figure(figsize=(12,5))\n",
    "sns.countplot(lead['Lead Source'], hue=lead.Converted)\n",
    "plt.show()"
   ]
  },
  {
   "cell_type": "markdown",
   "id": "3ed53a12",
   "metadata": {},
   "source": [
    "### `Insights` -\n",
    "- We can see that Lead source is high in case of Google and direct traffic but it is higher for Google\n",
    "- We also observe that by reference conversion rate is very high."
   ]
  },
  {
   "cell_type": "code",
   "execution_count": 236,
   "id": "ce457ba3",
   "metadata": {},
   "outputs": [
    {
     "data": {
      "text/plain": [
       "Email Opened                    2556\n",
       "SMS Sent                        2190\n",
       "Olark Chat Conversation          428\n",
       "Page Visited on Website          426\n",
       "Converted to Lead                292\n",
       "Email Bounced                    184\n",
       "Email Link Clicked               178\n",
       "Form Submitted on Website         81\n",
       "Unreachable                       74\n",
       "Unsubscribed                      40\n",
       "Had a Phone Conversation          28\n",
       "Approached upfront                 9\n",
       "View in browser link Clicked       4\n",
       "Email Received                     2\n",
       "Email Marked Spam                  2\n",
       "Visited Booth in Tradeshow         1\n",
       "Name: Last Activity, dtype: int64"
      ]
     },
     "execution_count": 236,
     "metadata": {},
     "output_type": "execute_result"
    }
   ],
   "source": [
    "lead['Last Activity'].value_counts()\n"
   ]
  },
  {
   "cell_type": "code",
   "execution_count": 237,
   "id": "f95e43b7",
   "metadata": {},
   "outputs": [],
   "source": [
    "lead['Last Activity'] = lead['Last Activity'].replace(['Form Submitted on Website','Unreachable','Unreachable',\n",
    "                                                   'Unsubscribed','Had a Phone Conversation','Approached upfront',\n",
    "                                                   'View in browser link Clicked','Email Marked Spam','Email Received',\n",
    "                                                   'Visited Booth in Tradeshow','Resubscribed to emails'],'Others')"
   ]
  },
  {
   "cell_type": "code",
   "execution_count": 238,
   "id": "e6109744",
   "metadata": {},
   "outputs": [
    {
     "data": {
      "image/png": "[encoded data removed]",
      "text/plain": [
       "<Figure size 1080x360 with 1 Axes>"
      ]
     },
     "metadata": {
      "needs_background": "light"
     },
     "output_type": "display_data"
    }
   ],
   "source": [
    "plt.figure(figsize=(15,5))\n",
    "sns.countplot(lead['Last Activity'], hue=lead.Converted)\n",
    "plt.show()"
   ]
  },
  {
   "cell_type": "markdown",
   "id": "98c63628",
   "metadata": {},
   "source": [
    "### `Insight` -\n",
    "- The lead which have Sms sent have a higher rate of conversion into potential lead."
   ]
  },
  {
   "cell_type": "code",
   "execution_count": 239,
   "id": "e9387d0c",
   "metadata": {},
   "outputs": [
    {
     "data": {
      "image/png": "[encoded data removed]",
      "text/plain": [
       "<Figure size 1296x1800 with 3 Axes>"
      ]
     },
     "metadata": {
      "needs_background": "light"
     },
     "output_type": "display_data"
    }
   ],
   "source": [
    "def countplot(x, fig):\n",
    "    plt.subplot(4,2, fig)\n",
    "    sns.countplot(lead[x])\n",
    "    plt.title('Count across'+' '+ x, size = 16)\n",
    "    plt.xlabel(x,size = 14)\n",
    "    plt.xticks(rotation = 90)\n",
    "\n",
    "plt.figure(figsize=(18,25))\n",
    "\n",
    "\n",
    "countplot('How did you hear about X Education',1)\n",
    "countplot('Lead Profile',2)\n",
    "countplot('Specialization',3)\n",
    "\n",
    "plt.tight_layout()"
   ]
  },
  {
   "cell_type": "markdown",
   "id": "1c1d2c19",
   "metadata": {},
   "source": [
    "### `Insight` -\n",
    "- As we can see a high spike in \"Not Specified\" section. \"Not Specified\" means people have not selected any options. for further analysis we will drop these variables."
   ]
  },
  {
   "cell_type": "code",
   "execution_count": 240,
   "id": "f187d9a2",
   "metadata": {},
   "outputs": [],
   "source": [
    "lead.drop(['How did you hear about X Education'], axis = 1, inplace = True)\n"
   ]
  },
  {
   "cell_type": "code",
   "execution_count": 241,
   "id": "010a893b",
   "metadata": {},
   "outputs": [
    {
     "data": {
      "image/png": "[encoded data removed]",
      "text/plain": [
       "<Figure size 1296x1800 with 3 Axes>"
      ]
     },
     "metadata": {
      "needs_background": "light"
     },
     "output_type": "display_data"
    }
   ],
   "source": [
    "def countplot(x, fig):\n",
    "    plt.subplot(4,2, fig)\n",
    "    sns.countplot(lead[x])\n",
    "    plt.title('Count across'+' '+ x, size = 16)\n",
    "    plt.xlabel(x,size = 14)\n",
    "    plt.xticks(rotation = 90)\n",
    "\n",
    "plt.figure(figsize=(18,25))\n",
    "\n",
    "\n",
    "countplot('What matters most to you in choosing a course',1)\n",
    "countplot('What is your current occupation',2)\n",
    "countplot('Specialization',3)\n",
    "\n",
    "plt.tight_layout()"
   ]
  },
  {
   "cell_type": "markdown",
   "id": "b7a94be5",
   "metadata": {},
   "source": [
    "### `Insight`-\n",
    "- We can see people are more likely to choose a course for their `better career prospect`.\n",
    "- We can also see people who are `Unemployed` are taking more interest.\n",
    "- In Specialization, people in Finance Management are more interested followed by Marketing and Human Resources."
   ]
  },
  {
   "cell_type": "code",
   "execution_count": 242,
   "id": "774b1f47",
   "metadata": {},
   "outputs": [
    {
     "data": {
      "image/png": "[encoded data removed]",
      "text/plain": [
       "<Figure size 864x360 with 1 Axes>"
      ]
     },
     "metadata": {
      "needs_background": "light"
     },
     "output_type": "display_data"
    }
   ],
   "source": [
    "plt.figure(figsize=(12,5))\n",
    "sns.countplot(lead['What is your current occupation'], hue=lead.Converted)\n",
    "plt.show()"
   ]
  },
  {
   "cell_type": "markdown",
   "id": "a2c948fa",
   "metadata": {},
   "source": [
    "### `Insight-`\n",
    "- `Unemployed` are more likely to join the course."
   ]
  },
  {
   "cell_type": "code",
   "execution_count": 243,
   "id": "990c6870",
   "metadata": {},
   "outputs": [
    {
     "data": {
      "image/png": "[encoded data removed]",
      "text/plain": [
       "<Figure size 1080x360 with 1 Axes>"
      ]
     },
     "metadata": {
      "needs_background": "light"
     },
     "output_type": "display_data"
    }
   ],
   "source": [
    "plt.figure(figsize=(15,5))\n",
    "sns.countplot(lead['What matters most to you in choosing a course'], hue=lead.Converted)\n",
    "plt.show()"
   ]
  },
  {
   "cell_type": "markdown",
   "id": "0f29dffd",
   "metadata": {},
   "source": [
    "### `Insight` -\n",
    "- Leads who enter Better career Prospects as an option while filling the form tend to have a higher rate of potential lead."
   ]
  },
  {
   "cell_type": "code",
   "execution_count": 244,
   "id": "31a05118",
   "metadata": {},
   "outputs": [
    {
     "data": {
      "image/png": "[encoded data removed]",
      "text/plain": [
       "<Figure size 599.75x540 with 12 Axes>"
      ]
     },
     "metadata": {
      "needs_background": "light"
     },
     "output_type": "display_data"
    }
   ],
   "source": [
    "import seaborn as sns\n",
    "sns.pairplot(lead,diag_kind='kde',hue='Converted')\n",
    "plt.show()"
   ]
  },
  {
   "cell_type": "code",
   "execution_count": 245,
   "id": "db9916ba",
   "metadata": {},
   "outputs": [
    {
     "data": {
      "image/png": "[encoded data removed]",
      "text/plain": [
       "<Figure size 1080x360 with 1 Axes>"
      ]
     },
     "metadata": {
      "needs_background": "light"
     },
     "output_type": "display_data"
    }
   ],
   "source": [
    "plt.figure(figsize=(15,5))\n",
    "sns.countplot(lead['Tags'], hue=lead.Converted)\n",
    "plt.show()"
   ]
  },
  {
   "cell_type": "code",
   "execution_count": 246,
   "id": "2deb9cad",
   "metadata": {},
   "outputs": [
    {
     "data": {
      "image/png": "[encoded data removed]",
      "text/plain": [
       "<Figure size 1080x360 with 1 Axes>"
      ]
     },
     "metadata": {
      "needs_background": "light"
     },
     "output_type": "display_data"
    }
   ],
   "source": [
    "plt.figure(figsize=(15,5))\n",
    "sns.countplot(lead['City'], hue=lead.Converted)\n",
    "plt.show()"
   ]
  },
  {
   "cell_type": "markdown",
   "id": "3bffbf54",
   "metadata": {},
   "source": [
    "### `Insight` -\n",
    "- The leads from `Mumbai` have a higher rate of conversion into potential lead."
   ]
  },
  {
   "cell_type": "code",
   "execution_count": 247,
   "id": "3804591d",
   "metadata": {},
   "outputs": [
    {
     "data": {
      "text/plain": [
       "Not Specified                  4115\n",
       "Potential Lead                 1608\n",
       "Other Leads                     487\n",
       "Student of SomeSchool           241\n",
       "Lateral Student                  24\n",
       "Dual Specialization Student      20\n",
       "Name: Lead Profile, dtype: int64"
      ]
     },
     "execution_count": 247,
     "metadata": {},
     "output_type": "execute_result"
    }
   ],
   "source": [
    "lead['Lead Profile'].value_counts()"
   ]
  },
  {
   "cell_type": "code",
   "execution_count": 248,
   "id": "3fb97664",
   "metadata": {},
   "outputs": [],
   "source": [
    "lead['Lead Profile'] = lead['Lead Profile'].replace(['Student of SomeSchool','Lateral Student',\n",
    "                                                     'Dual Specialization Student'],'Student')"
   ]
  },
  {
   "cell_type": "code",
   "execution_count": 249,
   "id": "1ecbeb6c",
   "metadata": {},
   "outputs": [
    {
     "data": {
      "image/png": "[encoded data removed]",
      "text/plain": [
       "<Figure size 1080x360 with 1 Axes>"
      ]
     },
     "metadata": {
      "needs_background": "light"
     },
     "output_type": "display_data"
    }
   ],
   "source": [
    "plt.figure(figsize=(15,5))\n",
    "sns.countplot(lead['Lead Profile'], hue=lead.Converted)\n",
    "plt.show()"
   ]
  },
  {
   "cell_type": "markdown",
   "id": "e26b65ca",
   "metadata": {},
   "source": [
    "# Creating dummy variables"
   ]
  },
  {
   "cell_type": "code",
   "execution_count": 250,
   "id": "6bd351b7",
   "metadata": {},
   "outputs": [],
   "source": [
    "# converting multiple categories into dummy variables for better analysis"
   ]
  },
  {
   "cell_type": "code",
   "execution_count": 251,
   "id": "7a9a3d45",
   "metadata": {},
   "outputs": [
    {
     "data": {
      "text/plain": [
       "Index(['Lead Source', 'Last Activity', 'Specialization',\n",
       "       'What is your current occupation',\n",
       "       'What matters most to you in choosing a course', 'Tags', 'Lead Profile',\n",
       "       'City'],\n",
       "      dtype='object')"
      ]
     },
     "execution_count": 251,
     "metadata": {},
     "output_type": "execute_result"
    }
   ],
   "source": [
    "cat_col= lead.select_dtypes(include=['object']).columns\n",
    "cat_col"
   ]
  },
  {
   "cell_type": "code",
   "execution_count": 252,
   "id": "9489dff1",
   "metadata": {},
   "outputs": [],
   "source": [
    "# Creating dummy variables for the variable 'Lead Source'\n",
    "dummy = pd.get_dummies(lead['Lead Source'], prefix  = 'Lead Source')\n",
    "dummy = dummy.drop(['Lead Source_Others','Lead Source_Reference'],1)\n",
    "lead = pd.concat([lead, dummy], axis = 1)\n",
    "\n",
    "# Creating dummy variables for the variable 'Last Activity'\n",
    "dummy = pd.get_dummies(lead['Last Activity'], prefix  = 'Last Activity')\n",
    "dummy = dummy.drop(['Last Activity_Others','Last Activity_Email Bounced','Last Activity_Email Link Clicked'],1)\n",
    "lead = pd.concat([lead, dummy], axis = 1)\n",
    "\n",
    "# Creating dummy variables for the variable 'Specialization'\n",
    "dummy = pd.get_dummies(lead['Specialization'], prefix  = 'Specialization')\n",
    "dummy = dummy.drop(['Specialization_Not Specified','Specialization_Services Excellence','Specialization_Rural and Agribusiness',\n",
    "                   'Specialization_E-Business'],1)\n",
    "lead = pd.concat([lead, dummy], axis = 1)\n",
    "\n",
    "# Creating dummy variables for the variable 'What is your current occupation'\n",
    "dummy = pd.get_dummies(lead['What is your current occupation'], prefix  = 'What is your current occupation')\n",
    "dummy = dummy.drop(['What is your current occupation_Other'], 1)\n",
    "lead = pd.concat([lead, dummy], axis = 1)\n",
    "\n",
    "# Creating dummy variables for the variable 'What matters most to you in choosing a course'\n",
    "dummy = pd.get_dummies(lead['What matters most to you in choosing a course'], prefix  = 'What matters most to you in choosing a course')\n",
    "dummy = dummy.drop(['What matters most to you in choosing a course_Other','What matters most to you in choosing a course_Flexibility & Convenience'], 1)\n",
    "lead = pd.concat([lead, dummy], axis = 1)\n",
    "\n",
    "# Creating dummy variables for the variable 'Tags'\n",
    "dummy = pd.get_dummies(lead['Tags'], prefix  = 'Tags')\n",
    "dummy = dummy.drop(['Tags_Not Specified',], 1)\n",
    "lead = pd.concat([lead, dummy], axis = 1)\n",
    "\n",
    "# Creating dummy variables for the variable 'Lead Profile'\n",
    "dummy = pd.get_dummies(lead['Lead Profile'], prefix  = 'Lead Profile')\n",
    "dummy = dummy.drop(['Lead Profile_Other Leads'], 1)\n",
    "lead = pd.concat([lead, dummy], axis = 1)\n",
    "\n",
    "# Creating dummy variables for the variable 'City'\n",
    "dummy = pd.get_dummies(lead['City'], prefix  = 'City')\n",
    "dummy = dummy.drop(['City_Not Specified'], 1)\n",
    "lead = pd.concat([lead, dummy], axis = 1)"
   ]
  },
  {
   "cell_type": "code",
   "execution_count": 253,
   "id": "8fac39d8",
   "metadata": {},
   "outputs": [
    {
     "name": "stdout",
     "output_type": "stream",
     "text": [
      "<class 'pandas.core.frame.DataFrame'>\n",
      "Int64Index: 6495 entries, 0 to 9239\n",
      "Data columns (total 49 columns):\n",
      " #   Column                                                                 Non-Null Count  Dtype  \n",
      "---  ------                                                                 --------------  -----  \n",
      " 0   Converted                                                              6495 non-null   int64  \n",
      " 1   TotalVisits                                                            6495 non-null   float64\n",
      " 2   Total Time Spent on Website                                            6495 non-null   int64  \n",
      " 3   Page Views Per Visit                                                   6495 non-null   float64\n",
      " 4   Lead Source_Direct Traffic                                             6495 non-null   uint8  \n",
      " 5   Lead Source_Google                                                     6495 non-null   uint8  \n",
      " 6   Lead Source_Olark Chat                                                 6495 non-null   uint8  \n",
      " 7   Lead Source_Organic Search                                             6495 non-null   uint8  \n",
      " 8   Last Activity_Converted to Lead                                        6495 non-null   uint8  \n",
      " 9   Last Activity_Email Opened                                             6495 non-null   uint8  \n",
      " 10  Last Activity_Olark Chat Conversation                                  6495 non-null   uint8  \n",
      " 11  Last Activity_Page Visited on Website                                  6495 non-null   uint8  \n",
      " 12  Last Activity_SMS Sent                                                 6495 non-null   uint8  \n",
      " 13  Specialization_Banking, Investment And Insurance                       6495 non-null   uint8  \n",
      " 14  Specialization_Business Administration                                 6495 non-null   uint8  \n",
      " 15  Specialization_E-COMMERCE                                              6495 non-null   uint8  \n",
      " 16  Specialization_Finance Management                                      6495 non-null   uint8  \n",
      " 17  Specialization_Healthcare Management                                   6495 non-null   uint8  \n",
      " 18  Specialization_Hospitality Management                                  6495 non-null   uint8  \n",
      " 19  Specialization_Human Resource Management                               6495 non-null   uint8  \n",
      " 20  Specialization_IT Projects Management                                  6495 non-null   uint8  \n",
      " 21  Specialization_International Business                                  6495 non-null   uint8  \n",
      " 22  Specialization_Marketing Management                                    6495 non-null   uint8  \n",
      " 23  Specialization_Media and Advertising                                   6495 non-null   uint8  \n",
      " 24  Specialization_Operations Management                                   6495 non-null   uint8  \n",
      " 25  Specialization_Retail Management                                       6495 non-null   uint8  \n",
      " 26  Specialization_Supply Chain Management                                 6495 non-null   uint8  \n",
      " 27  Specialization_Travel and Tourism                                      6495 non-null   uint8  \n",
      " 28  What is your current occupation_Businessman                            6495 non-null   uint8  \n",
      " 29  What is your current occupation_Housewife                              6495 non-null   uint8  \n",
      " 30  What is your current occupation_Student                                6495 non-null   uint8  \n",
      " 31  What is your current occupation_Unemployed                             6495 non-null   uint8  \n",
      " 32  What is your current occupation_Working Professional                   6495 non-null   uint8  \n",
      " 33  What matters most to you in choosing a course_Better Career Prospects  6495 non-null   uint8  \n",
      " 34  Tags_Already a student                                                 6495 non-null   uint8  \n",
      " 35  Tags_Closed by Horizzon                                                6495 non-null   uint8  \n",
      " 36  Tags_Interested in other courses                                       6495 non-null   uint8  \n",
      " 37  Tags_Other Tag                                                         6495 non-null   uint8  \n",
      " 38  Tags_Ringing                                                           6495 non-null   uint8  \n",
      " 39  Tags_Will revert after reading the email                               6495 non-null   uint8  \n",
      " 40  Lead Profile_Not Specified                                             6495 non-null   uint8  \n",
      " 41  Lead Profile_Potential Lead                                            6495 non-null   uint8  \n",
      " 42  Lead Profile_Student                                                   6495 non-null   uint8  \n",
      " 43  City_Mumbai                                                            6495 non-null   uint8  \n",
      " 44  City_Other Cities                                                      6495 non-null   uint8  \n",
      " 45  City_Other Cities of Maharashtra                                       6495 non-null   uint8  \n",
      " 46  City_Other Metro Cities                                                6495 non-null   uint8  \n",
      " 47  City_Thane & Outskirts                                                 6495 non-null   uint8  \n",
      " 48  City_Tier II Cities                                                    6495 non-null   uint8  \n",
      "dtypes: float64(2), int64(2), uint8(45)\n",
      "memory usage: 733.2 KB\n"
     ]
    }
   ],
   "source": [
    "# dropping the original categorical columns after we have the substitute dummy variables  \n",
    "lead.drop(cat_col,1,inplace = True)\n",
    "lead.info()"
   ]
  },
  {
   "cell_type": "markdown",
   "id": "62f5281a",
   "metadata": {},
   "source": [
    "# Rescaling"
   ]
  },
  {
   "cell_type": "code",
   "execution_count": 254,
   "id": "4e65639d",
   "metadata": {},
   "outputs": [],
   "source": [
    "# We need to scale the variables such that the range of all features should be normalized \n",
    "# so that each feature contributes approximately proportionately to the model. "
   ]
  },
  {
   "cell_type": "code",
   "execution_count": 255,
   "id": "87d99afe",
   "metadata": {},
   "outputs": [],
   "source": [
    "num_col = ['TotalVisits','Total Time Spent on Website','Page Views Per Visit']"
   ]
  },
  {
   "cell_type": "code",
   "execution_count": 256,
   "id": "0d964b3e",
   "metadata": {},
   "outputs": [],
   "source": [
    "# We will use standardscaler to scale the features"
   ]
  },
  {
   "cell_type": "code",
   "execution_count": 257,
   "id": "45e994e6",
   "metadata": {},
   "outputs": [],
   "source": [
    "from sklearn.preprocessing import StandardScaler\n",
    "scaler = StandardScaler()\n",
    "lead[num_col] = scaler.fit_transform(lead[num_col])"
   ]
  },
  {
   "cell_type": "code",
   "execution_count": 258,
   "id": "0cbf4920",
   "metadata": {},
   "outputs": [
    {
     "data": {
      "text/html": [
       "<div>\n",
       "<style scoped>\n",
       "    .dataframe tbody tr th:only-of-type {\n",
       "        vertical-align: middle;\n",
       "    }\n",
       "\n",
       "    .dataframe tbody tr th {\n",
       "        vertical-align: top;\n",
       "    }\n",
       "\n",
       "    .dataframe thead th {\n",
       "        text-align: right;\n",
       "    }\n",
       "</style>\n",
       "<table border=\"1\" class=\"dataframe\">\n",
       "  <thead>\n",
       "    <tr style=\"text-align: right;\">\n",
       "      <th></th>\n",
       "      <th>Converted</th>\n",
       "      <th>TotalVisits</th>\n",
       "      <th>Total Time Spent on Website</th>\n",
       "      <th>Page Views Per Visit</th>\n",
       "      <th>Lead Source_Direct Traffic</th>\n",
       "      <th>Lead Source_Google</th>\n",
       "      <th>Lead Source_Olark Chat</th>\n",
       "      <th>Lead Source_Organic Search</th>\n",
       "      <th>Last Activity_Converted to Lead</th>\n",
       "      <th>Last Activity_Email Opened</th>\n",
       "      <th>...</th>\n",
       "      <th>Tags_Will revert after reading the email</th>\n",
       "      <th>Lead Profile_Not Specified</th>\n",
       "      <th>Lead Profile_Potential Lead</th>\n",
       "      <th>Lead Profile_Student</th>\n",
       "      <th>City_Mumbai</th>\n",
       "      <th>City_Other Cities</th>\n",
       "      <th>City_Other Cities of Maharashtra</th>\n",
       "      <th>City_Other Metro Cities</th>\n",
       "      <th>City_Thane &amp; Outskirts</th>\n",
       "      <th>City_Tier II Cities</th>\n",
       "    </tr>\n",
       "  </thead>\n",
       "  <tbody>\n",
       "    <tr>\n",
       "      <th>0</th>\n",
       "      <td>0</td>\n",
       "      <td>-1.349394</td>\n",
       "      <td>-0.956010</td>\n",
       "      <td>-1.418536</td>\n",
       "      <td>0</td>\n",
       "      <td>0</td>\n",
       "      <td>1</td>\n",
       "      <td>0</td>\n",
       "      <td>0</td>\n",
       "      <td>0</td>\n",
       "      <td>...</td>\n",
       "      <td>0</td>\n",
       "      <td>1</td>\n",
       "      <td>0</td>\n",
       "      <td>0</td>\n",
       "      <td>0</td>\n",
       "      <td>0</td>\n",
       "      <td>0</td>\n",
       "      <td>0</td>\n",
       "      <td>0</td>\n",
       "      <td>0</td>\n",
       "    </tr>\n",
       "    <tr>\n",
       "      <th>1</th>\n",
       "      <td>0</td>\n",
       "      <td>0.825482</td>\n",
       "      <td>0.230541</td>\n",
       "      <td>0.114976</td>\n",
       "      <td>0</td>\n",
       "      <td>0</td>\n",
       "      <td>0</td>\n",
       "      <td>1</td>\n",
       "      <td>0</td>\n",
       "      <td>1</td>\n",
       "      <td>...</td>\n",
       "      <td>0</td>\n",
       "      <td>1</td>\n",
       "      <td>0</td>\n",
       "      <td>0</td>\n",
       "      <td>0</td>\n",
       "      <td>0</td>\n",
       "      <td>0</td>\n",
       "      <td>0</td>\n",
       "      <td>0</td>\n",
       "      <td>0</td>\n",
       "    </tr>\n",
       "    <tr>\n",
       "      <th>2</th>\n",
       "      <td>1</td>\n",
       "      <td>-0.479444</td>\n",
       "      <td>1.741017</td>\n",
       "      <td>-0.191726</td>\n",
       "      <td>1</td>\n",
       "      <td>0</td>\n",
       "      <td>0</td>\n",
       "      <td>0</td>\n",
       "      <td>0</td>\n",
       "      <td>1</td>\n",
       "      <td>...</td>\n",
       "      <td>1</td>\n",
       "      <td>0</td>\n",
       "      <td>1</td>\n",
       "      <td>0</td>\n",
       "      <td>1</td>\n",
       "      <td>0</td>\n",
       "      <td>0</td>\n",
       "      <td>0</td>\n",
       "      <td>0</td>\n",
       "      <td>0</td>\n",
       "    </tr>\n",
       "    <tr>\n",
       "      <th>3</th>\n",
       "      <td>0</td>\n",
       "      <td>-0.914419</td>\n",
       "      <td>-0.419070</td>\n",
       "      <td>-0.805131</td>\n",
       "      <td>1</td>\n",
       "      <td>0</td>\n",
       "      <td>0</td>\n",
       "      <td>0</td>\n",
       "      <td>0</td>\n",
       "      <td>0</td>\n",
       "      <td>...</td>\n",
       "      <td>0</td>\n",
       "      <td>1</td>\n",
       "      <td>0</td>\n",
       "      <td>0</td>\n",
       "      <td>1</td>\n",
       "      <td>0</td>\n",
       "      <td>0</td>\n",
       "      <td>0</td>\n",
       "      <td>0</td>\n",
       "      <td>0</td>\n",
       "    </tr>\n",
       "    <tr>\n",
       "      <th>4</th>\n",
       "      <td>1</td>\n",
       "      <td>-0.479444</td>\n",
       "      <td>1.557929</td>\n",
       "      <td>-0.805131</td>\n",
       "      <td>0</td>\n",
       "      <td>1</td>\n",
       "      <td>0</td>\n",
       "      <td>0</td>\n",
       "      <td>1</td>\n",
       "      <td>0</td>\n",
       "      <td>...</td>\n",
       "      <td>1</td>\n",
       "      <td>1</td>\n",
       "      <td>0</td>\n",
       "      <td>0</td>\n",
       "      <td>1</td>\n",
       "      <td>0</td>\n",
       "      <td>0</td>\n",
       "      <td>0</td>\n",
       "      <td>0</td>\n",
       "      <td>0</td>\n",
       "    </tr>\n",
       "  </tbody>\n",
       "</table>\n",
       "<p>5 rows × 49 columns</p>\n",
       "</div>"
      ],
      "text/plain": [
       "   Converted  TotalVisits  Total Time Spent on Website  Page Views Per Visit  \\\n",
       "0          0    -1.349394                    -0.956010             -1.418536   \n",
       "1          0     0.825482                     0.230541              0.114976   \n",
       "2          1    -0.479444                     1.741017             -0.191726   \n",
       "3          0    -0.914419                    -0.419070             -0.805131   \n",
       "4          1    -0.479444                     1.557929             -0.805131   \n",
       "\n",
       "   Lead Source_Direct Traffic  Lead Source_Google  Lead Source_Olark Chat  \\\n",
       "0                           0                   0                       1   \n",
       "1                           0                   0                       0   \n",
       "2                           1                   0                       0   \n",
       "3                           1                   0                       0   \n",
       "4                           0                   1                       0   \n",
       "\n",
       "   Lead Source_Organic Search  Last Activity_Converted to Lead  \\\n",
       "0                           0                                0   \n",
       "1                           1                                0   \n",
       "2                           0                                0   \n",
       "3                           0                                0   \n",
       "4                           0                                1   \n",
       "\n",
       "   Last Activity_Email Opened  ...  Tags_Will revert after reading the email  \\\n",
       "0                           0  ...                                         0   \n",
       "1                           1  ...                                         0   \n",
       "2                           1  ...                                         1   \n",
       "3                           0  ...                                         0   \n",
       "4                           0  ...                                         1   \n",
       "\n",
       "   Lead Profile_Not Specified  Lead Profile_Potential Lead  \\\n",
       "0                           1                            0   \n",
       "1                           1                            0   \n",
       "2                           0                            1   \n",
       "3                           1                            0   \n",
       "4                           1                            0   \n",
       "\n",
       "   Lead Profile_Student  City_Mumbai  City_Other Cities  \\\n",
       "0                     0            0                  0   \n",
       "1                     0            0                  0   \n",
       "2                     0            1                  0   \n",
       "3                     0            1                  0   \n",
       "4                     0            1                  0   \n",
       "\n",
       "   City_Other Cities of Maharashtra  City_Other Metro Cities  \\\n",
       "0                                 0                        0   \n",
       "1                                 0                        0   \n",
       "2                                 0                        0   \n",
       "3                                 0                        0   \n",
       "4                                 0                        0   \n",
       "\n",
       "   City_Thane & Outskirts  City_Tier II Cities  \n",
       "0                       0                    0  \n",
       "1                       0                    0  \n",
       "2                       0                    0  \n",
       "3                       0                    0  \n",
       "4                       0                    0  \n",
       "\n",
       "[5 rows x 49 columns]"
      ]
     },
     "execution_count": 258,
     "metadata": {},
     "output_type": "execute_result"
    }
   ],
   "source": [
    "lead.head()"
   ]
  },
  {
   "cell_type": "markdown",
   "id": "3487b1ea",
   "metadata": {},
   "source": [
    "# Model Building"
   ]
  },
  {
   "cell_type": "code",
   "execution_count": 259,
   "id": "6deb38cf",
   "metadata": {},
   "outputs": [],
   "source": [
    "# Let's start by splitting our data into a training set and a test set."
   ]
  },
  {
   "cell_type": "code",
   "execution_count": 260,
   "id": "d35aba77",
   "metadata": {},
   "outputs": [],
   "source": [
    "X = lead.drop('Converted',axis = 1)\n",
    "y = lead['Converted']"
   ]
  },
  {
   "cell_type": "code",
   "execution_count": 261,
   "id": "d5377965",
   "metadata": {},
   "outputs": [
    {
     "data": {
      "text/plain": [
       "(6495, 48)"
      ]
     },
     "execution_count": 261,
     "metadata": {},
     "output_type": "execute_result"
    }
   ],
   "source": [
    "X.shape"
   ]
  },
  {
   "cell_type": "code",
   "execution_count": 262,
   "id": "6311bee7",
   "metadata": {},
   "outputs": [
    {
     "data": {
      "text/plain": [
       "(6495,)"
      ]
     },
     "execution_count": 262,
     "metadata": {},
     "output_type": "execute_result"
    }
   ],
   "source": [
    "y.shape"
   ]
  },
  {
   "cell_type": "code",
   "execution_count": 263,
   "id": "1948958c",
   "metadata": {},
   "outputs": [],
   "source": [
    "# The split is done at 70% and 30% for train and test data respectively\n",
    "from sklearn.model_selection import train_test_split\n",
    "X_train,X_test , y_train, y_test = train_test_split(X,y,test_size = 0.3,random_state = 0)"
   ]
  },
  {
   "cell_type": "markdown",
   "id": "a23680c9",
   "metadata": {},
   "source": [
    "### first training model\n"
   ]
  },
  {
   "cell_type": "code",
   "execution_count": 264,
   "id": "5cc9fb5e",
   "metadata": {},
   "outputs": [],
   "source": [
    "import statsmodels.api as sm"
   ]
  },
  {
   "cell_type": "code",
   "execution_count": 265,
   "id": "71166709",
   "metadata": {},
   "outputs": [
    {
     "data": {
      "text/html": [
       "<table class=\"simpletable\">\n",
       "<caption>Generalized Linear Model Regression Results</caption>\n",
       "<tr>\n",
       "  <th>Dep. Variable:</th>       <td>Converted</td>    <th>  No. Observations:  </th>  <td>  4546</td> \n",
       "</tr>\n",
       "<tr>\n",
       "  <th>Model:</th>                  <td>GLM</td>       <th>  Df Residuals:      </th>  <td>  4497</td> \n",
       "</tr>\n",
       "<tr>\n",
       "  <th>Model Family:</th>        <td>Binomial</td>     <th>  Df Model:          </th>  <td>    48</td> \n",
       "</tr>\n",
       "<tr>\n",
       "  <th>Link Function:</th>         <td>logit</td>      <th>  Scale:             </th> <td>  1.0000</td>\n",
       "</tr>\n",
       "<tr>\n",
       "  <th>Method:</th>                <td>IRLS</td>       <th>  Log-Likelihood:    </th> <td> -875.60</td>\n",
       "</tr>\n",
       "<tr>\n",
       "  <th>Date:</th>            <td>Fri, 16 Jun 2023</td> <th>  Deviance:          </th> <td>  1751.2</td>\n",
       "</tr>\n",
       "<tr>\n",
       "  <th>Time:</th>                <td>22:02:57</td>     <th>  Pearson chi2:      </th> <td>4.97e+03</td>\n",
       "</tr>\n",
       "<tr>\n",
       "  <th>No. Iterations:</th>         <td>21</td>        <th>                     </th>     <td> </td>   \n",
       "</tr>\n",
       "<tr>\n",
       "  <th>Covariance Type:</th>     <td>nonrobust</td>    <th>                     </th>     <td> </td>   \n",
       "</tr>\n",
       "</table>\n",
       "<table class=\"simpletable\">\n",
       "<tr>\n",
       "                                    <td></td>                                       <th>coef</th>     <th>std err</th>      <th>z</th>      <th>P>|z|</th>  <th>[0.025</th>    <th>0.975]</th>  \n",
       "</tr>\n",
       "<tr>\n",
       "  <th>const</th>                                                                 <td>  -18.7763</td> <td> 4.82e+04</td> <td>   -0.000</td> <td> 1.000</td> <td>-9.45e+04</td> <td> 9.44e+04</td>\n",
       "</tr>\n",
       "<tr>\n",
       "  <th>TotalVisits</th>                                                           <td>    0.5304</td> <td>    0.118</td> <td>    4.507</td> <td> 0.000</td> <td>    0.300</td> <td>    0.761</td>\n",
       "</tr>\n",
       "<tr>\n",
       "  <th>Total Time Spent on Website</th>                                           <td>    1.0402</td> <td>    0.077</td> <td>   13.496</td> <td> 0.000</td> <td>    0.889</td> <td>    1.191</td>\n",
       "</tr>\n",
       "<tr>\n",
       "  <th>Page Views Per Visit</th>                                                  <td>   -0.6351</td> <td>    0.122</td> <td>   -5.200</td> <td> 0.000</td> <td>   -0.875</td> <td>   -0.396</td>\n",
       "</tr>\n",
       "<tr>\n",
       "  <th>Lead Source_Direct Traffic</th>                                            <td>   -1.3004</td> <td>    0.282</td> <td>   -4.604</td> <td> 0.000</td> <td>   -1.854</td> <td>   -0.747</td>\n",
       "</tr>\n",
       "<tr>\n",
       "  <th>Lead Source_Google</th>                                                    <td>   -1.1832</td> <td>    0.274</td> <td>   -4.321</td> <td> 0.000</td> <td>   -1.720</td> <td>   -0.646</td>\n",
       "</tr>\n",
       "<tr>\n",
       "  <th>Lead Source_Olark Chat</th>                                                <td>   -0.2721</td> <td>    0.256</td> <td>   -1.064</td> <td> 0.287</td> <td>   -0.773</td> <td>    0.229</td>\n",
       "</tr>\n",
       "<tr>\n",
       "  <th>Lead Source_Organic Search</th>                                            <td>   -1.2089</td> <td>    0.320</td> <td>   -3.774</td> <td> 0.000</td> <td>   -1.837</td> <td>   -0.581</td>\n",
       "</tr>\n",
       "<tr>\n",
       "  <th>Last Activity_Converted to Lead</th>                                       <td>   -0.3721</td> <td>    0.408</td> <td>   -0.912</td> <td> 0.362</td> <td>   -1.172</td> <td>    0.428</td>\n",
       "</tr>\n",
       "<tr>\n",
       "  <th>Last Activity_Email Opened</th>                                            <td>    0.5506</td> <td>    0.231</td> <td>    2.383</td> <td> 0.017</td> <td>    0.098</td> <td>    1.003</td>\n",
       "</tr>\n",
       "<tr>\n",
       "  <th>Last Activity_Olark Chat Conversation</th>                                 <td>   -0.8363</td> <td>    0.338</td> <td>   -2.474</td> <td> 0.013</td> <td>   -1.499</td> <td>   -0.174</td>\n",
       "</tr>\n",
       "<tr>\n",
       "  <th>Last Activity_Page Visited on Website</th>                                 <td>   -0.3735</td> <td>    0.335</td> <td>   -1.116</td> <td> 0.264</td> <td>   -1.029</td> <td>    0.282</td>\n",
       "</tr>\n",
       "<tr>\n",
       "  <th>Last Activity_SMS Sent</th>                                                <td>    1.7974</td> <td>    0.236</td> <td>    7.604</td> <td> 0.000</td> <td>    1.334</td> <td>    2.261</td>\n",
       "</tr>\n",
       "<tr>\n",
       "  <th>Specialization_Banking, Investment And Insurance</th>                      <td>    0.4111</td> <td>    0.408</td> <td>    1.007</td> <td> 0.314</td> <td>   -0.389</td> <td>    1.212</td>\n",
       "</tr>\n",
       "<tr>\n",
       "  <th>Specialization_Business Administration</th>                                <td>    0.2090</td> <td>    0.353</td> <td>    0.592</td> <td> 0.554</td> <td>   -0.483</td> <td>    0.901</td>\n",
       "</tr>\n",
       "<tr>\n",
       "  <th>Specialization_E-COMMERCE</th>                                             <td>    0.3776</td> <td>    0.584</td> <td>    0.646</td> <td> 0.518</td> <td>   -0.767</td> <td>    1.522</td>\n",
       "</tr>\n",
       "<tr>\n",
       "  <th>Specialization_Finance Management</th>                                     <td>    0.3392</td> <td>    0.302</td> <td>    1.122</td> <td> 0.262</td> <td>   -0.253</td> <td>    0.932</td>\n",
       "</tr>\n",
       "<tr>\n",
       "  <th>Specialization_Healthcare Management</th>                                  <td>    0.3784</td> <td>    0.557</td> <td>    0.680</td> <td> 0.497</td> <td>   -0.712</td> <td>    1.469</td>\n",
       "</tr>\n",
       "<tr>\n",
       "  <th>Specialization_Hospitality Management</th>                                 <td>   -0.5909</td> <td>    0.561</td> <td>   -1.054</td> <td> 0.292</td> <td>   -1.690</td> <td>    0.508</td>\n",
       "</tr>\n",
       "<tr>\n",
       "  <th>Specialization_Human Resource Management</th>                              <td>    0.1426</td> <td>    0.309</td> <td>    0.461</td> <td> 0.645</td> <td>   -0.464</td> <td>    0.749</td>\n",
       "</tr>\n",
       "<tr>\n",
       "  <th>Specialization_IT Projects Management</th>                                 <td>    0.6989</td> <td>    0.386</td> <td>    1.812</td> <td> 0.070</td> <td>   -0.057</td> <td>    1.455</td>\n",
       "</tr>\n",
       "<tr>\n",
       "  <th>Specialization_International Business</th>                                 <td>   -0.3379</td> <td>    0.491</td> <td>   -0.688</td> <td> 0.491</td> <td>   -1.300</td> <td>    0.624</td>\n",
       "</tr>\n",
       "<tr>\n",
       "  <th>Specialization_Marketing Management</th>                                   <td>    0.4145</td> <td>    0.286</td> <td>    1.449</td> <td> 0.147</td> <td>   -0.146</td> <td>    0.975</td>\n",
       "</tr>\n",
       "<tr>\n",
       "  <th>Specialization_Media and Advertising</th>                                  <td>    0.4161</td> <td>    0.466</td> <td>    0.893</td> <td> 0.372</td> <td>   -0.497</td> <td>    1.329</td>\n",
       "</tr>\n",
       "<tr>\n",
       "  <th>Specialization_Operations Management</th>                                  <td>    0.3486</td> <td>    0.347</td> <td>    1.003</td> <td> 0.316</td> <td>   -0.332</td> <td>    1.029</td>\n",
       "</tr>\n",
       "<tr>\n",
       "  <th>Specialization_Retail Management</th>                                      <td>   -0.1408</td> <td>    0.575</td> <td>   -0.245</td> <td> 0.807</td> <td>   -1.268</td> <td>    0.986</td>\n",
       "</tr>\n",
       "<tr>\n",
       "  <th>Specialization_Supply Chain Management</th>                                <td>    0.0102</td> <td>    0.391</td> <td>    0.026</td> <td> 0.979</td> <td>   -0.756</td> <td>    0.776</td>\n",
       "</tr>\n",
       "<tr>\n",
       "  <th>Specialization_Travel and Tourism</th>                                     <td>   -0.5744</td> <td>    0.448</td> <td>   -1.282</td> <td> 0.200</td> <td>   -1.452</td> <td>    0.304</td>\n",
       "</tr>\n",
       "<tr>\n",
       "  <th>What is your current occupation_Businessman</th>                           <td>   -0.5406</td> <td>    1.848</td> <td>   -0.292</td> <td> 0.770</td> <td>   -4.163</td> <td>    3.082</td>\n",
       "</tr>\n",
       "<tr>\n",
       "  <th>What is your current occupation_Housewife</th>                             <td>   19.6909</td> <td> 1.53e+04</td> <td>    0.001</td> <td> 0.999</td> <td>   -3e+04</td> <td>    3e+04</td>\n",
       "</tr>\n",
       "<tr>\n",
       "  <th>What is your current occupation_Student</th>                               <td>    0.6405</td> <td>    1.333</td> <td>    0.481</td> <td> 0.631</td> <td>   -1.971</td> <td>    3.252</td>\n",
       "</tr>\n",
       "<tr>\n",
       "  <th>What is your current occupation_Unemployed</th>                            <td>    0.5080</td> <td>    1.232</td> <td>    0.412</td> <td> 0.680</td> <td>   -1.907</td> <td>    2.923</td>\n",
       "</tr>\n",
       "<tr>\n",
       "  <th>What is your current occupation_Working Professional</th>                  <td>    0.7506</td> <td>    1.258</td> <td>    0.597</td> <td> 0.551</td> <td>   -1.715</td> <td>    3.216</td>\n",
       "</tr>\n",
       "<tr>\n",
       "  <th>What matters most to you in choosing a course_Better Career Prospects</th> <td>   19.6424</td> <td> 4.82e+04</td> <td>    0.000</td> <td> 1.000</td> <td>-9.44e+04</td> <td> 9.45e+04</td>\n",
       "</tr>\n",
       "<tr>\n",
       "  <th>Tags_Already a student</th>                                                <td>   -6.0992</td> <td>    0.861</td> <td>   -7.086</td> <td> 0.000</td> <td>   -7.786</td> <td>   -4.412</td>\n",
       "</tr>\n",
       "<tr>\n",
       "  <th>Tags_Closed by Horizzon</th>                                               <td>    4.4129</td> <td>    1.020</td> <td>    4.328</td> <td> 0.000</td> <td>    2.414</td> <td>    6.411</td>\n",
       "</tr>\n",
       "<tr>\n",
       "  <th>Tags_Interested in other courses</th>                                      <td>   -4.2843</td> <td>    0.403</td> <td>  -10.620</td> <td> 0.000</td> <td>   -5.075</td> <td>   -3.494</td>\n",
       "</tr>\n",
       "<tr>\n",
       "  <th>Tags_Other Tag</th>                                                        <td>   -2.3141</td> <td>    0.179</td> <td>  -12.946</td> <td> 0.000</td> <td>   -2.664</td> <td>   -1.964</td>\n",
       "</tr>\n",
       "<tr>\n",
       "  <th>Tags_Ringing</th>                                                          <td>   -4.9457</td> <td>    0.275</td> <td>  -17.959</td> <td> 0.000</td> <td>   -5.485</td> <td>   -4.406</td>\n",
       "</tr>\n",
       "<tr>\n",
       "  <th>Tags_Will revert after reading the email</th>                              <td>    2.1221</td> <td>    0.229</td> <td>    9.274</td> <td> 0.000</td> <td>    1.674</td> <td>    2.571</td>\n",
       "</tr>\n",
       "<tr>\n",
       "  <th>Lead Profile_Not Specified</th>                                            <td>   -0.2885</td> <td>    0.236</td> <td>   -1.222</td> <td> 0.222</td> <td>   -0.751</td> <td>    0.174</td>\n",
       "</tr>\n",
       "<tr>\n",
       "  <th>Lead Profile_Potential Lead</th>                                           <td>    0.4919</td> <td>    0.268</td> <td>    1.835</td> <td> 0.066</td> <td>   -0.033</td> <td>    1.017</td>\n",
       "</tr>\n",
       "<tr>\n",
       "  <th>Lead Profile_Student</th>                                                  <td>    0.5804</td> <td>    0.757</td> <td>    0.766</td> <td> 0.443</td> <td>   -0.904</td> <td>    2.065</td>\n",
       "</tr>\n",
       "<tr>\n",
       "  <th>City_Mumbai</th>                                                           <td>   -0.2711</td> <td>    0.248</td> <td>   -1.093</td> <td> 0.274</td> <td>   -0.757</td> <td>    0.215</td>\n",
       "</tr>\n",
       "<tr>\n",
       "  <th>City_Other Cities</th>                                                     <td>   -0.1447</td> <td>    0.308</td> <td>   -0.470</td> <td> 0.638</td> <td>   -0.748</td> <td>    0.458</td>\n",
       "</tr>\n",
       "<tr>\n",
       "  <th>City_Other Cities of Maharashtra</th>                                      <td>   -0.3518</td> <td>    0.346</td> <td>   -1.016</td> <td> 0.310</td> <td>   -1.031</td> <td>    0.327</td>\n",
       "</tr>\n",
       "<tr>\n",
       "  <th>City_Other Metro Cities</th>                                               <td>   -0.6573</td> <td>    0.399</td> <td>   -1.647</td> <td> 0.099</td> <td>   -1.439</td> <td>    0.125</td>\n",
       "</tr>\n",
       "<tr>\n",
       "  <th>City_Thane & Outskirts</th>                                                <td>   -0.4668</td> <td>    0.316</td> <td>   -1.478</td> <td> 0.139</td> <td>   -1.086</td> <td>    0.152</td>\n",
       "</tr>\n",
       "<tr>\n",
       "  <th>City_Tier II Cities</th>                                                   <td>   -0.8524</td> <td>    0.721</td> <td>   -1.182</td> <td> 0.237</td> <td>   -2.265</td> <td>    0.561</td>\n",
       "</tr>\n",
       "</table>"
      ],
      "text/plain": [
       "<class 'statsmodels.iolib.summary.Summary'>\n",
       "\"\"\"\n",
       "                 Generalized Linear Model Regression Results                  \n",
       "==============================================================================\n",
       "Dep. Variable:              Converted   No. Observations:                 4546\n",
       "Model:                            GLM   Df Residuals:                     4497\n",
       "Model Family:                Binomial   Df Model:                           48\n",
       "Link Function:                  logit   Scale:                          1.0000\n",
       "Method:                          IRLS   Log-Likelihood:                -875.60\n",
       "Date:                Fri, 16 Jun 2023   Deviance:                       1751.2\n",
       "Time:                        22:02:57   Pearson chi2:                 4.97e+03\n",
       "No. Iterations:                    21                                         \n",
       "Covariance Type:            nonrobust                                         \n",
       "=========================================================================================================================================\n",
       "                                                                            coef    std err          z      P>|z|      [0.025      0.975]\n",
       "-----------------------------------------------------------------------------------------------------------------------------------------\n",
       "const                                                                   -18.7763   4.82e+04     -0.000      1.000   -9.45e+04    9.44e+04\n",
       "TotalVisits                                                               0.5304      0.118      4.507      0.000       0.300       0.761\n",
       "Total Time Spent on Website                                               1.0402      0.077     13.496      0.000       0.889       1.191\n",
       "Page Views Per Visit                                                     -0.6351      0.122     -5.200      0.000      -0.875      -0.396\n",
       "Lead Source_Direct Traffic                                               -1.3004      0.282     -4.604      0.000      -1.854      -0.747\n",
       "Lead Source_Google                                                       -1.1832      0.274     -4.321      0.000      -1.720      -0.646\n",
       "Lead Source_Olark Chat                                                   -0.2721      0.256     -1.064      0.287      -0.773       0.229\n",
       "Lead Source_Organic Search                                               -1.2089      0.320     -3.774      0.000      -1.837      -0.581\n",
       "Last Activity_Converted to Lead                                          -0.3721      0.408     -0.912      0.362      -1.172       0.428\n",
       "Last Activity_Email Opened                                                0.5506      0.231      2.383      0.017       0.098       1.003\n",
       "Last Activity_Olark Chat Conversation                                    -0.8363      0.338     -2.474      0.013      -1.499      -0.174\n",
       "Last Activity_Page Visited on Website                                    -0.3735      0.335     -1.116      0.264      -1.029       0.282\n",
       "Last Activity_SMS Sent                                                    1.7974      0.236      7.604      0.000       1.334       2.261\n",
       "Specialization_Banking, Investment And Insurance                          0.4111      0.408      1.007      0.314      -0.389       1.212\n",
       "Specialization_Business Administration                                    0.2090      0.353      0.592      0.554      -0.483       0.901\n",
       "Specialization_E-COMMERCE                                                 0.3776      0.584      0.646      0.518      -0.767       1.522\n",
       "Specialization_Finance Management                                         0.3392      0.302      1.122      0.262      -0.253       0.932\n",
       "Specialization_Healthcare Management                                      0.3784      0.557      0.680      0.497      -0.712       1.469\n",
       "Specialization_Hospitality Management                                    -0.5909      0.561     -1.054      0.292      -1.690       0.508\n",
       "Specialization_Human Resource Management                                  0.1426      0.309      0.461      0.645      -0.464       0.749\n",
       "Specialization_IT Projects Management                                     0.6989      0.386      1.812      0.070      -0.057       1.455\n",
       "Specialization_International Business                                    -0.3379      0.491     -0.688      0.491      -1.300       0.624\n",
       "Specialization_Marketing Management                                       0.4145      0.286      1.449      0.147      -0.146       0.975\n",
       "Specialization_Media and Advertising                                      0.4161      0.466      0.893      0.372      -0.497       1.329\n",
       "Specialization_Operations Management                                      0.3486      0.347      1.003      0.316      -0.332       1.029\n",
       "Specialization_Retail Management                                         -0.1408      0.575     -0.245      0.807      -1.268       0.986\n",
       "Specialization_Supply Chain Management                                    0.0102      0.391      0.026      0.979      -0.756       0.776\n",
       "Specialization_Travel and Tourism                                        -0.5744      0.448     -1.282      0.200      -1.452       0.304\n",
       "What is your current occupation_Businessman                              -0.5406      1.848     -0.292      0.770      -4.163       3.082\n",
       "What is your current occupation_Housewife                                19.6909   1.53e+04      0.001      0.999      -3e+04       3e+04\n",
       "What is your current occupation_Student                                   0.6405      1.333      0.481      0.631      -1.971       3.252\n",
       "What is your current occupation_Unemployed                                0.5080      1.232      0.412      0.680      -1.907       2.923\n",
       "What is your current occupation_Working Professional                      0.7506      1.258      0.597      0.551      -1.715       3.216\n",
       "What matters most to you in choosing a course_Better Career Prospects    19.6424   4.82e+04      0.000      1.000   -9.44e+04    9.45e+04\n",
       "Tags_Already a student                                                   -6.0992      0.861     -7.086      0.000      -7.786      -4.412\n",
       "Tags_Closed by Horizzon                                                   4.4129      1.020      4.328      0.000       2.414       6.411\n",
       "Tags_Interested in other courses                                         -4.2843      0.403    -10.620      0.000      -5.075      -3.494\n",
       "Tags_Other Tag                                                           -2.3141      0.179    -12.946      0.000      -2.664      -1.964\n",
       "Tags_Ringing                                                             -4.9457      0.275    -17.959      0.000      -5.485      -4.406\n",
       "Tags_Will revert after reading the email                                  2.1221      0.229      9.274      0.000       1.674       2.571\n",
       "Lead Profile_Not Specified                                               -0.2885      0.236     -1.222      0.222      -0.751       0.174\n",
       "Lead Profile_Potential Lead                                               0.4919      0.268      1.835      0.066      -0.033       1.017\n",
       "Lead Profile_Student                                                      0.5804      0.757      0.766      0.443      -0.904       2.065\n",
       "City_Mumbai                                                              -0.2711      0.248     -1.093      0.274      -0.757       0.215\n",
       "City_Other Cities                                                        -0.1447      0.308     -0.470      0.638      -0.748       0.458\n",
       "City_Other Cities of Maharashtra                                         -0.3518      0.346     -1.016      0.310      -1.031       0.327\n",
       "City_Other Metro Cities                                                  -0.6573      0.399     -1.647      0.099      -1.439       0.125\n",
       "City_Thane & Outskirts                                                   -0.4668      0.316     -1.478      0.139      -1.086       0.152\n",
       "City_Tier II Cities                                                      -0.8524      0.721     -1.182      0.237      -2.265       0.561\n",
       "=========================================================================================================================================\n",
       "\"\"\""
      ]
     },
     "execution_count": 265,
     "metadata": {},
     "output_type": "execute_result"
    }
   ],
   "source": [
    "logm1 = sm.GLM(y_train,(sm.add_constant(X_train)), family = sm.families.Binomial())\n",
    "logm1.fit().summary()"
   ]
  },
  {
   "cell_type": "markdown",
   "id": "63e5337f",
   "metadata": {},
   "source": [
    "## Feature Selection using RFE"
   ]
  },
  {
   "cell_type": "code",
   "execution_count": 266,
   "id": "4c604735",
   "metadata": {},
   "outputs": [],
   "source": [
    "from sklearn.linear_model import LogisticRegression\n",
    "logreg = LogisticRegression()"
   ]
  },
  {
   "cell_type": "code",
   "execution_count": 267,
   "id": "99bb0093",
   "metadata": {},
   "outputs": [],
   "source": [
    "from sklearn.feature_selection import RFE\n",
    "rfe = RFE(logreg,n_features_to_select=18)             # running RFE with 18 variables as output\n",
    "rfe = rfe.fit(X_train, y_train)"
   ]
  },
  {
   "cell_type": "code",
   "execution_count": 268,
   "id": "fb1e6660",
   "metadata": {},
   "outputs": [
    {
     "data": {
      "text/plain": [
       "array([False,  True,  True,  True,  True, False,  True, False,  True,\n",
       "        True, False,  True, False, False, False, False, False,  True,\n",
       "       False, False, False, False, False, False, False, False,  True,\n",
       "       False, False, False, False, False, False,  True,  True,  True,\n",
       "        True,  True,  True, False,  True, False, False, False, False,\n",
       "       False, False,  True])"
      ]
     },
     "execution_count": 268,
     "metadata": {},
     "output_type": "execute_result"
    }
   ],
   "source": [
    "rfe.support_"
   ]
  },
  {
   "cell_type": "code",
   "execution_count": 269,
   "id": "6d082f8b",
   "metadata": {},
   "outputs": [
    {
     "data": {
      "text/plain": [
       "[('TotalVisits', False, 2),\n",
       " ('Total Time Spent on Website', True, 1),\n",
       " ('Page Views Per Visit', True, 1),\n",
       " ('Lead Source_Direct Traffic', True, 1),\n",
       " ('Lead Source_Google', True, 1),\n",
       " ('Lead Source_Olark Chat', False, 12),\n",
       " ('Lead Source_Organic Search', True, 1),\n",
       " ('Last Activity_Converted to Lead', False, 6),\n",
       " ('Last Activity_Email Opened', True, 1),\n",
       " ('Last Activity_Olark Chat Conversation', True, 1),\n",
       " ('Last Activity_Page Visited on Website', False, 7),\n",
       " ('Last Activity_SMS Sent', True, 1),\n",
       " ('Specialization_Banking, Investment And Insurance', False, 15),\n",
       " ('Specialization_Business Administration', False, 27),\n",
       " ('Specialization_E-COMMERCE', False, 23),\n",
       " ('Specialization_Finance Management', False, 20),\n",
       " ('Specialization_Healthcare Management', False, 19),\n",
       " ('Specialization_Hospitality Management', True, 1),\n",
       " ('Specialization_Human Resource Management', False, 29),\n",
       " ('Specialization_IT Projects Management', False, 5),\n",
       " ('Specialization_International Business', False, 3),\n",
       " ('Specialization_Marketing Management', False, 16),\n",
       " ('Specialization_Media and Advertising', False, 17),\n",
       " ('Specialization_Operations Management', False, 21),\n",
       " ('Specialization_Retail Management', False, 9),\n",
       " ('Specialization_Supply Chain Management', False, 25),\n",
       " ('Specialization_Travel and Tourism', True, 1),\n",
       " ('What is your current occupation_Businessman', False, 11),\n",
       " ('What is your current occupation_Housewife', False, 10),\n",
       " ('What is your current occupation_Student', False, 30),\n",
       " ('What is your current occupation_Unemployed', False, 31),\n",
       " ('What is your current occupation_Working Professional', False, 4),\n",
       " ('What matters most to you in choosing a course_Better Career Prospects',\n",
       "  False,\n",
       "  28),\n",
       " ('Tags_Already a student', True, 1),\n",
       " ('Tags_Closed by Horizzon', True, 1),\n",
       " ('Tags_Interested in other courses', True, 1),\n",
       " ('Tags_Other Tag', True, 1),\n",
       " ('Tags_Ringing', True, 1),\n",
       " ('Tags_Will revert after reading the email', True, 1),\n",
       " ('Lead Profile_Not Specified', False, 14),\n",
       " ('Lead Profile_Potential Lead', True, 1),\n",
       " ('Lead Profile_Student', False, 18),\n",
       " ('City_Mumbai', False, 24),\n",
       " ('City_Other Cities', False, 26),\n",
       " ('City_Other Cities of Maharashtra', False, 22),\n",
       " ('City_Other Metro Cities', False, 8),\n",
       " ('City_Thane & Outskirts', False, 13),\n",
       " ('City_Tier II Cities', True, 1)]"
      ]
     },
     "execution_count": 269,
     "metadata": {},
     "output_type": "execute_result"
    }
   ],
   "source": [
    "list(zip(X_train.columns, rfe.support_, rfe.ranking_))"
   ]
  },
  {
   "cell_type": "code",
   "execution_count": 270,
   "id": "47ec6ed7",
   "metadata": {},
   "outputs": [],
   "source": [
    "col = X_train.columns[rfe.support_]"
   ]
  },
  {
   "cell_type": "code",
   "execution_count": 271,
   "id": "02b6fa2f",
   "metadata": {},
   "outputs": [
    {
     "data": {
      "text/plain": [
       "Index(['TotalVisits', 'Lead Source_Olark Chat',\n",
       "       'Last Activity_Converted to Lead',\n",
       "       'Last Activity_Page Visited on Website',\n",
       "       'Specialization_Banking, Investment And Insurance',\n",
       "       'Specialization_Business Administration', 'Specialization_E-COMMERCE',\n",
       "       'Specialization_Finance Management',\n",
       "       'Specialization_Healthcare Management',\n",
       "       'Specialization_Human Resource Management',\n",
       "       'Specialization_IT Projects Management',\n",
       "       'Specialization_International Business',\n",
       "       'Specialization_Marketing Management',\n",
       "       'Specialization_Media and Advertising',\n",
       "       'Specialization_Operations Management',\n",
       "       'Specialization_Retail Management',\n",
       "       'Specialization_Supply Chain Management',\n",
       "       'What is your current occupation_Businessman',\n",
       "       'What is your current occupation_Housewife',\n",
       "       'What is your current occupation_Student',\n",
       "       'What is your current occupation_Unemployed',\n",
       "       'What is your current occupation_Working Professional',\n",
       "       'What matters most to you in choosing a course_Better Career Prospects',\n",
       "       'Lead Profile_Not Specified', 'Lead Profile_Student', 'City_Mumbai',\n",
       "       'City_Other Cities', 'City_Other Cities of Maharashtra',\n",
       "       'City_Other Metro Cities', 'City_Thane & Outskirts'],\n",
       "      dtype='object')"
      ]
     },
     "execution_count": 271,
     "metadata": {},
     "output_type": "execute_result"
    }
   ],
   "source": [
    "X_train.columns[~rfe.support_]"
   ]
  },
  {
   "cell_type": "markdown",
   "id": "f64aaaa3",
   "metadata": {},
   "source": [
    "### model assesment with Statsmodel"
   ]
  },
  {
   "cell_type": "code",
   "execution_count": 272,
   "id": "5d0a1b17",
   "metadata": {},
   "outputs": [
    {
     "data": {
      "text/html": [
       "<table class=\"simpletable\">\n",
       "<caption>Generalized Linear Model Regression Results</caption>\n",
       "<tr>\n",
       "  <th>Dep. Variable:</th>       <td>Converted</td>    <th>  No. Observations:  </th>  <td>  4546</td> \n",
       "</tr>\n",
       "<tr>\n",
       "  <th>Model:</th>                  <td>GLM</td>       <th>  Df Residuals:      </th>  <td>  4527</td> \n",
       "</tr>\n",
       "<tr>\n",
       "  <th>Model Family:</th>        <td>Binomial</td>     <th>  Df Model:          </th>  <td>    18</td> \n",
       "</tr>\n",
       "<tr>\n",
       "  <th>Link Function:</th>         <td>logit</td>      <th>  Scale:             </th> <td>  1.0000</td>\n",
       "</tr>\n",
       "<tr>\n",
       "  <th>Method:</th>                <td>IRLS</td>       <th>  Log-Likelihood:    </th> <td> -894.40</td>\n",
       "</tr>\n",
       "<tr>\n",
       "  <th>Date:</th>            <td>Fri, 16 Jun 2023</td> <th>  Deviance:          </th> <td>  1788.8</td>\n",
       "</tr>\n",
       "<tr>\n",
       "  <th>Time:</th>                <td>22:02:59</td>     <th>  Pearson chi2:      </th> <td>4.74e+03</td>\n",
       "</tr>\n",
       "<tr>\n",
       "  <th>No. Iterations:</th>          <td>8</td>        <th>                     </th>     <td> </td>   \n",
       "</tr>\n",
       "<tr>\n",
       "  <th>Covariance Type:</th>     <td>nonrobust</td>    <th>                     </th>     <td> </td>   \n",
       "</tr>\n",
       "</table>\n",
       "<table class=\"simpletable\">\n",
       "<tr>\n",
       "                      <td></td>                        <th>coef</th>     <th>std err</th>      <th>z</th>      <th>P>|z|</th>  <th>[0.025</th>    <th>0.975]</th>  \n",
       "</tr>\n",
       "<tr>\n",
       "  <th>const</th>                                    <td>    0.6339</td> <td>    0.238</td> <td>    2.659</td> <td> 0.008</td> <td>    0.167</td> <td>    1.101</td>\n",
       "</tr>\n",
       "<tr>\n",
       "  <th>Total Time Spent on Website</th>              <td>    1.0633</td> <td>    0.076</td> <td>   14.070</td> <td> 0.000</td> <td>    0.915</td> <td>    1.211</td>\n",
       "</tr>\n",
       "<tr>\n",
       "  <th>Page Views Per Visit</th>                     <td>   -0.2695</td> <td>    0.089</td> <td>   -3.045</td> <td> 0.002</td> <td>   -0.443</td> <td>   -0.096</td>\n",
       "</tr>\n",
       "<tr>\n",
       "  <th>Lead Source_Direct Traffic</th>               <td>   -1.0021</td> <td>    0.224</td> <td>   -4.468</td> <td> 0.000</td> <td>   -1.442</td> <td>   -0.562</td>\n",
       "</tr>\n",
       "<tr>\n",
       "  <th>Lead Source_Google</th>                       <td>   -0.8827</td> <td>    0.224</td> <td>   -3.947</td> <td> 0.000</td> <td>   -1.321</td> <td>   -0.444</td>\n",
       "</tr>\n",
       "<tr>\n",
       "  <th>Lead Source_Organic Search</th>               <td>   -0.8492</td> <td>    0.275</td> <td>   -3.091</td> <td> 0.002</td> <td>   -1.388</td> <td>   -0.311</td>\n",
       "</tr>\n",
       "<tr>\n",
       "  <th>Last Activity_Email Opened</th>               <td>    0.7189</td> <td>    0.178</td> <td>    4.036</td> <td> 0.000</td> <td>    0.370</td> <td>    1.068</td>\n",
       "</tr>\n",
       "<tr>\n",
       "  <th>Last Activity_Olark Chat Conversation</th>    <td>   -0.6926</td> <td>    0.296</td> <td>   -2.341</td> <td> 0.019</td> <td>   -1.273</td> <td>   -0.113</td>\n",
       "</tr>\n",
       "<tr>\n",
       "  <th>Last Activity_SMS Sent</th>                   <td>    1.8893</td> <td>    0.183</td> <td>   10.350</td> <td> 0.000</td> <td>    1.531</td> <td>    2.247</td>\n",
       "</tr>\n",
       "<tr>\n",
       "  <th>Specialization_Hospitality Management</th>    <td>   -0.9091</td> <td>    0.505</td> <td>   -1.799</td> <td> 0.072</td> <td>   -1.899</td> <td>    0.081</td>\n",
       "</tr>\n",
       "<tr>\n",
       "  <th>Specialization_Travel and Tourism</th>        <td>   -0.8111</td> <td>    0.393</td> <td>   -2.064</td> <td> 0.039</td> <td>   -1.581</td> <td>   -0.041</td>\n",
       "</tr>\n",
       "<tr>\n",
       "  <th>Tags_Already a student</th>                   <td>   -5.5974</td> <td>    0.737</td> <td>   -7.595</td> <td> 0.000</td> <td>   -7.042</td> <td>   -4.153</td>\n",
       "</tr>\n",
       "<tr>\n",
       "  <th>Tags_Closed by Horizzon</th>                  <td>    4.5912</td> <td>    1.014</td> <td>    4.528</td> <td> 0.000</td> <td>    2.604</td> <td>    6.578</td>\n",
       "</tr>\n",
       "<tr>\n",
       "  <th>Tags_Interested in other courses</th>         <td>   -4.2612</td> <td>    0.401</td> <td>  -10.638</td> <td> 0.000</td> <td>   -5.046</td> <td>   -3.476</td>\n",
       "</tr>\n",
       "<tr>\n",
       "  <th>Tags_Other Tag</th>                           <td>   -2.2119</td> <td>    0.164</td> <td>  -13.526</td> <td> 0.000</td> <td>   -2.532</td> <td>   -1.891</td>\n",
       "</tr>\n",
       "<tr>\n",
       "  <th>Tags_Ringing</th>                             <td>   -4.8687</td> <td>    0.268</td> <td>  -18.152</td> <td> 0.000</td> <td>   -5.394</td> <td>   -4.343</td>\n",
       "</tr>\n",
       "<tr>\n",
       "  <th>Tags_Will revert after reading the email</th> <td>    2.1936</td> <td>    0.207</td> <td>   10.620</td> <td> 0.000</td> <td>    1.789</td> <td>    2.598</td>\n",
       "</tr>\n",
       "<tr>\n",
       "  <th>Lead Profile_Potential Lead</th>              <td>    0.7616</td> <td>    0.177</td> <td>    4.300</td> <td> 0.000</td> <td>    0.414</td> <td>    1.109</td>\n",
       "</tr>\n",
       "<tr>\n",
       "  <th>City_Tier II Cities</th>                      <td>   -0.8325</td> <td>    0.678</td> <td>   -1.228</td> <td> 0.219</td> <td>   -2.161</td> <td>    0.496</td>\n",
       "</tr>\n",
       "</table>"
      ],
      "text/plain": [
       "<class 'statsmodels.iolib.summary.Summary'>\n",
       "\"\"\"\n",
       "                 Generalized Linear Model Regression Results                  \n",
       "==============================================================================\n",
       "Dep. Variable:              Converted   No. Observations:                 4546\n",
       "Model:                            GLM   Df Residuals:                     4527\n",
       "Model Family:                Binomial   Df Model:                           18\n",
       "Link Function:                  logit   Scale:                          1.0000\n",
       "Method:                          IRLS   Log-Likelihood:                -894.40\n",
       "Date:                Fri, 16 Jun 2023   Deviance:                       1788.8\n",
       "Time:                        22:02:59   Pearson chi2:                 4.74e+03\n",
       "No. Iterations:                     8                                         \n",
       "Covariance Type:            nonrobust                                         \n",
       "============================================================================================================\n",
       "                                               coef    std err          z      P>|z|      [0.025      0.975]\n",
       "------------------------------------------------------------------------------------------------------------\n",
       "const                                        0.6339      0.238      2.659      0.008       0.167       1.101\n",
       "Total Time Spent on Website                  1.0633      0.076     14.070      0.000       0.915       1.211\n",
       "Page Views Per Visit                        -0.2695      0.089     -3.045      0.002      -0.443      -0.096\n",
       "Lead Source_Direct Traffic                  -1.0021      0.224     -4.468      0.000      -1.442      -0.562\n",
       "Lead Source_Google                          -0.8827      0.224     -3.947      0.000      -1.321      -0.444\n",
       "Lead Source_Organic Search                  -0.8492      0.275     -3.091      0.002      -1.388      -0.311\n",
       "Last Activity_Email Opened                   0.7189      0.178      4.036      0.000       0.370       1.068\n",
       "Last Activity_Olark Chat Conversation       -0.6926      0.296     -2.341      0.019      -1.273      -0.113\n",
       "Last Activity_SMS Sent                       1.8893      0.183     10.350      0.000       1.531       2.247\n",
       "Specialization_Hospitality Management       -0.9091      0.505     -1.799      0.072      -1.899       0.081\n",
       "Specialization_Travel and Tourism           -0.8111      0.393     -2.064      0.039      -1.581      -0.041\n",
       "Tags_Already a student                      -5.5974      0.737     -7.595      0.000      -7.042      -4.153\n",
       "Tags_Closed by Horizzon                      4.5912      1.014      4.528      0.000       2.604       6.578\n",
       "Tags_Interested in other courses            -4.2612      0.401    -10.638      0.000      -5.046      -3.476\n",
       "Tags_Other Tag                              -2.2119      0.164    -13.526      0.000      -2.532      -1.891\n",
       "Tags_Ringing                                -4.8687      0.268    -18.152      0.000      -5.394      -4.343\n",
       "Tags_Will revert after reading the email     2.1936      0.207     10.620      0.000       1.789       2.598\n",
       "Lead Profile_Potential Lead                  0.7616      0.177      4.300      0.000       0.414       1.109\n",
       "City_Tier II Cities                         -0.8325      0.678     -1.228      0.219      -2.161       0.496\n",
       "============================================================================================================\n",
       "\"\"\""
      ]
     },
     "execution_count": 272,
     "metadata": {},
     "output_type": "execute_result"
    }
   ],
   "source": [
    "# Let us now evaluate the model by checking its' characteristics using statsmodel\n",
    "X_train_sm = sm.add_constant(X_train[col])\n",
    "logm2 = sm.GLM(y_train,X_train_sm, family = sm.families.Binomial())\n",
    "res = logm2.fit()\n",
    "res.summary()"
   ]
  },
  {
   "cell_type": "code",
   "execution_count": 273,
   "id": "5f6e029d",
   "metadata": {},
   "outputs": [
    {
     "data": {
      "text/plain": [
       "2200    0.002176\n",
       "5214    0.268471\n",
       "1561    0.975248\n",
       "6259    0.662689\n",
       "8471    0.200321\n",
       "3672    0.195325\n",
       "7953    0.980907\n",
       "8943    0.997062\n",
       "874     0.991138\n",
       "3782    0.005571\n",
       "dtype: float64"
      ]
     },
     "execution_count": 273,
     "metadata": {},
     "output_type": "execute_result"
    }
   ],
   "source": [
    "# Getting the predicted values on the train set\n",
    "y_train_pred = res.predict(X_train_sm)\n",
    "y_train_pred[:10]"
   ]
  },
  {
   "cell_type": "code",
   "execution_count": 274,
   "id": "ed7e5e91",
   "metadata": {},
   "outputs": [
    {
     "data": {
      "text/plain": [
       "array([0.00217617, 0.26847078, 0.97524784, 0.66268882, 0.20032063,\n",
       "       0.19532529, 0.98090665, 0.99706154, 0.9911382 , 0.0055711 ])"
      ]
     },
     "execution_count": 274,
     "metadata": {},
     "output_type": "execute_result"
    }
   ],
   "source": [
    "y_train_pred = y_train_pred.values.reshape(-1)\n",
    "y_train_pred[:10]\n"
   ]
  },
  {
   "cell_type": "code",
   "execution_count": 275,
   "id": "46504a78",
   "metadata": {},
   "outputs": [
    {
     "data": {
      "text/html": [
       "<div>\n",
       "<style scoped>\n",
       "    .dataframe tbody tr th:only-of-type {\n",
       "        vertical-align: middle;\n",
       "    }\n",
       "\n",
       "    .dataframe tbody tr th {\n",
       "        vertical-align: top;\n",
       "    }\n",
       "\n",
       "    .dataframe thead th {\n",
       "        text-align: right;\n",
       "    }\n",
       "</style>\n",
       "<table border=\"1\" class=\"dataframe\">\n",
       "  <thead>\n",
       "    <tr style=\"text-align: right;\">\n",
       "      <th></th>\n",
       "      <th>Converted</th>\n",
       "      <th>Converted_Prob</th>\n",
       "      <th>Lead ID</th>\n",
       "    </tr>\n",
       "  </thead>\n",
       "  <tbody>\n",
       "    <tr>\n",
       "      <th>0</th>\n",
       "      <td>0</td>\n",
       "      <td>0.002176</td>\n",
       "      <td>2200</td>\n",
       "    </tr>\n",
       "    <tr>\n",
       "      <th>1</th>\n",
       "      <td>0</td>\n",
       "      <td>0.268471</td>\n",
       "      <td>5214</td>\n",
       "    </tr>\n",
       "    <tr>\n",
       "      <th>2</th>\n",
       "      <td>1</td>\n",
       "      <td>0.975248</td>\n",
       "      <td>1561</td>\n",
       "    </tr>\n",
       "    <tr>\n",
       "      <th>3</th>\n",
       "      <td>1</td>\n",
       "      <td>0.662689</td>\n",
       "      <td>6259</td>\n",
       "    </tr>\n",
       "    <tr>\n",
       "      <th>4</th>\n",
       "      <td>0</td>\n",
       "      <td>0.200321</td>\n",
       "      <td>8471</td>\n",
       "    </tr>\n",
       "  </tbody>\n",
       "</table>\n",
       "</div>"
      ],
      "text/plain": [
       "   Converted  Converted_Prob  Lead ID\n",
       "0          0        0.002176     2200\n",
       "1          0        0.268471     5214\n",
       "2          1        0.975248     1561\n",
       "3          1        0.662689     6259\n",
       "4          0        0.200321     8471"
      ]
     },
     "execution_count": 275,
     "metadata": {},
     "output_type": "execute_result"
    }
   ],
   "source": [
    "# Creating a dataframe with the actual converted flag and the predicted probabilities\n",
    "y_train_pred_final = pd.DataFrame({'Converted':y_train.values, 'Converted_Prob':y_train_pred})\n",
    "y_train_pred_final['Lead ID'] = y_train.index\n",
    "y_train_pred_final.head()"
   ]
  },
  {
   "cell_type": "code",
   "execution_count": 276,
   "id": "3b7f0598",
   "metadata": {},
   "outputs": [
    {
     "data": {
      "text/html": [
       "<div>\n",
       "<style scoped>\n",
       "    .dataframe tbody tr th:only-of-type {\n",
       "        vertical-align: middle;\n",
       "    }\n",
       "\n",
       "    .dataframe tbody tr th {\n",
       "        vertical-align: top;\n",
       "    }\n",
       "\n",
       "    .dataframe thead th {\n",
       "        text-align: right;\n",
       "    }\n",
       "</style>\n",
       "<table border=\"1\" class=\"dataframe\">\n",
       "  <thead>\n",
       "    <tr style=\"text-align: right;\">\n",
       "      <th></th>\n",
       "      <th>Converted</th>\n",
       "      <th>Converted_Prob</th>\n",
       "      <th>Lead ID</th>\n",
       "      <th>predicted</th>\n",
       "    </tr>\n",
       "  </thead>\n",
       "  <tbody>\n",
       "    <tr>\n",
       "      <th>0</th>\n",
       "      <td>0</td>\n",
       "      <td>0.002176</td>\n",
       "      <td>2200</td>\n",
       "      <td>0</td>\n",
       "    </tr>\n",
       "    <tr>\n",
       "      <th>1</th>\n",
       "      <td>0</td>\n",
       "      <td>0.268471</td>\n",
       "      <td>5214</td>\n",
       "      <td>0</td>\n",
       "    </tr>\n",
       "    <tr>\n",
       "      <th>2</th>\n",
       "      <td>1</td>\n",
       "      <td>0.975248</td>\n",
       "      <td>1561</td>\n",
       "      <td>1</td>\n",
       "    </tr>\n",
       "    <tr>\n",
       "      <th>3</th>\n",
       "      <td>1</td>\n",
       "      <td>0.662689</td>\n",
       "      <td>6259</td>\n",
       "      <td>1</td>\n",
       "    </tr>\n",
       "    <tr>\n",
       "      <th>4</th>\n",
       "      <td>0</td>\n",
       "      <td>0.200321</td>\n",
       "      <td>8471</td>\n",
       "      <td>0</td>\n",
       "    </tr>\n",
       "  </tbody>\n",
       "</table>\n",
       "</div>"
      ],
      "text/plain": [
       "   Converted  Converted_Prob  Lead ID  predicted\n",
       "0          0        0.002176     2200          0\n",
       "1          0        0.268471     5214          0\n",
       "2          1        0.975248     1561          1\n",
       "3          1        0.662689     6259          1\n",
       "4          0        0.200321     8471          0"
      ]
     },
     "execution_count": 276,
     "metadata": {},
     "output_type": "execute_result"
    }
   ],
   "source": [
    "y_train_pred_final['predicted'] = y_train_pred_final.Converted_Prob.map(lambda x: 1 if x > 0.5 else 0)\n",
    "\n",
    "# Let's see a glimpse of the data \n",
    "y_train_pred_final.head()"
   ]
  },
  {
   "cell_type": "code",
   "execution_count": 277,
   "id": "708d9750",
   "metadata": {},
   "outputs": [],
   "source": [
    "from sklearn import metrics"
   ]
  },
  {
   "cell_type": "code",
   "execution_count": 278,
   "id": "27885fd0",
   "metadata": {},
   "outputs": [
    {
     "name": "stdout",
     "output_type": "stream",
     "text": [
      "[[2156  153]\n",
      " [ 171 2066]]\n"
     ]
    }
   ],
   "source": [
    "# Let's creata a Confusion matrix for metric evaluation\n",
    "confusion = metrics.confusion_matrix(y_train_pred_final.Converted, y_train_pred_final.predicted )\n",
    "print(confusion)"
   ]
  },
  {
   "cell_type": "code",
   "execution_count": 279,
   "id": "70c05856",
   "metadata": {},
   "outputs": [
    {
     "name": "stdout",
     "output_type": "stream",
     "text": [
      "0.9287285525736911\n"
     ]
    }
   ],
   "source": [
    "# Let's check the overall accuracy.\n",
    "print(metrics.accuracy_score(y_train_pred_final.Converted, y_train_pred_final.predicted))"
   ]
  },
  {
   "cell_type": "markdown",
   "id": "3546efa5",
   "metadata": {},
   "source": [
    "## Checking VIF"
   ]
  },
  {
   "cell_type": "code",
   "execution_count": 280,
   "id": "a9755089",
   "metadata": {},
   "outputs": [],
   "source": [
    "# Check for the VIF values of the feature variables. \n",
    "from statsmodels.stats.outliers_influence import variance_inflation_factor"
   ]
  },
  {
   "cell_type": "code",
   "execution_count": 281,
   "id": "a5eb6ce3",
   "metadata": {},
   "outputs": [
    {
     "data": {
      "text/html": [
       "<div>\n",
       "<style scoped>\n",
       "    .dataframe tbody tr th:only-of-type {\n",
       "        vertical-align: middle;\n",
       "    }\n",
       "\n",
       "    .dataframe tbody tr th {\n",
       "        vertical-align: top;\n",
       "    }\n",
       "\n",
       "    .dataframe thead th {\n",
       "        text-align: right;\n",
       "    }\n",
       "</style>\n",
       "<table border=\"1\" class=\"dataframe\">\n",
       "  <thead>\n",
       "    <tr style=\"text-align: right;\">\n",
       "      <th></th>\n",
       "      <th>Features</th>\n",
       "      <th>VIF</th>\n",
       "    </tr>\n",
       "  </thead>\n",
       "  <tbody>\n",
       "    <tr>\n",
       "      <th>15</th>\n",
       "      <td>Tags_Will revert after reading the email</td>\n",
       "      <td>3.38</td>\n",
       "    </tr>\n",
       "    <tr>\n",
       "      <th>3</th>\n",
       "      <td>Lead Source_Google</td>\n",
       "      <td>2.90</td>\n",
       "    </tr>\n",
       "    <tr>\n",
       "      <th>2</th>\n",
       "      <td>Lead Source_Direct Traffic</td>\n",
       "      <td>2.86</td>\n",
       "    </tr>\n",
       "    <tr>\n",
       "      <th>7</th>\n",
       "      <td>Last Activity_SMS Sent</td>\n",
       "      <td>2.27</td>\n",
       "    </tr>\n",
       "    <tr>\n",
       "      <th>14</th>\n",
       "      <td>Tags_Ringing</td>\n",
       "      <td>2.27</td>\n",
       "    </tr>\n",
       "    <tr>\n",
       "      <th>5</th>\n",
       "      <td>Last Activity_Email Opened</td>\n",
       "      <td>2.26</td>\n",
       "    </tr>\n",
       "    <tr>\n",
       "      <th>13</th>\n",
       "      <td>Tags_Other Tag</td>\n",
       "      <td>2.15</td>\n",
       "    </tr>\n",
       "    <tr>\n",
       "      <th>4</th>\n",
       "      <td>Lead Source_Organic Search</td>\n",
       "      <td>2.04</td>\n",
       "    </tr>\n",
       "    <tr>\n",
       "      <th>16</th>\n",
       "      <td>Lead Profile_Potential Lead</td>\n",
       "      <td>1.69</td>\n",
       "    </tr>\n",
       "    <tr>\n",
       "      <th>1</th>\n",
       "      <td>Page Views Per Visit</td>\n",
       "      <td>1.66</td>\n",
       "    </tr>\n",
       "    <tr>\n",
       "      <th>10</th>\n",
       "      <td>Tags_Already a student</td>\n",
       "      <td>1.48</td>\n",
       "    </tr>\n",
       "    <tr>\n",
       "      <th>12</th>\n",
       "      <td>Tags_Interested in other courses</td>\n",
       "      <td>1.46</td>\n",
       "    </tr>\n",
       "    <tr>\n",
       "      <th>0</th>\n",
       "      <td>Total Time Spent on Website</td>\n",
       "      <td>1.39</td>\n",
       "    </tr>\n",
       "    <tr>\n",
       "      <th>11</th>\n",
       "      <td>Tags_Closed by Horizzon</td>\n",
       "      <td>1.29</td>\n",
       "    </tr>\n",
       "    <tr>\n",
       "      <th>6</th>\n",
       "      <td>Last Activity_Olark Chat Conversation</td>\n",
       "      <td>1.28</td>\n",
       "    </tr>\n",
       "    <tr>\n",
       "      <th>9</th>\n",
       "      <td>Specialization_Travel and Tourism</td>\n",
       "      <td>1.06</td>\n",
       "    </tr>\n",
       "    <tr>\n",
       "      <th>8</th>\n",
       "      <td>Specialization_Hospitality Management</td>\n",
       "      <td>1.02</td>\n",
       "    </tr>\n",
       "    <tr>\n",
       "      <th>17</th>\n",
       "      <td>City_Tier II Cities</td>\n",
       "      <td>1.02</td>\n",
       "    </tr>\n",
       "  </tbody>\n",
       "</table>\n",
       "</div>"
      ],
      "text/plain": [
       "                                    Features   VIF\n",
       "15  Tags_Will revert after reading the email  3.38\n",
       "3                         Lead Source_Google  2.90\n",
       "2                 Lead Source_Direct Traffic  2.86\n",
       "7                     Last Activity_SMS Sent  2.27\n",
       "14                              Tags_Ringing  2.27\n",
       "5                 Last Activity_Email Opened  2.26\n",
       "13                            Tags_Other Tag  2.15\n",
       "4                 Lead Source_Organic Search  2.04\n",
       "16               Lead Profile_Potential Lead  1.69\n",
       "1                       Page Views Per Visit  1.66\n",
       "10                    Tags_Already a student  1.48\n",
       "12          Tags_Interested in other courses  1.46\n",
       "0                Total Time Spent on Website  1.39\n",
       "11                   Tags_Closed by Horizzon  1.29\n",
       "6      Last Activity_Olark Chat Conversation  1.28\n",
       "9          Specialization_Travel and Tourism  1.06\n",
       "8      Specialization_Hospitality Management  1.02\n",
       "17                       City_Tier II Cities  1.02"
      ]
     },
     "execution_count": 281,
     "metadata": {},
     "output_type": "execute_result"
    }
   ],
   "source": [
    "# Create a dataframe that will contain the names of all the feature variables and their respective VIFs\n",
    "vif = pd.DataFrame()\n",
    "vif['Features'] = X_train[col].columns\n",
    "vif['VIF'] = [variance_inflation_factor(X_train[col].values, i) for i in range(X_train[col].shape[1])]\n",
    "vif['VIF'] = round(vif['VIF'], 2)\n",
    "vif = vif.sort_values(by = \"VIF\", ascending = False)\n",
    "vif"
   ]
  },
  {
   "cell_type": "code",
   "execution_count": 282,
   "id": "b2949902",
   "metadata": {},
   "outputs": [
    {
     "data": {
      "text/plain": [
       "Index(['Total Time Spent on Website', 'Page Views Per Visit',\n",
       "       'Lead Source_Direct Traffic', 'Lead Source_Google',\n",
       "       'Lead Source_Organic Search', 'Last Activity_Email Opened',\n",
       "       'Last Activity_Olark Chat Conversation', 'Last Activity_SMS Sent',\n",
       "       'Specialization_Hospitality Management',\n",
       "       'Specialization_Travel and Tourism', 'Tags_Already a student',\n",
       "       'Tags_Closed by Horizzon', 'Tags_Interested in other courses',\n",
       "       'Tags_Other Tag', 'Tags_Ringing', 'Lead Profile_Potential Lead',\n",
       "       'City_Tier II Cities'],\n",
       "      dtype='object')"
      ]
     },
     "execution_count": 282,
     "metadata": {},
     "output_type": "execute_result"
    }
   ],
   "source": [
    "#dropping column with high vif value\n",
    "col = col.drop(['Tags_Will revert after reading the email'],1)\n",
    "col"
   ]
  },
  {
   "cell_type": "code",
   "execution_count": 283,
   "id": "35a8f66b",
   "metadata": {},
   "outputs": [
    {
     "data": {
      "text/html": [
       "<table class=\"simpletable\">\n",
       "<caption>Generalized Linear Model Regression Results</caption>\n",
       "<tr>\n",
       "  <th>Dep. Variable:</th>       <td>Converted</td>    <th>  No. Observations:  </th>  <td>  4546</td> \n",
       "</tr>\n",
       "<tr>\n",
       "  <th>Model:</th>                  <td>GLM</td>       <th>  Df Residuals:      </th>  <td>  4528</td> \n",
       "</tr>\n",
       "<tr>\n",
       "  <th>Model Family:</th>        <td>Binomial</td>     <th>  Df Model:          </th>  <td>    17</td> \n",
       "</tr>\n",
       "<tr>\n",
       "  <th>Link Function:</th>         <td>logit</td>      <th>  Scale:             </th> <td>  1.0000</td>\n",
       "</tr>\n",
       "<tr>\n",
       "  <th>Method:</th>                <td>IRLS</td>       <th>  Log-Likelihood:    </th> <td> -959.59</td>\n",
       "</tr>\n",
       "<tr>\n",
       "  <th>Date:</th>            <td>Fri, 16 Jun 2023</td> <th>  Deviance:          </th> <td>  1919.2</td>\n",
       "</tr>\n",
       "<tr>\n",
       "  <th>Time:</th>                <td>22:02:59</td>     <th>  Pearson chi2:      </th> <td>4.61e+03</td>\n",
       "</tr>\n",
       "<tr>\n",
       "  <th>No. Iterations:</th>          <td>8</td>        <th>                     </th>     <td> </td>   \n",
       "</tr>\n",
       "<tr>\n",
       "  <th>Covariance Type:</th>     <td>nonrobust</td>    <th>                     </th>     <td> </td>   \n",
       "</tr>\n",
       "</table>\n",
       "<table class=\"simpletable\">\n",
       "<tr>\n",
       "                    <td></td>                       <th>coef</th>     <th>std err</th>      <th>z</th>      <th>P>|z|</th>  <th>[0.025</th>    <th>0.975]</th>  \n",
       "</tr>\n",
       "<tr>\n",
       "  <th>const</th>                                 <td>    1.5465</td> <td>    0.222</td> <td>    6.957</td> <td> 0.000</td> <td>    1.111</td> <td>    1.982</td>\n",
       "</tr>\n",
       "<tr>\n",
       "  <th>Total Time Spent on Website</th>           <td>    1.0554</td> <td>    0.073</td> <td>   14.421</td> <td> 0.000</td> <td>    0.912</td> <td>    1.199</td>\n",
       "</tr>\n",
       "<tr>\n",
       "  <th>Page Views Per Visit</th>                  <td>   -0.1489</td> <td>    0.084</td> <td>   -1.779</td> <td> 0.075</td> <td>   -0.313</td> <td>    0.015</td>\n",
       "</tr>\n",
       "<tr>\n",
       "  <th>Lead Source_Direct Traffic</th>            <td>   -0.7682</td> <td>    0.216</td> <td>   -3.563</td> <td> 0.000</td> <td>   -1.191</td> <td>   -0.346</td>\n",
       "</tr>\n",
       "<tr>\n",
       "  <th>Lead Source_Google</th>                    <td>   -0.7330</td> <td>    0.218</td> <td>   -3.360</td> <td> 0.001</td> <td>   -1.161</td> <td>   -0.305</td>\n",
       "</tr>\n",
       "<tr>\n",
       "  <th>Lead Source_Organic Search</th>            <td>   -0.6650</td> <td>    0.265</td> <td>   -2.505</td> <td> 0.012</td> <td>   -1.185</td> <td>   -0.145</td>\n",
       "</tr>\n",
       "<tr>\n",
       "  <th>Last Activity_Email Opened</th>            <td>    0.6622</td> <td>    0.169</td> <td>    3.911</td> <td> 0.000</td> <td>    0.330</td> <td>    0.994</td>\n",
       "</tr>\n",
       "<tr>\n",
       "  <th>Last Activity_Olark Chat Conversation</th> <td>   -0.9547</td> <td>    0.283</td> <td>   -3.374</td> <td> 0.001</td> <td>   -1.509</td> <td>   -0.400</td>\n",
       "</tr>\n",
       "<tr>\n",
       "  <th>Last Activity_SMS Sent</th>                <td>    1.8848</td> <td>    0.175</td> <td>   10.777</td> <td> 0.000</td> <td>    1.542</td> <td>    2.228</td>\n",
       "</tr>\n",
       "<tr>\n",
       "  <th>Specialization_Hospitality Management</th> <td>   -0.4953</td> <td>    0.491</td> <td>   -1.008</td> <td> 0.313</td> <td>   -1.458</td> <td>    0.468</td>\n",
       "</tr>\n",
       "<tr>\n",
       "  <th>Specialization_Travel and Tourism</th>     <td>   -0.7466</td> <td>    0.363</td> <td>   -2.054</td> <td> 0.040</td> <td>   -1.459</td> <td>   -0.034</td>\n",
       "</tr>\n",
       "<tr>\n",
       "  <th>Tags_Already a student</th>                <td>   -6.7094</td> <td>    0.736</td> <td>   -9.122</td> <td> 0.000</td> <td>   -8.151</td> <td>   -5.268</td>\n",
       "</tr>\n",
       "<tr>\n",
       "  <th>Tags_Closed by Horizzon</th>               <td>    3.4944</td> <td>    1.010</td> <td>    3.461</td> <td> 0.001</td> <td>    1.515</td> <td>    5.474</td>\n",
       "</tr>\n",
       "<tr>\n",
       "  <th>Tags_Interested in other courses</th>      <td>   -5.4082</td> <td>    0.394</td> <td>  -13.713</td> <td> 0.000</td> <td>   -6.181</td> <td>   -4.635</td>\n",
       "</tr>\n",
       "<tr>\n",
       "  <th>Tags_Other Tag</th>                        <td>   -3.3816</td> <td>    0.138</td> <td>  -24.465</td> <td> 0.000</td> <td>   -3.652</td> <td>   -3.111</td>\n",
       "</tr>\n",
       "<tr>\n",
       "  <th>Tags_Ringing</th>                          <td>   -6.0616</td> <td>    0.257</td> <td>  -23.548</td> <td> 0.000</td> <td>   -6.566</td> <td>   -5.557</td>\n",
       "</tr>\n",
       "<tr>\n",
       "  <th>Lead Profile_Potential Lead</th>           <td>    1.2886</td> <td>    0.153</td> <td>    8.445</td> <td> 0.000</td> <td>    0.990</td> <td>    1.588</td>\n",
       "</tr>\n",
       "<tr>\n",
       "  <th>City_Tier II Cities</th>                   <td>   -0.3522</td> <td>    0.602</td> <td>   -0.585</td> <td> 0.558</td> <td>   -1.532</td> <td>    0.828</td>\n",
       "</tr>\n",
       "</table>"
      ],
      "text/plain": [
       "<class 'statsmodels.iolib.summary.Summary'>\n",
       "\"\"\"\n",
       "                 Generalized Linear Model Regression Results                  \n",
       "==============================================================================\n",
       "Dep. Variable:              Converted   No. Observations:                 4546\n",
       "Model:                            GLM   Df Residuals:                     4528\n",
       "Model Family:                Binomial   Df Model:                           17\n",
       "Link Function:                  logit   Scale:                          1.0000\n",
       "Method:                          IRLS   Log-Likelihood:                -959.59\n",
       "Date:                Fri, 16 Jun 2023   Deviance:                       1919.2\n",
       "Time:                        22:02:59   Pearson chi2:                 4.61e+03\n",
       "No. Iterations:                     8                                         \n",
       "Covariance Type:            nonrobust                                         \n",
       "=========================================================================================================\n",
       "                                            coef    std err          z      P>|z|      [0.025      0.975]\n",
       "---------------------------------------------------------------------------------------------------------\n",
       "const                                     1.5465      0.222      6.957      0.000       1.111       1.982\n",
       "Total Time Spent on Website               1.0554      0.073     14.421      0.000       0.912       1.199\n",
       "Page Views Per Visit                     -0.1489      0.084     -1.779      0.075      -0.313       0.015\n",
       "Lead Source_Direct Traffic               -0.7682      0.216     -3.563      0.000      -1.191      -0.346\n",
       "Lead Source_Google                       -0.7330      0.218     -3.360      0.001      -1.161      -0.305\n",
       "Lead Source_Organic Search               -0.6650      0.265     -2.505      0.012      -1.185      -0.145\n",
       "Last Activity_Email Opened                0.6622      0.169      3.911      0.000       0.330       0.994\n",
       "Last Activity_Olark Chat Conversation    -0.9547      0.283     -3.374      0.001      -1.509      -0.400\n",
       "Last Activity_SMS Sent                    1.8848      0.175     10.777      0.000       1.542       2.228\n",
       "Specialization_Hospitality Management    -0.4953      0.491     -1.008      0.313      -1.458       0.468\n",
       "Specialization_Travel and Tourism        -0.7466      0.363     -2.054      0.040      -1.459      -0.034\n",
       "Tags_Already a student                   -6.7094      0.736     -9.122      0.000      -8.151      -5.268\n",
       "Tags_Closed by Horizzon                   3.4944      1.010      3.461      0.001       1.515       5.474\n",
       "Tags_Interested in other courses         -5.4082      0.394    -13.713      0.000      -6.181      -4.635\n",
       "Tags_Other Tag                           -3.3816      0.138    -24.465      0.000      -3.652      -3.111\n",
       "Tags_Ringing                             -6.0616      0.257    -23.548      0.000      -6.566      -5.557\n",
       "Lead Profile_Potential Lead               1.2886      0.153      8.445      0.000       0.990       1.588\n",
       "City_Tier II Cities                      -0.3522      0.602     -0.585      0.558      -1.532       0.828\n",
       "=========================================================================================================\n",
       "\"\"\""
      ]
     },
     "execution_count": 283,
     "metadata": {},
     "output_type": "execute_result"
    }
   ],
   "source": [
    "# Let's re-run the model using the selected variables\n",
    "X_train_sm = sm.add_constant(X_train[col])\n",
    "logm3 = sm.GLM(y_train,X_train_sm, family = sm.families.Binomial())\n",
    "res = logm3.fit()\n",
    "res.summary()"
   ]
  },
  {
   "cell_type": "code",
   "execution_count": 284,
   "id": "afae52b8",
   "metadata": {},
   "outputs": [],
   "source": [
    "y_train_pred = res.predict(X_train_sm).values.reshape(-1)"
   ]
  },
  {
   "cell_type": "code",
   "execution_count": 285,
   "id": "5d08be50",
   "metadata": {},
   "outputs": [
    {
     "data": {
      "text/plain": [
       "array([0.0017074 , 0.24365155, 0.9369986 , 0.8509008 , 0.19317392,\n",
       "       0.46278829, 0.95296598, 0.99488063, 0.98419325, 0.00506051])"
      ]
     },
     "execution_count": 285,
     "metadata": {},
     "output_type": "execute_result"
    }
   ],
   "source": [
    "y_train_pred[:10]"
   ]
  },
  {
   "cell_type": "code",
   "execution_count": 286,
   "id": "d083c2e2",
   "metadata": {},
   "outputs": [],
   "source": [
    "y_train_pred_final['Converted_Prob'] = y_train_pred"
   ]
  },
  {
   "cell_type": "code",
   "execution_count": 287,
   "id": "947e5b69",
   "metadata": {},
   "outputs": [
    {
     "data": {
      "text/html": [
       "<div>\n",
       "<style scoped>\n",
       "    .dataframe tbody tr th:only-of-type {\n",
       "        vertical-align: middle;\n",
       "    }\n",
       "\n",
       "    .dataframe tbody tr th {\n",
       "        vertical-align: top;\n",
       "    }\n",
       "\n",
       "    .dataframe thead th {\n",
       "        text-align: right;\n",
       "    }\n",
       "</style>\n",
       "<table border=\"1\" class=\"dataframe\">\n",
       "  <thead>\n",
       "    <tr style=\"text-align: right;\">\n",
       "      <th></th>\n",
       "      <th>Converted</th>\n",
       "      <th>Converted_Prob</th>\n",
       "      <th>Lead ID</th>\n",
       "      <th>predicted</th>\n",
       "      <th>Lead Score</th>\n",
       "    </tr>\n",
       "  </thead>\n",
       "  <tbody>\n",
       "    <tr>\n",
       "      <th>0</th>\n",
       "      <td>0</td>\n",
       "      <td>0.001707</td>\n",
       "      <td>2200</td>\n",
       "      <td>0</td>\n",
       "      <td>0</td>\n",
       "    </tr>\n",
       "    <tr>\n",
       "      <th>1</th>\n",
       "      <td>0</td>\n",
       "      <td>0.243652</td>\n",
       "      <td>5214</td>\n",
       "      <td>0</td>\n",
       "      <td>24</td>\n",
       "    </tr>\n",
       "    <tr>\n",
       "      <th>2</th>\n",
       "      <td>1</td>\n",
       "      <td>0.936999</td>\n",
       "      <td>1561</td>\n",
       "      <td>1</td>\n",
       "      <td>94</td>\n",
       "    </tr>\n",
       "    <tr>\n",
       "      <th>3</th>\n",
       "      <td>1</td>\n",
       "      <td>0.850901</td>\n",
       "      <td>6259</td>\n",
       "      <td>1</td>\n",
       "      <td>85</td>\n",
       "    </tr>\n",
       "    <tr>\n",
       "      <th>4</th>\n",
       "      <td>0</td>\n",
       "      <td>0.193174</td>\n",
       "      <td>8471</td>\n",
       "      <td>0</td>\n",
       "      <td>19</td>\n",
       "    </tr>\n",
       "  </tbody>\n",
       "</table>\n",
       "</div>"
      ],
      "text/plain": [
       "   Converted  Converted_Prob  Lead ID  predicted  Lead Score\n",
       "0          0        0.001707     2200          0           0\n",
       "1          0        0.243652     5214          0          24\n",
       "2          1        0.936999     1561          1          94\n",
       "3          1        0.850901     6259          1          85\n",
       "4          0        0.193174     8471          0          19"
      ]
     },
     "execution_count": 287,
     "metadata": {},
     "output_type": "execute_result"
    }
   ],
   "source": [
    "# Creating new column 'predicted' with 1 if Converted_Prob > 0.5 else 0\n",
    "y_train_pred_final['predicted'] = y_train_pred_final.Converted_Prob.map(lambda x: 1 if x > 0.5 else 0)\n",
    "y_train_pred_final['Lead Score'] = y_train_pred_final.Converted_Prob.map( lambda x: round(x*100))\n",
    "\n",
    "y_train_pred_final.head()"
   ]
  },
  {
   "cell_type": "code",
   "execution_count": 288,
   "id": "d8367c91",
   "metadata": {},
   "outputs": [
    {
     "name": "stdout",
     "output_type": "stream",
     "text": [
      "0.9186097668279807\n"
     ]
    }
   ],
   "source": [
    "# Let's check the overall accuracy.\n",
    "print(metrics.accuracy_score(y_train_pred_final.Converted, y_train_pred_final.predicted))"
   ]
  },
  {
   "cell_type": "code",
   "execution_count": 289,
   "id": "6ce60f34",
   "metadata": {},
   "outputs": [
    {
     "data": {
      "text/html": [
       "<div>\n",
       "<style scoped>\n",
       "    .dataframe tbody tr th:only-of-type {\n",
       "        vertical-align: middle;\n",
       "    }\n",
       "\n",
       "    .dataframe tbody tr th {\n",
       "        vertical-align: top;\n",
       "    }\n",
       "\n",
       "    .dataframe thead th {\n",
       "        text-align: right;\n",
       "    }\n",
       "</style>\n",
       "<table border=\"1\" class=\"dataframe\">\n",
       "  <thead>\n",
       "    <tr style=\"text-align: right;\">\n",
       "      <th></th>\n",
       "      <th>Features</th>\n",
       "      <th>VIF</th>\n",
       "    </tr>\n",
       "  </thead>\n",
       "  <tbody>\n",
       "    <tr>\n",
       "      <th>3</th>\n",
       "      <td>Lead Source_Google</td>\n",
       "      <td>2.48</td>\n",
       "    </tr>\n",
       "    <tr>\n",
       "      <th>2</th>\n",
       "      <td>Lead Source_Direct Traffic</td>\n",
       "      <td>2.45</td>\n",
       "    </tr>\n",
       "    <tr>\n",
       "      <th>5</th>\n",
       "      <td>Last Activity_Email Opened</td>\n",
       "      <td>1.97</td>\n",
       "    </tr>\n",
       "    <tr>\n",
       "      <th>7</th>\n",
       "      <td>Last Activity_SMS Sent</td>\n",
       "      <td>1.86</td>\n",
       "    </tr>\n",
       "    <tr>\n",
       "      <th>4</th>\n",
       "      <td>Lead Source_Organic Search</td>\n",
       "      <td>1.83</td>\n",
       "    </tr>\n",
       "    <tr>\n",
       "      <th>14</th>\n",
       "      <td>Tags_Ringing</td>\n",
       "      <td>1.63</td>\n",
       "    </tr>\n",
       "    <tr>\n",
       "      <th>1</th>\n",
       "      <td>Page Views Per Visit</td>\n",
       "      <td>1.62</td>\n",
       "    </tr>\n",
       "    <tr>\n",
       "      <th>13</th>\n",
       "      <td>Tags_Other Tag</td>\n",
       "      <td>1.55</td>\n",
       "    </tr>\n",
       "    <tr>\n",
       "      <th>15</th>\n",
       "      <td>Lead Profile_Potential Lead</td>\n",
       "      <td>1.42</td>\n",
       "    </tr>\n",
       "    <tr>\n",
       "      <th>0</th>\n",
       "      <td>Total Time Spent on Website</td>\n",
       "      <td>1.39</td>\n",
       "    </tr>\n",
       "    <tr>\n",
       "      <th>10</th>\n",
       "      <td>Tags_Already a student</td>\n",
       "      <td>1.32</td>\n",
       "    </tr>\n",
       "    <tr>\n",
       "      <th>12</th>\n",
       "      <td>Tags_Interested in other courses</td>\n",
       "      <td>1.28</td>\n",
       "    </tr>\n",
       "    <tr>\n",
       "      <th>6</th>\n",
       "      <td>Last Activity_Olark Chat Conversation</td>\n",
       "      <td>1.24</td>\n",
       "    </tr>\n",
       "    <tr>\n",
       "      <th>11</th>\n",
       "      <td>Tags_Closed by Horizzon</td>\n",
       "      <td>1.12</td>\n",
       "    </tr>\n",
       "    <tr>\n",
       "      <th>9</th>\n",
       "      <td>Specialization_Travel and Tourism</td>\n",
       "      <td>1.06</td>\n",
       "    </tr>\n",
       "    <tr>\n",
       "      <th>8</th>\n",
       "      <td>Specialization_Hospitality Management</td>\n",
       "      <td>1.02</td>\n",
       "    </tr>\n",
       "    <tr>\n",
       "      <th>16</th>\n",
       "      <td>City_Tier II Cities</td>\n",
       "      <td>1.02</td>\n",
       "    </tr>\n",
       "  </tbody>\n",
       "</table>\n",
       "</div>"
      ],
      "text/plain": [
       "                                 Features   VIF\n",
       "3                      Lead Source_Google  2.48\n",
       "2              Lead Source_Direct Traffic  2.45\n",
       "5              Last Activity_Email Opened  1.97\n",
       "7                  Last Activity_SMS Sent  1.86\n",
       "4              Lead Source_Organic Search  1.83\n",
       "14                           Tags_Ringing  1.63\n",
       "1                    Page Views Per Visit  1.62\n",
       "13                         Tags_Other Tag  1.55\n",
       "15            Lead Profile_Potential Lead  1.42\n",
       "0             Total Time Spent on Website  1.39\n",
       "10                 Tags_Already a student  1.32\n",
       "12       Tags_Interested in other courses  1.28\n",
       "6   Last Activity_Olark Chat Conversation  1.24\n",
       "11                Tags_Closed by Horizzon  1.12\n",
       "9       Specialization_Travel and Tourism  1.06\n",
       "8   Specialization_Hospitality Management  1.02\n",
       "16                    City_Tier II Cities  1.02"
      ]
     },
     "execution_count": 289,
     "metadata": {},
     "output_type": "execute_result"
    }
   ],
   "source": [
    "#checking vif again\n",
    "vif = pd.DataFrame()\n",
    "vif['Features'] = X_train[col].columns\n",
    "vif['VIF'] = [variance_inflation_factor(X_train[col].values, i) for i in range(X_train[col].shape[1])]\n",
    "vif['VIF'] = round(vif['VIF'], 2)\n",
    "vif = vif.sort_values(by = \"VIF\", ascending = False)\n",
    "vif"
   ]
  },
  {
   "cell_type": "markdown",
   "id": "21afd492",
   "metadata": {},
   "source": [
    "## Metrics beyond simply accuracy"
   ]
  },
  {
   "cell_type": "code",
   "execution_count": 290,
   "id": "977de3c6",
   "metadata": {},
   "outputs": [],
   "source": [
    "TP = confusion[1,1] # true positive \n",
    "TN = confusion[0,0] # true negatives\n",
    "FP = confusion[0,1] # false positives\n",
    "FN = confusion[1,0] # false negatives"
   ]
  },
  {
   "cell_type": "code",
   "execution_count": 291,
   "id": "11e386cb",
   "metadata": {},
   "outputs": [
    {
     "data": {
      "text/plain": [
       "0.9235583370585606"
      ]
     },
     "execution_count": 291,
     "metadata": {},
     "output_type": "execute_result"
    }
   ],
   "source": [
    "# Let's see the sensitivity of our logistic regression model\n",
    "TP / float(TP+FN)"
   ]
  },
  {
   "cell_type": "code",
   "execution_count": 292,
   "id": "7bb9a4fe",
   "metadata": {},
   "outputs": [
    {
     "data": {
      "text/plain": [
       "0.9337375487223907"
      ]
     },
     "execution_count": 292,
     "metadata": {},
     "output_type": "execute_result"
    }
   ],
   "source": [
    "# Let us calculate specificity\n",
    "TN / float(TN+FP)"
   ]
  },
  {
   "cell_type": "code",
   "execution_count": 293,
   "id": "b1bdbe3d",
   "metadata": {
    "scrolled": true
   },
   "outputs": [
    {
     "name": "stdout",
     "output_type": "stream",
     "text": [
      "0.06626245127760935\n"
     ]
    }
   ],
   "source": [
    "print(FP/ float(TN+FP))"
   ]
  },
  {
   "cell_type": "code",
   "execution_count": 294,
   "id": "b2852167",
   "metadata": {},
   "outputs": [
    {
     "name": "stdout",
     "output_type": "stream",
     "text": [
      "0.9310500225326723\n"
     ]
    }
   ],
   "source": [
    "# positive predictive value \n",
    "print (TP / float(TP+FP))"
   ]
  },
  {
   "cell_type": "code",
   "execution_count": 295,
   "id": "f3e59e0c",
   "metadata": {},
   "outputs": [
    {
     "name": "stdout",
     "output_type": "stream",
     "text": [
      "0.9265148259561667\n"
     ]
    }
   ],
   "source": [
    "# Negative predictive value\n",
    "print (TN / float(TN+ FN))"
   ]
  },
  {
   "cell_type": "markdown",
   "id": "d9ad9d2d",
   "metadata": {},
   "source": [
    "## Plotting the ROC Curve"
   ]
  },
  {
   "cell_type": "code",
   "execution_count": 296,
   "id": "b9cc22ad",
   "metadata": {},
   "outputs": [],
   "source": [
    "# Let us create a ROC curve to find the model stability with auc score(area under the curve) \n",
    "def draw_roc( actual, probs ):\n",
    "    fpr, tpr, thresholds = metrics.roc_curve( actual, probs,\n",
    "                                              drop_intermediate = False )\n",
    "    auc_score = metrics.roc_auc_score( actual, probs )\n",
    "    plt.figure(figsize=(5, 5))\n",
    "    plt.plot( fpr, tpr, label='ROC curve (area = %0.2f)' % auc_score )\n",
    "    plt.plot([0, 1], [0, 1], 'k--')\n",
    "    plt.xlim([0.0, 1.0])\n",
    "    plt.ylim([0.0, 1.05])\n",
    "    plt.xlabel('False Positive Rate or [1 - True Negative Rate]')\n",
    "    plt.ylabel('True Positive Rate')\n",
    "    plt.title('Receiver operating characteristic example')\n",
    "    plt.legend(loc=\"lower right\")\n",
    "    plt.show()\n",
    "\n",
    "    return None"
   ]
  },
  {
   "cell_type": "code",
   "execution_count": 297,
   "id": "abe5611b",
   "metadata": {},
   "outputs": [],
   "source": [
    "fpr, tpr, thresholds = metrics.roc_curve( y_train_pred_final.Converted, y_train_pred_final.Converted_Prob, drop_intermediate = False )"
   ]
  },
  {
   "cell_type": "code",
   "execution_count": 298,
   "id": "8ba54a01",
   "metadata": {},
   "outputs": [
    {
     "data": {
      "image/png": "[encoded data removed]",
      "text/plain": [
       "<Figure size 360x360 with 1 Axes>"
      ]
     },
     "metadata": {
      "needs_background": "light"
     },
     "output_type": "display_data"
    }
   ],
   "source": [
    "draw_roc(y_train_pred_final.Converted, y_train_pred_final.Converted_Prob)"
   ]
  },
  {
   "cell_type": "markdown",
   "id": "b83e5091",
   "metadata": {},
   "source": [
    "As we can see from the graph plotted on the right side, the area score is 0.97 which is a great score\n",
    "And our graph is leaned towards the y-axis which means we have good accuracy.\n"
   ]
  },
  {
   "cell_type": "markdown",
   "id": "8ac04570",
   "metadata": {},
   "source": [
    "## Finding Optimal Cutoff Point"
   ]
  },
  {
   "cell_type": "code",
   "execution_count": 299,
   "id": "5ab92bbe",
   "metadata": {},
   "outputs": [
    {
     "data": {
      "text/html": [
       "<div>\n",
       "<style scoped>\n",
       "    .dataframe tbody tr th:only-of-type {\n",
       "        vertical-align: middle;\n",
       "    }\n",
       "\n",
       "    .dataframe tbody tr th {\n",
       "        vertical-align: top;\n",
       "    }\n",
       "\n",
       "    .dataframe thead th {\n",
       "        text-align: right;\n",
       "    }\n",
       "</style>\n",
       "<table border=\"1\" class=\"dataframe\">\n",
       "  <thead>\n",
       "    <tr style=\"text-align: right;\">\n",
       "      <th></th>\n",
       "      <th>Converted</th>\n",
       "      <th>Converted_Prob</th>\n",
       "      <th>Lead ID</th>\n",
       "      <th>predicted</th>\n",
       "      <th>Lead Score</th>\n",
       "      <th>0.0</th>\n",
       "      <th>0.1</th>\n",
       "      <th>0.2</th>\n",
       "      <th>0.3</th>\n",
       "      <th>0.4</th>\n",
       "      <th>0.5</th>\n",
       "      <th>0.6</th>\n",
       "      <th>0.7</th>\n",
       "      <th>0.8</th>\n",
       "      <th>0.9</th>\n",
       "    </tr>\n",
       "  </thead>\n",
       "  <tbody>\n",
       "    <tr>\n",
       "      <th>0</th>\n",
       "      <td>0</td>\n",
       "      <td>0.001707</td>\n",
       "      <td>2200</td>\n",
       "      <td>0</td>\n",
       "      <td>0</td>\n",
       "      <td>1</td>\n",
       "      <td>0</td>\n",
       "      <td>0</td>\n",
       "      <td>0</td>\n",
       "      <td>0</td>\n",
       "      <td>0</td>\n",
       "      <td>0</td>\n",
       "      <td>0</td>\n",
       "      <td>0</td>\n",
       "      <td>0</td>\n",
       "    </tr>\n",
       "    <tr>\n",
       "      <th>1</th>\n",
       "      <td>0</td>\n",
       "      <td>0.243652</td>\n",
       "      <td>5214</td>\n",
       "      <td>0</td>\n",
       "      <td>24</td>\n",
       "      <td>1</td>\n",
       "      <td>1</td>\n",
       "      <td>1</td>\n",
       "      <td>0</td>\n",
       "      <td>0</td>\n",
       "      <td>0</td>\n",
       "      <td>0</td>\n",
       "      <td>0</td>\n",
       "      <td>0</td>\n",
       "      <td>0</td>\n",
       "    </tr>\n",
       "    <tr>\n",
       "      <th>2</th>\n",
       "      <td>1</td>\n",
       "      <td>0.936999</td>\n",
       "      <td>1561</td>\n",
       "      <td>1</td>\n",
       "      <td>94</td>\n",
       "      <td>1</td>\n",
       "      <td>1</td>\n",
       "      <td>1</td>\n",
       "      <td>1</td>\n",
       "      <td>1</td>\n",
       "      <td>1</td>\n",
       "      <td>1</td>\n",
       "      <td>1</td>\n",
       "      <td>1</td>\n",
       "      <td>1</td>\n",
       "    </tr>\n",
       "    <tr>\n",
       "      <th>3</th>\n",
       "      <td>1</td>\n",
       "      <td>0.850901</td>\n",
       "      <td>6259</td>\n",
       "      <td>1</td>\n",
       "      <td>85</td>\n",
       "      <td>1</td>\n",
       "      <td>1</td>\n",
       "      <td>1</td>\n",
       "      <td>1</td>\n",
       "      <td>1</td>\n",
       "      <td>1</td>\n",
       "      <td>1</td>\n",
       "      <td>1</td>\n",
       "      <td>1</td>\n",
       "      <td>0</td>\n",
       "    </tr>\n",
       "    <tr>\n",
       "      <th>4</th>\n",
       "      <td>0</td>\n",
       "      <td>0.193174</td>\n",
       "      <td>8471</td>\n",
       "      <td>0</td>\n",
       "      <td>19</td>\n",
       "      <td>1</td>\n",
       "      <td>1</td>\n",
       "      <td>0</td>\n",
       "      <td>0</td>\n",
       "      <td>0</td>\n",
       "      <td>0</td>\n",
       "      <td>0</td>\n",
       "      <td>0</td>\n",
       "      <td>0</td>\n",
       "      <td>0</td>\n",
       "    </tr>\n",
       "  </tbody>\n",
       "</table>\n",
       "</div>"
      ],
      "text/plain": [
       "   Converted  Converted_Prob  Lead ID  predicted  Lead Score  0.0  0.1  0.2  \\\n",
       "0          0        0.001707     2200          0           0    1    0    0   \n",
       "1          0        0.243652     5214          0          24    1    1    1   \n",
       "2          1        0.936999     1561          1          94    1    1    1   \n",
       "3          1        0.850901     6259          1          85    1    1    1   \n",
       "4          0        0.193174     8471          0          19    1    1    0   \n",
       "\n",
       "   0.3  0.4  0.5  0.6  0.7  0.8  0.9  \n",
       "0    0    0    0    0    0    0    0  \n",
       "1    0    0    0    0    0    0    0  \n",
       "2    1    1    1    1    1    1    1  \n",
       "3    1    1    1    1    1    1    0  \n",
       "4    0    0    0    0    0    0    0  "
      ]
     },
     "execution_count": 299,
     "metadata": {},
     "output_type": "execute_result"
    }
   ],
   "source": [
    "# Let's create columns with different probability cutoffs \n",
    "numbers = [float(x)/10 for x in range(10)]\n",
    "for i in numbers:\n",
    "    y_train_pred_final[i]= y_train_pred_final.Converted_Prob.map(lambda x: 1 if x > i else 0)\n",
    "y_train_pred_final.head()"
   ]
  },
  {
   "cell_type": "code",
   "execution_count": 300,
   "id": "ee6c2b5a",
   "metadata": {},
   "outputs": [
    {
     "name": "stdout",
     "output_type": "stream",
     "text": [
      "     prob  accuracy     sensi     speci\n",
      "0.0   0.0  0.492081  1.000000  0.000000\n",
      "0.1   0.1  0.861637  0.979884  0.747077\n",
      "0.2   0.2  0.896172  0.964685  0.829796\n",
      "0.3   0.3  0.910251  0.953062  0.868774\n",
      "0.4   0.4  0.913110  0.936969  0.889996\n",
      "0.5   0.5  0.918610  0.922217  0.915115\n",
      "0.6   0.6  0.919050  0.909253  0.928540\n",
      "0.7   0.7  0.920370  0.890478  0.949329\n",
      "0.8   0.8  0.910031  0.856951  0.961455\n",
      "0.9   0.9  0.853278  0.719714  0.982676\n"
     ]
    }
   ],
   "source": [
    "# Now let's calculate accuracy sensitivity and specificity for various probability cutoffs.\n",
    "cutoff_df = pd.DataFrame( columns = ['prob','accuracy','sensi','speci'])\n",
    "from sklearn.metrics import confusion_matrix\n",
    "\n",
    "# TP = confusion[1,1] # true positive \n",
    "# TN = confusion[0,0] # true negatives\n",
    "# FP = confusion[0,1] # false positives\n",
    "# FN = confusion[1,0] # false negatives\n",
    "\n",
    "num = [0.0,0.1,0.2,0.3,0.4,0.5,0.6,0.7,0.8,0.9]\n",
    "for i in num:\n",
    "    cm1 = metrics.confusion_matrix(y_train_pred_final.Converted, y_train_pred_final[i] )\n",
    "    total1=sum(sum(cm1))\n",
    "    accuracy = (cm1[0,0]+cm1[1,1])/total1\n",
    "    \n",
    "    speci = cm1[0,0]/(cm1[0,0]+cm1[0,1])\n",
    "    sensi = cm1[1,1]/(cm1[1,0]+cm1[1,1])\n",
    "    cutoff_df.loc[i] =[ i ,accuracy,sensi,speci]\n",
    "print(cutoff_df)"
   ]
  },
  {
   "cell_type": "code",
   "execution_count": 301,
   "id": "d7d05c0a",
   "metadata": {},
   "outputs": [
    {
     "data": {
      "image/png": "[encoded data removed]",
      "text/plain": [
       "<Figure size 432x288 with 1 Axes>"
      ]
     },
     "metadata": {
      "needs_background": "light"
     },
     "output_type": "display_data"
    }
   ],
   "source": [
    "# Let's plot accuracy sensitivity and specificity for various probabilities.\n",
    "cutoff_df.plot.line(x='prob', y=['accuracy','sensi','speci'])\n",
    "plt.show()"
   ]
  },
  {
   "cell_type": "markdown",
   "id": "6a2aea6d",
   "metadata": {},
   "source": [
    "### `Insight`\n",
    "- From the curve above, 0.53 is the optimum point to take it as a cutoff probability."
   ]
  },
  {
   "cell_type": "code",
   "execution_count": 302,
   "id": "cb0729f1",
   "metadata": {},
   "outputs": [
    {
     "data": {
      "text/html": [
       "<div>\n",
       "<style scoped>\n",
       "    .dataframe tbody tr th:only-of-type {\n",
       "        vertical-align: middle;\n",
       "    }\n",
       "\n",
       "    .dataframe tbody tr th {\n",
       "        vertical-align: top;\n",
       "    }\n",
       "\n",
       "    .dataframe thead th {\n",
       "        text-align: right;\n",
       "    }\n",
       "</style>\n",
       "<table border=\"1\" class=\"dataframe\">\n",
       "  <thead>\n",
       "    <tr style=\"text-align: right;\">\n",
       "      <th></th>\n",
       "      <th>Converted</th>\n",
       "      <th>Converted_Prob</th>\n",
       "      <th>Lead ID</th>\n",
       "      <th>predicted</th>\n",
       "      <th>Lead Score</th>\n",
       "      <th>0.0</th>\n",
       "      <th>0.1</th>\n",
       "      <th>0.2</th>\n",
       "      <th>0.3</th>\n",
       "      <th>0.4</th>\n",
       "      <th>0.5</th>\n",
       "      <th>0.6</th>\n",
       "      <th>0.7</th>\n",
       "      <th>0.8</th>\n",
       "      <th>0.9</th>\n",
       "      <th>final_predicted</th>\n",
       "    </tr>\n",
       "  </thead>\n",
       "  <tbody>\n",
       "    <tr>\n",
       "      <th>0</th>\n",
       "      <td>0</td>\n",
       "      <td>0.001707</td>\n",
       "      <td>2200</td>\n",
       "      <td>0</td>\n",
       "      <td>0</td>\n",
       "      <td>1</td>\n",
       "      <td>0</td>\n",
       "      <td>0</td>\n",
       "      <td>0</td>\n",
       "      <td>0</td>\n",
       "      <td>0</td>\n",
       "      <td>0</td>\n",
       "      <td>0</td>\n",
       "      <td>0</td>\n",
       "      <td>0</td>\n",
       "      <td>0</td>\n",
       "    </tr>\n",
       "    <tr>\n",
       "      <th>1</th>\n",
       "      <td>0</td>\n",
       "      <td>0.243652</td>\n",
       "      <td>5214</td>\n",
       "      <td>0</td>\n",
       "      <td>24</td>\n",
       "      <td>1</td>\n",
       "      <td>1</td>\n",
       "      <td>1</td>\n",
       "      <td>0</td>\n",
       "      <td>0</td>\n",
       "      <td>0</td>\n",
       "      <td>0</td>\n",
       "      <td>0</td>\n",
       "      <td>0</td>\n",
       "      <td>0</td>\n",
       "      <td>0</td>\n",
       "    </tr>\n",
       "    <tr>\n",
       "      <th>2</th>\n",
       "      <td>1</td>\n",
       "      <td>0.936999</td>\n",
       "      <td>1561</td>\n",
       "      <td>1</td>\n",
       "      <td>94</td>\n",
       "      <td>1</td>\n",
       "      <td>1</td>\n",
       "      <td>1</td>\n",
       "      <td>1</td>\n",
       "      <td>1</td>\n",
       "      <td>1</td>\n",
       "      <td>1</td>\n",
       "      <td>1</td>\n",
       "      <td>1</td>\n",
       "      <td>1</td>\n",
       "      <td>1</td>\n",
       "    </tr>\n",
       "    <tr>\n",
       "      <th>3</th>\n",
       "      <td>1</td>\n",
       "      <td>0.850901</td>\n",
       "      <td>6259</td>\n",
       "      <td>1</td>\n",
       "      <td>85</td>\n",
       "      <td>1</td>\n",
       "      <td>1</td>\n",
       "      <td>1</td>\n",
       "      <td>1</td>\n",
       "      <td>1</td>\n",
       "      <td>1</td>\n",
       "      <td>1</td>\n",
       "      <td>1</td>\n",
       "      <td>1</td>\n",
       "      <td>0</td>\n",
       "      <td>1</td>\n",
       "    </tr>\n",
       "    <tr>\n",
       "      <th>4</th>\n",
       "      <td>0</td>\n",
       "      <td>0.193174</td>\n",
       "      <td>8471</td>\n",
       "      <td>0</td>\n",
       "      <td>19</td>\n",
       "      <td>1</td>\n",
       "      <td>1</td>\n",
       "      <td>0</td>\n",
       "      <td>0</td>\n",
       "      <td>0</td>\n",
       "      <td>0</td>\n",
       "      <td>0</td>\n",
       "      <td>0</td>\n",
       "      <td>0</td>\n",
       "      <td>0</td>\n",
       "      <td>0</td>\n",
       "    </tr>\n",
       "  </tbody>\n",
       "</table>\n",
       "</div>"
      ],
      "text/plain": [
       "   Converted  Converted_Prob  Lead ID  predicted  Lead Score  0.0  0.1  0.2  \\\n",
       "0          0        0.001707     2200          0           0    1    0    0   \n",
       "1          0        0.243652     5214          0          24    1    1    1   \n",
       "2          1        0.936999     1561          1          94    1    1    1   \n",
       "3          1        0.850901     6259          1          85    1    1    1   \n",
       "4          0        0.193174     8471          0          19    1    1    0   \n",
       "\n",
       "   0.3  0.4  0.5  0.6  0.7  0.8  0.9  final_predicted  \n",
       "0    0    0    0    0    0    0    0                0  \n",
       "1    0    0    0    0    0    0    0                0  \n",
       "2    1    1    1    1    1    1    1                1  \n",
       "3    1    1    1    1    1    1    0                1  \n",
       "4    0    0    0    0    0    0    0                0  "
      ]
     },
     "execution_count": 302,
     "metadata": {},
     "output_type": "execute_result"
    }
   ],
   "source": [
    "y_train_pred_final['final_predicted'] = y_train_pred_final.Converted_Prob.map( lambda x: 1 if x > 0.53 else 0)\n",
    "\n",
    "y_train_pred_final.head()"
   ]
  },
  {
   "cell_type": "code",
   "execution_count": 303,
   "id": "cc75bbc6",
   "metadata": {},
   "outputs": [
    {
     "data": {
      "text/plain": [
       "0.9197096348438187"
      ]
     },
     "execution_count": 303,
     "metadata": {},
     "output_type": "execute_result"
    }
   ],
   "source": [
    "# Let's check the overall accuracy.\n",
    "metrics.accuracy_score(y_train_pred_final.Converted, y_train_pred_final.final_predicted)"
   ]
  },
  {
   "cell_type": "code",
   "execution_count": 304,
   "id": "d1809a7f",
   "metadata": {},
   "outputs": [
    {
     "data": {
      "text/plain": [
       "array([[2125,  184],\n",
       "       [ 181, 2056]], dtype=int64)"
      ]
     },
     "execution_count": 304,
     "metadata": {},
     "output_type": "execute_result"
    }
   ],
   "source": [
    "confusion2 = metrics.confusion_matrix(y_train_pred_final.Converted, y_train_pred_final.final_predicted )\n",
    "confusion2"
   ]
  },
  {
   "cell_type": "code",
   "execution_count": 305,
   "id": "18733fe7",
   "metadata": {},
   "outputs": [],
   "source": [
    "TP = confusion2[1,1] # true positive \n",
    "TN = confusion2[0,0] # true negatives\n",
    "FP = confusion2[0,1] # false positives\n",
    "FN = confusion2[1,0] # false negatives"
   ]
  },
  {
   "cell_type": "code",
   "execution_count": 306,
   "id": "03081cb3",
   "metadata": {},
   "outputs": [
    {
     "data": {
      "text/plain": [
       "0.9190880643719267"
      ]
     },
     "execution_count": 306,
     "metadata": {},
     "output_type": "execute_result"
    }
   ],
   "source": [
    "# Let's see the sensitivity of our logistic regression model\n",
    "TP / float(TP+FN)"
   ]
  },
  {
   "cell_type": "code",
   "execution_count": 307,
   "id": "b543fc18",
   "metadata": {},
   "outputs": [
    {
     "data": {
      "text/plain": [
       "0.92031182330013"
      ]
     },
     "execution_count": 307,
     "metadata": {},
     "output_type": "execute_result"
    }
   ],
   "source": [
    "# Let us calculate specificity\n",
    "TN / float(TN+FP)"
   ]
  },
  {
   "cell_type": "code",
   "execution_count": 308,
   "id": "e568cacf",
   "metadata": {},
   "outputs": [
    {
     "name": "stdout",
     "output_type": "stream",
     "text": [
      "0.07968817669987008\n"
     ]
    }
   ],
   "source": [
    "# Calculate false postive rate \n",
    "print(FP/ float(TN+FP))"
   ]
  },
  {
   "cell_type": "code",
   "execution_count": 309,
   "id": "8022f25f",
   "metadata": {},
   "outputs": [
    {
     "name": "stdout",
     "output_type": "stream",
     "text": [
      "0.9178571428571428\n"
     ]
    }
   ],
   "source": [
    "# Positive predictive value \n",
    "print (TP / float(TP+FP))"
   ]
  },
  {
   "cell_type": "code",
   "execution_count": 310,
   "id": "2a18c521",
   "metadata": {},
   "outputs": [
    {
     "name": "stdout",
     "output_type": "stream",
     "text": [
      "0.9215091066782307\n"
     ]
    }
   ],
   "source": [
    "# Negative predictive value\n",
    "print (TN / float(TN+ FN))"
   ]
  },
  {
   "cell_type": "markdown",
   "id": "b7ec9c9a",
   "metadata": {},
   "source": [
    "### Precision and Recall"
   ]
  },
  {
   "cell_type": "code",
   "execution_count": 311,
   "id": "7d64f732",
   "metadata": {},
   "outputs": [
    {
     "data": {
      "text/plain": [
       "array([[2113,  196],\n",
       "       [ 174, 2063]], dtype=int64)"
      ]
     },
     "execution_count": 311,
     "metadata": {},
     "output_type": "execute_result"
    }
   ],
   "source": [
    "#Looking at the confusion matrix again\n",
    "confusion = metrics.confusion_matrix(y_train_pred_final.Converted, y_train_pred_final.predicted )\n",
    "confusion"
   ]
  },
  {
   "cell_type": "code",
   "execution_count": 312,
   "id": "27c51fe3",
   "metadata": {},
   "outputs": [
    {
     "data": {
      "text/plain": [
       "0.9132359451084551"
      ]
     },
     "execution_count": 312,
     "metadata": {},
     "output_type": "execute_result"
    }
   ],
   "source": [
    "# Precision (TP / TP + FP)\n",
    "confusion[1,1]/(confusion[0,1]+confusion[1,1])"
   ]
  },
  {
   "cell_type": "code",
   "execution_count": 313,
   "id": "77c8b96d",
   "metadata": {},
   "outputs": [
    {
     "data": {
      "text/plain": [
       "0.9222172552525704"
      ]
     },
     "execution_count": 313,
     "metadata": {},
     "output_type": "execute_result"
    }
   ],
   "source": [
    "#Recall (TP / TP + FN)\n",
    "confusion[1,1]/(confusion[1,0]+confusion[1,1])"
   ]
  },
  {
   "cell_type": "code",
   "execution_count": 314,
   "id": "c1073a96",
   "metadata": {},
   "outputs": [],
   "source": [
    "from sklearn.metrics import precision_score, recall_score"
   ]
  },
  {
   "cell_type": "code",
   "execution_count": 315,
   "id": "3ef29e27",
   "metadata": {},
   "outputs": [
    {
     "data": {
      "text/plain": [
       "0.9132359451084551"
      ]
     },
     "execution_count": 315,
     "metadata": {},
     "output_type": "execute_result"
    }
   ],
   "source": [
    "precision_score(y_train_pred_final.Converted, y_train_pred_final.predicted)"
   ]
  },
  {
   "cell_type": "code",
   "execution_count": 316,
   "id": "72e829a3",
   "metadata": {},
   "outputs": [
    {
     "data": {
      "text/plain": [
       "0.9222172552525704"
      ]
     },
     "execution_count": 316,
     "metadata": {},
     "output_type": "execute_result"
    }
   ],
   "source": [
    "recall_score(y_train_pred_final.Converted, y_train_pred_final.predicted)"
   ]
  },
  {
   "cell_type": "markdown",
   "id": "d8500091",
   "metadata": {},
   "source": [
    "## Precision and recall tradeoff"
   ]
  },
  {
   "cell_type": "code",
   "execution_count": 317,
   "id": "a80c36e9",
   "metadata": {},
   "outputs": [
    {
     "data": {
      "text/plain": [
       "0.9222172552525704"
      ]
     },
     "execution_count": 317,
     "metadata": {},
     "output_type": "execute_result"
    }
   ],
   "source": [
    "confusion[1,1]/(confusion[1,0]+confusion[1,1])"
   ]
  },
  {
   "cell_type": "code",
   "execution_count": 318,
   "id": "541b337d",
   "metadata": {},
   "outputs": [
    {
     "data": {
      "text/plain": [
       "(0       0\n",
       " 1       0\n",
       " 2       1\n",
       " 3       1\n",
       " 4       0\n",
       "        ..\n",
       " 4541    0\n",
       " 4542    1\n",
       " 4543    0\n",
       " 4544    0\n",
       " 4545    1\n",
       " Name: Converted, Length: 4546, dtype: int64,\n",
       " 0       0\n",
       " 1       0\n",
       " 2       1\n",
       " 3       1\n",
       " 4       0\n",
       "        ..\n",
       " 4541    0\n",
       " 4542    1\n",
       " 4543    0\n",
       " 4544    0\n",
       " 4545    1\n",
       " Name: predicted, Length: 4546, dtype: int64)"
      ]
     },
     "execution_count": 318,
     "metadata": {},
     "output_type": "execute_result"
    }
   ],
   "source": [
    "y_train_pred_final.Converted, y_train_pred_final.predicted"
   ]
  },
  {
   "cell_type": "code",
   "execution_count": 319,
   "id": "c4b83f86",
   "metadata": {},
   "outputs": [],
   "source": [
    "from sklearn.metrics import precision_recall_curve\n",
    "p, r, thresholds = precision_recall_curve(y_train_pred_final.Converted, y_train_pred_final.Converted_Prob)"
   ]
  },
  {
   "cell_type": "code",
   "execution_count": 320,
   "id": "f0fe5328",
   "metadata": {},
   "outputs": [
    {
     "data": {
      "image/png": "[encoded data removed]",
      "text/plain": [
       "<Figure size 432x288 with 1 Axes>"
      ]
     },
     "metadata": {
      "needs_background": "light"
     },
     "output_type": "display_data"
    }
   ],
   "source": [
    "plt.plot(thresholds, p[:-1], \"g-\")\n",
    "plt.plot(thresholds, r[:-1], \"r-\")\n",
    "plt.show()"
   ]
  },
  {
   "cell_type": "markdown",
   "id": "f04cf965",
   "metadata": {},
   "source": [
    "We found that there is a trade off between Precision and Recall and the meeting point is  approximately at 0.58."
   ]
  },
  {
   "cell_type": "markdown",
   "id": "d130694a",
   "metadata": {},
   "source": [
    "# Making predictions on the test set"
   ]
  },
  {
   "cell_type": "code",
   "execution_count": 321,
   "id": "1f4ff33d",
   "metadata": {},
   "outputs": [
    {
     "data": {
      "text/html": [
       "<div>\n",
       "<style scoped>\n",
       "    .dataframe tbody tr th:only-of-type {\n",
       "        vertical-align: middle;\n",
       "    }\n",
       "\n",
       "    .dataframe tbody tr th {\n",
       "        vertical-align: top;\n",
       "    }\n",
       "\n",
       "    .dataframe thead th {\n",
       "        text-align: right;\n",
       "    }\n",
       "</style>\n",
       "<table border=\"1\" class=\"dataframe\">\n",
       "  <thead>\n",
       "    <tr style=\"text-align: right;\">\n",
       "      <th></th>\n",
       "      <th>Total Time Spent on Website</th>\n",
       "      <th>Page Views Per Visit</th>\n",
       "      <th>Lead Source_Direct Traffic</th>\n",
       "      <th>Lead Source_Google</th>\n",
       "      <th>Lead Source_Organic Search</th>\n",
       "      <th>Last Activity_Email Opened</th>\n",
       "      <th>Last Activity_Olark Chat Conversation</th>\n",
       "      <th>Last Activity_SMS Sent</th>\n",
       "      <th>Specialization_Hospitality Management</th>\n",
       "      <th>Specialization_Travel and Tourism</th>\n",
       "      <th>Tags_Already a student</th>\n",
       "      <th>Tags_Closed by Horizzon</th>\n",
       "      <th>Tags_Interested in other courses</th>\n",
       "      <th>Tags_Other Tag</th>\n",
       "      <th>Tags_Ringing</th>\n",
       "      <th>Lead Profile_Potential Lead</th>\n",
       "      <th>City_Tier II Cities</th>\n",
       "    </tr>\n",
       "  </thead>\n",
       "  <tbody>\n",
       "    <tr>\n",
       "      <th>7067</th>\n",
       "      <td>-0.621523</td>\n",
       "      <td>-0.805131</td>\n",
       "      <td>1</td>\n",
       "      <td>0</td>\n",
       "      <td>0</td>\n",
       "      <td>0</td>\n",
       "      <td>0</td>\n",
       "      <td>0</td>\n",
       "      <td>0</td>\n",
       "      <td>0</td>\n",
       "      <td>1</td>\n",
       "      <td>0</td>\n",
       "      <td>0</td>\n",
       "      <td>0</td>\n",
       "      <td>0</td>\n",
       "      <td>0</td>\n",
       "      <td>0</td>\n",
       "    </tr>\n",
       "    <tr>\n",
       "      <th>5049</th>\n",
       "      <td>-0.956010</td>\n",
       "      <td>-1.418536</td>\n",
       "      <td>0</td>\n",
       "      <td>0</td>\n",
       "      <td>0</td>\n",
       "      <td>1</td>\n",
       "      <td>0</td>\n",
       "      <td>0</td>\n",
       "      <td>0</td>\n",
       "      <td>0</td>\n",
       "      <td>0</td>\n",
       "      <td>1</td>\n",
       "      <td>0</td>\n",
       "      <td>0</td>\n",
       "      <td>0</td>\n",
       "      <td>0</td>\n",
       "      <td>0</td>\n",
       "    </tr>\n",
       "    <tr>\n",
       "      <th>5467</th>\n",
       "      <td>1.899458</td>\n",
       "      <td>1.035084</td>\n",
       "      <td>0</td>\n",
       "      <td>0</td>\n",
       "      <td>1</td>\n",
       "      <td>1</td>\n",
       "      <td>0</td>\n",
       "      <td>0</td>\n",
       "      <td>0</td>\n",
       "      <td>0</td>\n",
       "      <td>0</td>\n",
       "      <td>0</td>\n",
       "      <td>0</td>\n",
       "      <td>0</td>\n",
       "      <td>1</td>\n",
       "      <td>0</td>\n",
       "      <td>0</td>\n",
       "    </tr>\n",
       "    <tr>\n",
       "      <th>7688</th>\n",
       "      <td>1.343152</td>\n",
       "      <td>0.421679</td>\n",
       "      <td>1</td>\n",
       "      <td>0</td>\n",
       "      <td>0</td>\n",
       "      <td>0</td>\n",
       "      <td>0</td>\n",
       "      <td>1</td>\n",
       "      <td>0</td>\n",
       "      <td>0</td>\n",
       "      <td>0</td>\n",
       "      <td>0</td>\n",
       "      <td>0</td>\n",
       "      <td>0</td>\n",
       "      <td>0</td>\n",
       "      <td>0</td>\n",
       "      <td>0</td>\n",
       "    </tr>\n",
       "    <tr>\n",
       "      <th>59</th>\n",
       "      <td>0.249906</td>\n",
       "      <td>1.648489</td>\n",
       "      <td>0</td>\n",
       "      <td>0</td>\n",
       "      <td>0</td>\n",
       "      <td>1</td>\n",
       "      <td>0</td>\n",
       "      <td>0</td>\n",
       "      <td>0</td>\n",
       "      <td>0</td>\n",
       "      <td>0</td>\n",
       "      <td>0</td>\n",
       "      <td>0</td>\n",
       "      <td>1</td>\n",
       "      <td>0</td>\n",
       "      <td>0</td>\n",
       "      <td>0</td>\n",
       "    </tr>\n",
       "  </tbody>\n",
       "</table>\n",
       "</div>"
      ],
      "text/plain": [
       "      Total Time Spent on Website  Page Views Per Visit  \\\n",
       "7067                    -0.621523             -0.805131   \n",
       "5049                    -0.956010             -1.418536   \n",
       "5467                     1.899458              1.035084   \n",
       "7688                     1.343152              0.421679   \n",
       "59                       0.249906              1.648489   \n",
       "\n",
       "      Lead Source_Direct Traffic  Lead Source_Google  \\\n",
       "7067                           1                   0   \n",
       "5049                           0                   0   \n",
       "5467                           0                   0   \n",
       "7688                           1                   0   \n",
       "59                             0                   0   \n",
       "\n",
       "      Lead Source_Organic Search  Last Activity_Email Opened  \\\n",
       "7067                           0                           0   \n",
       "5049                           0                           1   \n",
       "5467                           1                           1   \n",
       "7688                           0                           0   \n",
       "59                             0                           1   \n",
       "\n",
       "      Last Activity_Olark Chat Conversation  Last Activity_SMS Sent  \\\n",
       "7067                                      0                       0   \n",
       "5049                                      0                       0   \n",
       "5467                                      0                       0   \n",
       "7688                                      0                       1   \n",
       "59                                        0                       0   \n",
       "\n",
       "      Specialization_Hospitality Management  \\\n",
       "7067                                      0   \n",
       "5049                                      0   \n",
       "5467                                      0   \n",
       "7688                                      0   \n",
       "59                                        0   \n",
       "\n",
       "      Specialization_Travel and Tourism  Tags_Already a student  \\\n",
       "7067                                  0                       1   \n",
       "5049                                  0                       0   \n",
       "5467                                  0                       0   \n",
       "7688                                  0                       0   \n",
       "59                                    0                       0   \n",
       "\n",
       "      Tags_Closed by Horizzon  Tags_Interested in other courses  \\\n",
       "7067                        0                                 0   \n",
       "5049                        1                                 0   \n",
       "5467                        0                                 0   \n",
       "7688                        0                                 0   \n",
       "59                          0                                 0   \n",
       "\n",
       "      Tags_Other Tag  Tags_Ringing  Lead Profile_Potential Lead  \\\n",
       "7067               0             0                            0   \n",
       "5049               0             0                            0   \n",
       "5467               0             1                            0   \n",
       "7688               0             0                            0   \n",
       "59                 1             0                            0   \n",
       "\n",
       "      City_Tier II Cities  \n",
       "7067                    0  \n",
       "5049                    0  \n",
       "5467                    0  \n",
       "7688                    0  \n",
       "59                      0  "
      ]
     },
     "execution_count": 321,
     "metadata": {},
     "output_type": "execute_result"
    }
   ],
   "source": [
    "X_test = X_test[col]\n",
    "X_test.head()"
   ]
  },
  {
   "cell_type": "code",
   "execution_count": 322,
   "id": "e9db0f88",
   "metadata": {},
   "outputs": [],
   "source": [
    "X_test_sm = sm.add_constant(X_test)"
   ]
  },
  {
   "cell_type": "code",
   "execution_count": 323,
   "id": "0778d8c3",
   "metadata": {},
   "outputs": [],
   "source": [
    "y_test_pred = res.predict(X_test_sm)"
   ]
  },
  {
   "cell_type": "code",
   "execution_count": 324,
   "id": "2150af22",
   "metadata": {},
   "outputs": [
    {
     "data": {
      "text/plain": [
       "7067    0.001551\n",
       "5049    0.992648\n",
       "5467    0.064931\n",
       "7688    0.982327\n",
       "59      0.239663\n",
       "8501    0.001274\n",
       "3639    0.003815\n",
       "1490    0.986424\n",
       "4608    0.987833\n",
       "5141    0.992648\n",
       "dtype: float64"
      ]
     },
     "execution_count": 324,
     "metadata": {},
     "output_type": "execute_result"
    }
   ],
   "source": [
    "y_test_pred[:10]"
   ]
  },
  {
   "cell_type": "code",
   "execution_count": 325,
   "id": "40cf2407",
   "metadata": {},
   "outputs": [],
   "source": [
    "# Converting y_pred to a dataframe which is an array\n",
    "y_pred_1 = pd.DataFrame(y_test_pred)"
   ]
  },
  {
   "cell_type": "code",
   "execution_count": 326,
   "id": "5e834191",
   "metadata": {},
   "outputs": [
    {
     "data": {
      "text/html": [
       "<div>\n",
       "<style scoped>\n",
       "    .dataframe tbody tr th:only-of-type {\n",
       "        vertical-align: middle;\n",
       "    }\n",
       "\n",
       "    .dataframe tbody tr th {\n",
       "        vertical-align: top;\n",
       "    }\n",
       "\n",
       "    .dataframe thead th {\n",
       "        text-align: right;\n",
       "    }\n",
       "</style>\n",
       "<table border=\"1\" class=\"dataframe\">\n",
       "  <thead>\n",
       "    <tr style=\"text-align: right;\">\n",
       "      <th></th>\n",
       "      <th>0</th>\n",
       "    </tr>\n",
       "  </thead>\n",
       "  <tbody>\n",
       "    <tr>\n",
       "      <th>7067</th>\n",
       "      <td>0.001551</td>\n",
       "    </tr>\n",
       "    <tr>\n",
       "      <th>5049</th>\n",
       "      <td>0.992648</td>\n",
       "    </tr>\n",
       "    <tr>\n",
       "      <th>5467</th>\n",
       "      <td>0.064931</td>\n",
       "    </tr>\n",
       "    <tr>\n",
       "      <th>7688</th>\n",
       "      <td>0.982327</td>\n",
       "    </tr>\n",
       "    <tr>\n",
       "      <th>59</th>\n",
       "      <td>0.239663</td>\n",
       "    </tr>\n",
       "  </tbody>\n",
       "</table>\n",
       "</div>"
      ],
      "text/plain": [
       "             0\n",
       "7067  0.001551\n",
       "5049  0.992648\n",
       "5467  0.064931\n",
       "7688  0.982327\n",
       "59    0.239663"
      ]
     },
     "execution_count": 326,
     "metadata": {},
     "output_type": "execute_result"
    }
   ],
   "source": [
    "# Let's see the head\n",
    "y_pred_1.head()"
   ]
  },
  {
   "cell_type": "code",
   "execution_count": 327,
   "id": "8435f297",
   "metadata": {},
   "outputs": [],
   "source": [
    "# Converting y_test to dataframe\n",
    "y_test_df = pd.DataFrame(y_test)"
   ]
  },
  {
   "cell_type": "code",
   "execution_count": 328,
   "id": "df5a54b3",
   "metadata": {},
   "outputs": [],
   "source": [
    "# Putting CustID to index\n",
    "y_test_df['Lead ID'] = y_test_df.index"
   ]
  },
  {
   "cell_type": "code",
   "execution_count": 329,
   "id": "0f5338d9",
   "metadata": {},
   "outputs": [],
   "source": [
    "# Removing index for both dataframes to append them side by side \n",
    "y_pred_1.reset_index(drop=True, inplace=True)\n",
    "y_test_df.reset_index(drop=True, inplace=True)"
   ]
  },
  {
   "cell_type": "code",
   "execution_count": 330,
   "id": "1d013ebe",
   "metadata": {},
   "outputs": [],
   "source": [
    "# Appending y_test_df and y_pred_1\n",
    "y_pred_final = pd.concat([y_test_df, y_pred_1],axis=1)"
   ]
  },
  {
   "cell_type": "code",
   "execution_count": 331,
   "id": "81c583ed",
   "metadata": {},
   "outputs": [
    {
     "data": {
      "text/html": [
       "<div>\n",
       "<style scoped>\n",
       "    .dataframe tbody tr th:only-of-type {\n",
       "        vertical-align: middle;\n",
       "    }\n",
       "\n",
       "    .dataframe tbody tr th {\n",
       "        vertical-align: top;\n",
       "    }\n",
       "\n",
       "    .dataframe thead th {\n",
       "        text-align: right;\n",
       "    }\n",
       "</style>\n",
       "<table border=\"1\" class=\"dataframe\">\n",
       "  <thead>\n",
       "    <tr style=\"text-align: right;\">\n",
       "      <th></th>\n",
       "      <th>Converted</th>\n",
       "      <th>Lead ID</th>\n",
       "      <th>0</th>\n",
       "    </tr>\n",
       "  </thead>\n",
       "  <tbody>\n",
       "    <tr>\n",
       "      <th>0</th>\n",
       "      <td>0</td>\n",
       "      <td>7067</td>\n",
       "      <td>0.001551</td>\n",
       "    </tr>\n",
       "    <tr>\n",
       "      <th>1</th>\n",
       "      <td>1</td>\n",
       "      <td>5049</td>\n",
       "      <td>0.992648</td>\n",
       "    </tr>\n",
       "    <tr>\n",
       "      <th>2</th>\n",
       "      <td>0</td>\n",
       "      <td>5467</td>\n",
       "      <td>0.064931</td>\n",
       "    </tr>\n",
       "    <tr>\n",
       "      <th>3</th>\n",
       "      <td>1</td>\n",
       "      <td>7688</td>\n",
       "      <td>0.982327</td>\n",
       "    </tr>\n",
       "    <tr>\n",
       "      <th>4</th>\n",
       "      <td>0</td>\n",
       "      <td>59</td>\n",
       "      <td>0.239663</td>\n",
       "    </tr>\n",
       "  </tbody>\n",
       "</table>\n",
       "</div>"
      ],
      "text/plain": [
       "   Converted  Lead ID         0\n",
       "0          0     7067  0.001551\n",
       "1          1     5049  0.992648\n",
       "2          0     5467  0.064931\n",
       "3          1     7688  0.982327\n",
       "4          0       59  0.239663"
      ]
     },
     "execution_count": 331,
     "metadata": {},
     "output_type": "execute_result"
    }
   ],
   "source": [
    "y_pred_final.head()"
   ]
  },
  {
   "cell_type": "code",
   "execution_count": 332,
   "id": "912d79b3",
   "metadata": {},
   "outputs": [],
   "source": [
    "# Renaming the column \n",
    "y_pred_final= y_pred_final.rename(columns={ 0 : 'Converted_Prob'})"
   ]
  },
  {
   "cell_type": "code",
   "execution_count": 333,
   "id": "efa31f0c",
   "metadata": {},
   "outputs": [],
   "source": [
    " # Rearranging the columns\n",
    "y_pred_final = y_pred_final.reindex(['Lead ID','Converted','Converted_Prob'], axis=1)\n",
    "# Adding The lead score Column\n",
    "y_pred_final['Lead_Score'] = y_pred_final.Converted_Prob.map( lambda x: round(x*100))"
   ]
  },
  {
   "cell_type": "code",
   "execution_count": 334,
   "id": "33ffd08a",
   "metadata": {},
   "outputs": [
    {
     "data": {
      "text/html": [
       "<div>\n",
       "<style scoped>\n",
       "    .dataframe tbody tr th:only-of-type {\n",
       "        vertical-align: middle;\n",
       "    }\n",
       "\n",
       "    .dataframe tbody tr th {\n",
       "        vertical-align: top;\n",
       "    }\n",
       "\n",
       "    .dataframe thead th {\n",
       "        text-align: right;\n",
       "    }\n",
       "</style>\n",
       "<table border=\"1\" class=\"dataframe\">\n",
       "  <thead>\n",
       "    <tr style=\"text-align: right;\">\n",
       "      <th></th>\n",
       "      <th>Lead ID</th>\n",
       "      <th>Converted</th>\n",
       "      <th>Converted_Prob</th>\n",
       "      <th>Lead_Score</th>\n",
       "    </tr>\n",
       "  </thead>\n",
       "  <tbody>\n",
       "    <tr>\n",
       "      <th>0</th>\n",
       "      <td>7067</td>\n",
       "      <td>0</td>\n",
       "      <td>0.001551</td>\n",
       "      <td>0</td>\n",
       "    </tr>\n",
       "    <tr>\n",
       "      <th>1</th>\n",
       "      <td>5049</td>\n",
       "      <td>1</td>\n",
       "      <td>0.992648</td>\n",
       "      <td>99</td>\n",
       "    </tr>\n",
       "    <tr>\n",
       "      <th>2</th>\n",
       "      <td>5467</td>\n",
       "      <td>0</td>\n",
       "      <td>0.064931</td>\n",
       "      <td>6</td>\n",
       "    </tr>\n",
       "    <tr>\n",
       "      <th>3</th>\n",
       "      <td>7688</td>\n",
       "      <td>1</td>\n",
       "      <td>0.982327</td>\n",
       "      <td>98</td>\n",
       "    </tr>\n",
       "    <tr>\n",
       "      <th>4</th>\n",
       "      <td>59</td>\n",
       "      <td>0</td>\n",
       "      <td>0.239663</td>\n",
       "      <td>24</td>\n",
       "    </tr>\n",
       "    <tr>\n",
       "      <th>5</th>\n",
       "      <td>8501</td>\n",
       "      <td>0</td>\n",
       "      <td>0.001274</td>\n",
       "      <td>0</td>\n",
       "    </tr>\n",
       "    <tr>\n",
       "      <th>6</th>\n",
       "      <td>3639</td>\n",
       "      <td>0</td>\n",
       "      <td>0.003815</td>\n",
       "      <td>0</td>\n",
       "    </tr>\n",
       "    <tr>\n",
       "      <th>7</th>\n",
       "      <td>1490</td>\n",
       "      <td>1</td>\n",
       "      <td>0.986424</td>\n",
       "      <td>99</td>\n",
       "    </tr>\n",
       "    <tr>\n",
       "      <th>8</th>\n",
       "      <td>4608</td>\n",
       "      <td>1</td>\n",
       "      <td>0.987833</td>\n",
       "      <td>99</td>\n",
       "    </tr>\n",
       "    <tr>\n",
       "      <th>9</th>\n",
       "      <td>5141</td>\n",
       "      <td>1</td>\n",
       "      <td>0.992648</td>\n",
       "      <td>99</td>\n",
       "    </tr>\n",
       "  </tbody>\n",
       "</table>\n",
       "</div>"
      ],
      "text/plain": [
       "   Lead ID  Converted  Converted_Prob  Lead_Score\n",
       "0     7067          0        0.001551           0\n",
       "1     5049          1        0.992648          99\n",
       "2     5467          0        0.064931           6\n",
       "3     7688          1        0.982327          98\n",
       "4       59          0        0.239663          24\n",
       "5     8501          0        0.001274           0\n",
       "6     3639          0        0.003815           0\n",
       "7     1490          1        0.986424          99\n",
       "8     4608          1        0.987833          99\n",
       "9     5141          1        0.992648          99"
      ]
     },
     "execution_count": 334,
     "metadata": {},
     "output_type": "execute_result"
    }
   ],
   "source": [
    "# Let's see the head of y_pred_final\n",
    "y_pred_final.head(10)"
   ]
  },
  {
   "cell_type": "code",
   "execution_count": 335,
   "id": "7515c163",
   "metadata": {},
   "outputs": [],
   "source": [
    "y_pred_final['final_predicted'] = y_pred_final.Converted_Prob.map(lambda x: 1 if x > 0.58 else 0)"
   ]
  },
  {
   "cell_type": "code",
   "execution_count": 336,
   "id": "977799c8",
   "metadata": {},
   "outputs": [
    {
     "data": {
      "text/html": [
       "<div>\n",
       "<style scoped>\n",
       "    .dataframe tbody tr th:only-of-type {\n",
       "        vertical-align: middle;\n",
       "    }\n",
       "\n",
       "    .dataframe tbody tr th {\n",
       "        vertical-align: top;\n",
       "    }\n",
       "\n",
       "    .dataframe thead th {\n",
       "        text-align: right;\n",
       "    }\n",
       "</style>\n",
       "<table border=\"1\" class=\"dataframe\">\n",
       "  <thead>\n",
       "    <tr style=\"text-align: right;\">\n",
       "      <th></th>\n",
       "      <th>Lead ID</th>\n",
       "      <th>Converted</th>\n",
       "      <th>Converted_Prob</th>\n",
       "      <th>Lead_Score</th>\n",
       "      <th>final_predicted</th>\n",
       "    </tr>\n",
       "  </thead>\n",
       "  <tbody>\n",
       "    <tr>\n",
       "      <th>0</th>\n",
       "      <td>7067</td>\n",
       "      <td>0</td>\n",
       "      <td>0.001551</td>\n",
       "      <td>0</td>\n",
       "      <td>0</td>\n",
       "    </tr>\n",
       "    <tr>\n",
       "      <th>1</th>\n",
       "      <td>5049</td>\n",
       "      <td>1</td>\n",
       "      <td>0.992648</td>\n",
       "      <td>99</td>\n",
       "      <td>1</td>\n",
       "    </tr>\n",
       "    <tr>\n",
       "      <th>2</th>\n",
       "      <td>5467</td>\n",
       "      <td>0</td>\n",
       "      <td>0.064931</td>\n",
       "      <td>6</td>\n",
       "      <td>0</td>\n",
       "    </tr>\n",
       "    <tr>\n",
       "      <th>3</th>\n",
       "      <td>7688</td>\n",
       "      <td>1</td>\n",
       "      <td>0.982327</td>\n",
       "      <td>98</td>\n",
       "      <td>1</td>\n",
       "    </tr>\n",
       "    <tr>\n",
       "      <th>4</th>\n",
       "      <td>59</td>\n",
       "      <td>0</td>\n",
       "      <td>0.239663</td>\n",
       "      <td>24</td>\n",
       "      <td>0</td>\n",
       "    </tr>\n",
       "    <tr>\n",
       "      <th>5</th>\n",
       "      <td>8501</td>\n",
       "      <td>0</td>\n",
       "      <td>0.001274</td>\n",
       "      <td>0</td>\n",
       "      <td>0</td>\n",
       "    </tr>\n",
       "    <tr>\n",
       "      <th>6</th>\n",
       "      <td>3639</td>\n",
       "      <td>0</td>\n",
       "      <td>0.003815</td>\n",
       "      <td>0</td>\n",
       "      <td>0</td>\n",
       "    </tr>\n",
       "    <tr>\n",
       "      <th>7</th>\n",
       "      <td>1490</td>\n",
       "      <td>1</td>\n",
       "      <td>0.986424</td>\n",
       "      <td>99</td>\n",
       "      <td>1</td>\n",
       "    </tr>\n",
       "    <tr>\n",
       "      <th>8</th>\n",
       "      <td>4608</td>\n",
       "      <td>1</td>\n",
       "      <td>0.987833</td>\n",
       "      <td>99</td>\n",
       "      <td>1</td>\n",
       "    </tr>\n",
       "    <tr>\n",
       "      <th>9</th>\n",
       "      <td>5141</td>\n",
       "      <td>1</td>\n",
       "      <td>0.992648</td>\n",
       "      <td>99</td>\n",
       "      <td>1</td>\n",
       "    </tr>\n",
       "  </tbody>\n",
       "</table>\n",
       "</div>"
      ],
      "text/plain": [
       "   Lead ID  Converted  Converted_Prob  Lead_Score  final_predicted\n",
       "0     7067          0        0.001551           0                0\n",
       "1     5049          1        0.992648          99                1\n",
       "2     5467          0        0.064931           6                0\n",
       "3     7688          1        0.982327          98                1\n",
       "4       59          0        0.239663          24                0\n",
       "5     8501          0        0.001274           0                0\n",
       "6     3639          0        0.003815           0                0\n",
       "7     1490          1        0.986424          99                1\n",
       "8     4608          1        0.987833          99                1\n",
       "9     5141          1        0.992648          99                1"
      ]
     },
     "execution_count": 336,
     "metadata": {},
     "output_type": "execute_result"
    }
   ],
   "source": [
    "y_pred_final.head(10)"
   ]
  },
  {
   "cell_type": "code",
   "execution_count": 337,
   "id": "6ab32f14",
   "metadata": {},
   "outputs": [
    {
     "data": {
      "text/plain": [
       "0.9163673678809646"
      ]
     },
     "execution_count": 337,
     "metadata": {},
     "output_type": "execute_result"
    }
   ],
   "source": [
    "# Let's check the overall accuracy.\n",
    "metrics.accuracy_score(y_pred_final.Converted, y_pred_final.final_predicted)"
   ]
  },
  {
   "cell_type": "code",
   "execution_count": 338,
   "id": "2f860e7f",
   "metadata": {},
   "outputs": [
    {
     "data": {
      "text/plain": [
       "array([[951,  73],\n",
       "       [ 90, 835]], dtype=int64)"
      ]
     },
     "execution_count": 338,
     "metadata": {},
     "output_type": "execute_result"
    }
   ],
   "source": [
    "confusion2 = metrics.confusion_matrix(y_pred_final.Converted, y_pred_final.final_predicted )\n",
    "confusion2"
   ]
  },
  {
   "cell_type": "code",
   "execution_count": 339,
   "id": "a71965a2",
   "metadata": {},
   "outputs": [],
   "source": [
    "TP = confusion2[1,1] # true positive \n",
    "TN = confusion2[0,0] # true negatives\n",
    "FP = confusion2[0,1] # false positives\n",
    "FN = confusion2[1,0] # false negatives"
   ]
  },
  {
   "cell_type": "code",
   "execution_count": 340,
   "id": "edcb5a7f",
   "metadata": {},
   "outputs": [
    {
     "data": {
      "text/plain": [
       "0.9027027027027027"
      ]
     },
     "execution_count": 340,
     "metadata": {},
     "output_type": "execute_result"
    }
   ],
   "source": [
    "# Let's see the sensitivity of our logistic regression model\n",
    "TP / float(TP+FN)"
   ]
  },
  {
   "cell_type": "code",
   "execution_count": 341,
   "id": "b23452c6",
   "metadata": {},
   "outputs": [
    {
     "data": {
      "text/plain": [
       "0.9287109375"
      ]
     },
     "execution_count": 341,
     "metadata": {},
     "output_type": "execute_result"
    }
   ],
   "source": [
    "# Let us calculate specificity\n",
    "TN / float(TN+FP)"
   ]
  },
  {
   "cell_type": "markdown",
   "id": "3bdb107c",
   "metadata": {},
   "source": [
    "### `Final Insight on the test set` -\n",
    "1. Accuracy    - 91.6%\n",
    "2. Sensitivity - 90%\n",
    "3. Specificity - 92.8%"
   ]
  },
  {
   "cell_type": "code",
   "execution_count": 342,
   "id": "ad3f0272",
   "metadata": {},
   "outputs": [
    {
     "data": {
      "text/plain": [
       "array([[951,  73],\n",
       "       [ 90, 835]], dtype=int64)"
      ]
     },
     "execution_count": 342,
     "metadata": {},
     "output_type": "execute_result"
    }
   ],
   "source": [
    "#Looking at the confusion matrix again\n",
    "confusion = metrics.confusion_matrix(y_pred_final.Converted, y_pred_final.final_predicted  )\n",
    "confusion"
   ]
  },
  {
   "cell_type": "code",
   "execution_count": 343,
   "id": "ef7ba728",
   "metadata": {},
   "outputs": [
    {
     "data": {
      "text/plain": [
       "0.9196035242290749"
      ]
     },
     "execution_count": 343,
     "metadata": {},
     "output_type": "execute_result"
    }
   ],
   "source": [
    "# Precision (TP / TP + FP)\n",
    "confusion[1,1]/(confusion[0,1]+confusion[1,1])"
   ]
  },
  {
   "cell_type": "code",
   "execution_count": 344,
   "id": "5466c151",
   "metadata": {},
   "outputs": [
    {
     "data": {
      "text/plain": [
       "0.9027027027027027"
      ]
     },
     "execution_count": 344,
     "metadata": {},
     "output_type": "execute_result"
    }
   ],
   "source": [
    "#Recall (TP / TP + FN)\n",
    "confusion[1,1]/(confusion[1,0]+confusion[1,1])"
   ]
  },
  {
   "cell_type": "code",
   "execution_count": null,
   "id": "4a7ed0fd",
   "metadata": {},
   "outputs": [],
   "source": []
  }
 ],
 "metadata": {
  "kernelspec": {
   "display_name": "Python 3 (ipykernel)",
   "language": "python",
   "name": "python3"
  },
  "language_info": {
   "codemirror_mode": {
    "name": "ipython",
    "version": 3
   },
   "file_extension": ".py",
   "mimetype": "text/x-python",
   "name": "python",
   "nbconvert_exporter": "python",
   "pygments_lexer": "ipython3",
   "version": "3.11.4"
  }
 },
 "nbformat": 4,
 "nbformat_minor": 5
}
